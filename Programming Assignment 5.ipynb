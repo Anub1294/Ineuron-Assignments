{
 "cells": [
  {
   "cell_type": "code",
   "execution_count": 1,
   "id": "6a2a3099-fc70-4c4a-9a06-b3da01c539ae",
   "metadata": {},
   "outputs": [],
   "source": [
    "#ANSWERS"
   ]
  },
  {
   "cell_type": "code",
   "execution_count": 2,
   "id": "72327b12-a8ab-4460-b592-2b37854aafbf",
   "metadata": {},
   "outputs": [
    {
     "name": "stdin",
     "output_type": "stream",
     "text": [
      "Enter first number:  16\n",
      "Enter second number:  12\n"
     ]
    },
    {
     "name": "stdout",
     "output_type": "stream",
     "text": [
      "The LCM of 16 and 12 is 48\n"
     ]
    }
   ],
   "source": [
    "#Q1. Write a Python Program to Find LCM?\n",
    "#Ans. Please find below the code to find LCM:\n",
    "\n",
    "def gcd(a, b):\n",
    "    while b:\n",
    "        a, b = b, a % b\n",
    "    return a\n",
    "def lcm(a, b):\n",
    "    return (a * b) // gcd(a, b)\n",
    "num1 = int(input(\"Enter first number: \"))\n",
    "num2 = int(input(\"Enter second number: \"))\n",
    "lcm_result = lcm(num1, num2)\n",
    "print(f\"The LCM of {num1} and {num2} is {lcm_result}\")\n"
   ]
  },
  {
   "cell_type": "code",
   "execution_count": 3,
   "id": "55ba1333-f8a8-4943-b49d-3e9ffbd2bbab",
   "metadata": {},
   "outputs": [
    {
     "name": "stdin",
     "output_type": "stream",
     "text": [
      "Enter first number:  20\n",
      "Enter second number:  10\n"
     ]
    },
    {
     "name": "stdout",
     "output_type": "stream",
     "text": [
      "The HCF of 20 and 10 is 10\n"
     ]
    }
   ],
   "source": [
    "#Q2. Write a Python Program to Find HCF?\n",
    "#Ans. Please find below the code to find HCF:\n",
    "\n",
    "def gcd(a, b):\n",
    "    while b:\n",
    "        a, b = b, a % b\n",
    "    return a\n",
    "num1 = int(input(\"Enter first number: \"))\n",
    "num2 = int(input(\"Enter second number: \"))\n",
    "hcf_result = gcd(num1, num2)\n",
    "print(f\"The HCF of {num1} and {num2} is {hcf_result}\")\n"
   ]
  },
  {
   "cell_type": "code",
   "execution_count": 4,
   "id": "2e0eaa9c-4b65-4641-9da2-8259ea7b5a4a",
   "metadata": {},
   "outputs": [
    {
     "name": "stdin",
     "output_type": "stream",
     "text": [
      "Enter a decimal number:  6\n"
     ]
    },
    {
     "name": "stdout",
     "output_type": "stream",
     "text": [
      "Binary: 0b110\n",
      "Octal: 0o6\n",
      "Hexadecimal: 0x6\n"
     ]
    }
   ],
   "source": [
    "#Q3. Write a Python Program to Convert Decimal to Binary, Octal and Hexadecimal?\n",
    "#Ans. Please find below the code to convert decimal to binary, octal and hexadecimal:\n",
    "\n",
    "decimal = int(input(\"Enter a decimal number: \"))\n",
    "binary = bin(decimal)\n",
    "octal = oct(decimal)\n",
    "hexadecimal = hex(decimal)\n",
    "print(f\"Binary: {binary}\")\n",
    "print(f\"Octal: {octal}\")\n",
    "print(f\"Hexadecimal: {hexadecimal}\")\n"
   ]
  },
  {
   "cell_type": "code",
   "execution_count": null,
   "id": "bee10f2a-d7cb-4d4f-bb2a-06a1ea8cec16",
   "metadata": {},
   "outputs": [],
   "source": [
    "#Q4. Write a Python Program To Find ASCII value of a character?\n",
    "#Ans. Please find below the code to find ASCII value of a character:\n",
    "\n",
    "character = input(\"Enter a character: \")\n",
    "ascii_value = ord(character)\n",
    "print(f\"The ASCII value of '{character}' is {ascii_value}\")\n"
   ]
  }
 ],
 "metadata": {
  "kernelspec": {
   "display_name": "Python 3 (ipykernel)",
   "language": "python",
   "name": "python3"
  },
  "language_info": {
   "codemirror_mode": {
    "name": "ipython",
    "version": 3
   },
   "file_extension": ".py",
   "mimetype": "text/x-python",
   "name": "python",
   "nbconvert_exporter": "python",
   "pygments_lexer": "ipython3",
   "version": "3.10.6"
  }
 },
 "nbformat": 4,
 "nbformat_minor": 5
}

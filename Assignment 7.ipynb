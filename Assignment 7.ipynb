{
 "cells": [
  {
   "cell_type": "code",
   "execution_count": 1,
   "id": "74b55654-d3d9-4906-970a-2d28e33e693c",
   "metadata": {},
   "outputs": [],
   "source": [
    "#ANSWERS"
   ]
  },
  {
   "cell_type": "code",
   "execution_count": 2,
   "id": "9869d7f2-97a2-4136-89ce-75cdc16a0bb2",
   "metadata": {},
   "outputs": [],
   "source": [
    "#Q1. What is the name of the feature responsible for generating Regex objects?\n",
    "#Ans. The re.compile() function returns Regex objects.\n"
   ]
  },
  {
   "cell_type": "code",
   "execution_count": 4,
   "id": "5cb86659-bd53-4c15-96a5-8d226c3f63cc",
   "metadata": {},
   "outputs": [],
   "source": [
    "#Q2. Why do raw strings often appear in Regex objects?\n",
    "#Ans. Raw strings are used while creating Regex objects so that backlashes do not have to be escaped."
   ]
  },
  {
   "cell_type": "code",
   "execution_count": 9,
   "id": "7bef0fdb-f713-41e4-b806-1f154401cf7d",
   "metadata": {},
   "outputs": [],
   "source": [
    "#Q3. What is the return value of the search() method?\n",
    "#Ans. The search method returns match objects."
   ]
  },
  {
   "cell_type": "code",
   "execution_count": 6,
   "id": "8b8619b5-9840-4d90-9021-d3b0af289c4f",
   "metadata": {},
   "outputs": [],
   "source": [
    "#Q4. From a Match item, how do you get the actual strings that match the pattern?\n",
    "#Ans. The group() method returns strings of the matched text. "
   ]
  },
  {
   "cell_type": "code",
   "execution_count": 7,
   "id": "9c9ced12-25f1-4aad-aae5-c8beb89a3944",
   "metadata": {},
   "outputs": [],
   "source": [
    "#Q5. In the regex which created from the r'(\\d\\d\\d)-(\\d\\d\\d-\\d\\d\\d\\d)', what does group zero cover? Group 2? Group 1?\n",
    "#Ans. Group 0 is the entire match, group 1 covers the first set of parentheses, and group 2 covers the second set of parentheses."
   ]
  },
  {
   "cell_type": "code",
   "execution_count": 8,
   "id": "50985bb1-d906-4004-bd60-4f1c65d6675e",
   "metadata": {},
   "outputs": [],
   "source": [
    "#Q6. In standard expression syntax, parentheses and intervals have distinct meanings. How can you tell a regex that you want it to fit real parentheses and periods?\n",
    "#Ans. Periods and parentheses can be escaped with a backslash: \\., \\(, and \\)."
   ]
  },
  {
   "cell_type": "code",
   "execution_count": 10,
   "id": "49cc1c44-1c07-42cf-9275-9203f1bc806f",
   "metadata": {},
   "outputs": [],
   "source": [
    "#Q7. The findall() method returns a string list or a list of string tuples. What causes it to return one of the two options?\n",
    "#Ans. If the regex has no groups, a list of strings is returned. If the regex has groups, a list of tuples of strings is returned."
   ]
  },
  {
   "cell_type": "code",
   "execution_count": 11,
   "id": "0b1ca92d-d0ba-471a-8704-22b343863113",
   "metadata": {},
   "outputs": [],
   "source": [
    "#Q8. In standard expressions, what does the | character mean?\n",
    "#Ans. The | character signifies matching \"either, or\" between two groups."
   ]
  },
  {
   "cell_type": "code",
   "execution_count": 12,
   "id": "920da52c-37c7-443f-8733-8aafc9ce87d9",
   "metadata": {},
   "outputs": [],
   "source": [
    "#Q9. In regular expressions, what does the character stand for?\n",
    "#Ans. The ? character can either mean \"match zero or one of the preceding group\" or be used to signify nongreedy matching."
   ]
  },
  {
   "cell_type": "code",
   "execution_count": 13,
   "id": "1a81e070-8b44-4e9f-a771-b2c1af073868",
   "metadata": {},
   "outputs": [],
   "source": [
    "#Q10.In regular expressions, what is the difference between the + and * characters?\n",
    "#Ans. The difference between + and * is that the + matches one or more and the * matches zero or more."
   ]
  },
  {
   "cell_type": "code",
   "execution_count": 14,
   "id": "97f2eb14-667b-4b3b-8181-52934555402c",
   "metadata": {},
   "outputs": [],
   "source": [
    "#Q11. What is the difference between {4} and {4,5} in regular expression?\n",
    "#Ans. The {4} matches exactly four instances of the preceding group. The {4,5} matches between four and five instances."
   ]
  },
  {
   "cell_type": "code",
   "execution_count": 15,
   "id": "a6aa203c-181e-4aae-891e-e6357e6ac406",
   "metadata": {},
   "outputs": [],
   "source": [
    "#Q12. What do you mean by the \\d, \\w, and \\s shorthand character classes signify in regular expressions?\n",
    "#Ans. The \\d, \\w, and \\s shorthand character classes match a single digit, word, or space character, respectively."
   ]
  },
  {
   "cell_type": "code",
   "execution_count": 16,
   "id": "97eed5b1-c48c-4c82-9527-e1b97fbe00b7",
   "metadata": {},
   "outputs": [],
   "source": [
    "#Q13. What do means by \\D, \\W, and \\S shorthand character classes signify in regular expressions?\n",
    "#Ans. The \\D, \\W, and \\S shorthand character classes match a single character that is not a digit, word, or space character, respectively."
   ]
  },
  {
   "cell_type": "code",
   "execution_count": 17,
   "id": "da407ada-ec4b-492f-9df0-ee85d4e16a42",
   "metadata": {},
   "outputs": [],
   "source": [
    "#Q14. What is the difference between .*? and .*?\n",
    "#Ans.  The difference between the two is as follows:\n",
    "#\t.*? matches the smallest possible substring that satisfies the pattern (non-greedy).\n",
    "#\t.* matches the longest possible substring that satisfies the pattern (greedy)."
   ]
  },
  {
   "cell_type": "code",
   "execution_count": 18,
   "id": "051e5534-9b44-4264-985a-7c69fffd4823",
   "metadata": {},
   "outputs": [],
   "source": [
    "#Q15. What is the syntax for matching both numbers and lowercase letters with a character class?\n",
    "#Ans. To match both numbers and lowercase letters using a character class in a regular expression, use [0-9a-z]. To match a sequence of such characters, use [0-9a-z]+."
   ]
  },
  {
   "cell_type": "code",
   "execution_count": 19,
   "id": "2347c76b-4c50-4d17-8a94-b8fdf413befa",
   "metadata": {},
   "outputs": [],
   "source": [
    "#Q16. What is the procedure for making a normal expression in regax case insensitive?\n",
    "#Ans. Passing re.I or re.IGNORECASE as the second argument to re.compile() will make the matching case insensitive."
   ]
  },
  {
   "cell_type": "code",
   "execution_count": 20,
   "id": "d36b8784-4e41-4470-9b20-bfae8922ba76",
   "metadata": {},
   "outputs": [],
   "source": [
    "#Q17. What does the . character normally match? What does it match if re.DOTALL is passed as 2nd argument in re.compile()?\n",
    "#Ans. The . character normally matches any character except the newline character. If re.DOTALL is passed as the second argument to re.compile(), then the dot will also match newline characters."
   ]
  },
  {
   "cell_type": "code",
   "execution_count": 21,
   "id": "81eb8a25-ce35-476d-a528-65044cbed2ca",
   "metadata": {},
   "outputs": [],
   "source": [
    "#Q18. If numReg = re.compile(r'\\d+'), what will numRegex.sub('X', '11 drummers, 10 pipers, five rings, 4 hen') return?\n",
    "#Ans. The above mentioned code will return the following :\n",
    "#‘X drummers, X pipers, five rings, X hens’"
   ]
  },
  {
   "cell_type": "code",
   "execution_count": 22,
   "id": "0538e20b-febc-4d8d-bf5a-8d855dc286fe",
   "metadata": {},
   "outputs": [],
   "source": [
    "#Q19. What does passing re.VERBOSE as the 2nd argument to re.compile() allow to do?\n",
    "#Ans. The re.VERBOSE argument allows you to add whitespace and comments to the string passed to re.compile()."
   ]
  },
  {
   "cell_type": "code",
   "execution_count": 24,
   "id": "9b75c217-cf04-4943-8fa6-8cd439980399",
   "metadata": {},
   "outputs": [],
   "source": [
    "#Q20. How would you write a regex that match a number with comma for every three digits? It must match the given following:\n",
    "#'42'\n",
    "#'1,234'\n",
    "#'6,368,745'\n",
    "#but not the following:\n",
    "#'12,34,567' (which has only two digits between the commas)\n",
    "#'1234' (which lacks commas)\n",
    "#Ans. re.compile(r'^\\d{1,3}(,\\d{3})*$') will create this regex, but other regex strings can produce a similar regular expression."
   ]
  },
  {
   "cell_type": "code",
   "execution_count": 27,
   "id": "03c368c1-9161-4815-87f3-dc863cc2fba9",
   "metadata": {},
   "outputs": [
    {
     "name": "stdout",
     "output_type": "stream",
     "text": [
      "Match: Haruto Watanabe\n",
      "Match: Alice Watanabe\n",
      "Match: RoboCop Watanabe\n",
      "No match: haruto Watanabe\n",
      "No match: Mr. Watanabe\n",
      "No match: Watanabe\n",
      "No match: Haruto watanabe\n"
     ]
    }
   ],
   "source": [
    "#Q21. How would you write a regex that matches the full name of someone whose last name is Watanabe? You can assume that the first name that comes before it will always be one word that begins with a capital letter. The regex must match the following:\n",
    "#'Haruto Watanabe'\n",
    "#'Alice Watanabe'\n",
    "#'RoboCop Watanabe'\n",
    "#but not the following:\n",
    "#'haruto Watanabe' (where the first name is not capitalized)\n",
    "#'Mr. Watanabe' (where the preceding word has a nonletter character)\n",
    "#'Watanabe' (which has no first name)\n",
    "#'Haruto watanabe' (where Watanabe is not capitalized)\n",
    "#Ans. To match the full name of someone whose last name is \"Watanabe\" with the given conditions, we can use the following regular expression:\n",
    "\n",
    "#^[A-Z][a-zA-Z]*\\sWatanabe$\n",
    "\n",
    "#Code\n",
    "import re\n",
    "pattern = r\"^[A-Z][a-zA-Z]*\\sWatanabe$\"\n",
    "names = [\n",
    "    'Haruto Watanabe',\n",
    "    'Alice Watanabe',\n",
    "    'RoboCop Watanabe',\n",
    "    'haruto Watanabe',\n",
    "    'Mr. Watanabe',\n",
    "    'Watanabe',\n",
    "    'Haruto watanabe'\n",
    "]\n",
    "for name in names:\n",
    "    if re.match(pattern, name):\n",
    "        print(f\"Match: {name}\")\n",
    "    else:\n",
    "        print(f\"No match: {name}\")\n",
    "        "
   ]
  },
  {
   "cell_type": "code",
   "execution_count": 28,
   "id": "2cecf4da-aaf1-429c-9373-95d47f1c6877",
   "metadata": {},
   "outputs": [
    {
     "name": "stdout",
     "output_type": "stream",
     "text": [
      "Match: Alice eats apples.\n",
      "Match: Bob pets cats.\n",
      "Match: Carol throws baseballs.\n",
      "Match: Alice throws Apples.\n",
      "Match: BOB EATS CATS.\n",
      "No match: RoboCop eats apples.\n",
      "No match: ALICE THROWS FOOTBALLS.\n",
      "No match: Carol eats 7 cats.\n"
     ]
    }
   ],
   "source": [
    "#Q22. How would you write a regex that matches a sentence where the first word is either Alice, Bob, or Carol; the second word is either eats, pets, or throws; the third word is apples, cats, or baseballs; and the sentence ends with a period? This regex should be case-insensitive. It must match the following:\n",
    "#'Alice eats apples.'\n",
    "#'Bob pets cats.'\n",
    "#'Carol throws baseballs.'\n",
    "#'Alice throws Apples.'\n",
    "#'BOB EATS CATS.'\n",
    "#but not the following:\n",
    "#'RoboCop eats apples.'\n",
    "#'ALICE THROWS FOOTBALLS.'\n",
    "#'Carol eats 7 cats.'\n",
    "#Ans. To match sentences that follow the specified pattern, we can use the following case-insensitive regular expression:\n",
    "\n",
    "#^(Alice|Bob|Carol)\\s+(eats|pets|throws)\\s+(apples|cats|baseballs)\\.$\n",
    "\n",
    "#Code\n",
    "import re\n",
    "pattern = r\"^(Alice|Bob|Carol)\\s+(eats|pets|throws)\\s+(apples|cats|baseballs)\\.$\"\n",
    "sentences = [\n",
    "    'Alice eats apples.',\n",
    "    'Bob pets cats.',\n",
    "    'Carol throws baseballs.',\n",
    "    'Alice throws Apples.',\n",
    "    'BOB EATS CATS.',\n",
    "    'RoboCop eats apples.',\n",
    "    'ALICE THROWS FOOTBALLS.',\n",
    "    'Carol eats 7 cats.'\n",
    "]\n",
    "for sentence in sentences:\n",
    "    if re.match(pattern, sentence, re.IGNORECASE):\n",
    "        print(f\"Match: {sentence}\")\n",
    "    else:\n",
    "        print(f\"No match: {sentence}\")\n",
    "\n"
   ]
  },
  {
   "cell_type": "code",
   "execution_count": null,
   "id": "1f701324-e995-476a-8675-2621880dc92e",
   "metadata": {},
   "outputs": [],
   "source": []
  }
 ],
 "metadata": {
  "kernelspec": {
   "display_name": "Python 3 (ipykernel)",
   "language": "python",
   "name": "python3"
  },
  "language_info": {
   "codemirror_mode": {
    "name": "ipython",
    "version": 3
   },
   "file_extension": ".py",
   "mimetype": "text/x-python",
   "name": "python",
   "nbconvert_exporter": "python",
   "pygments_lexer": "ipython3",
   "version": "3.10.6"
  }
 },
 "nbformat": 4,
 "nbformat_minor": 5
}

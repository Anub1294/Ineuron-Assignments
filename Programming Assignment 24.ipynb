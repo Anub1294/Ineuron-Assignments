{
 "cells": [
  {
   "cell_type": "code",
   "execution_count": 1,
   "id": "41b9f05f-69f1-449d-8a1a-7f807c9240d0",
   "metadata": {},
   "outputs": [],
   "source": [
    "#ANSWERS"
   ]
  },
  {
   "cell_type": "code",
   "execution_count": 2,
   "id": "c9664048-3ed4-4e2d-bed2-e8c26e67d40f",
   "metadata": {},
   "outputs": [
    {
     "name": "stdout",
     "output_type": "stream",
     "text": [
      "[1, 2, 3, 40]\n",
      "[1, 2, 3]\n",
      "[1, 2, 3, 40, 5, 6, 7, 80, 9, 10, 11, 120, 13, 14, 15, 160, 17, 18, 19, 200, 21, 22, 23, 240, 25]\n"
     ]
    }
   ],
   "source": [
    "#Question1 Create a function that takes an integer and returns a list from 1 to the given number, where:\n",
    "#1.\tIf the number can be divided evenly by 4, amplify it by 10 (i.e. return 10 times the number).\n",
    "#2.\tIf the number cannot be divided evenly by 4, simply return the number.\n",
    "#Examples\n",
    "#amplify(4) ➞ [1, 2, 3, 40]\n",
    "#amplify(3) ➞ [1, 2, 3]\n",
    "#amplify(25) ➞ [1, 2, 3, 40, 5, 6, 7, 80, 9, 10, 11, 120, 13, 14, 15, 160, 17, 18, 19, 200, 21, 22, 23, 240, 25]\n",
    "#Notes\n",
    "#•\tThe given integer will always be equal to or greater than 1.\n",
    "#•\tInclude the number (see example above).\n",
    "#•\tTo perform this problem with its intended purpose, try doing it with list comprehensions. If that's too difficult, just solve the challenge any way you can.\n",
    "#Ans. Please find below the code:\n",
    "\n",
    "def amplify(num):\n",
    "    return [(x * 10) if (x % 4 == 0) else x for x in range(1, num + 1)]\n",
    "\n",
    "# Test cases\n",
    "print(amplify(4))  # [1, 2, 3, 40]\n",
    "print(amplify(3))  # [1, 2, 3]\n",
    "print(amplify(25))  # [1, 2, 3, 40, 5, 6, 7, 80, 9, 10, 11, 120, 13, 14, 15, 160, 17, 18, 19, 200, 21, 22, 23, 240, 25]\n"
   ]
  },
  {
   "cell_type": "code",
   "execution_count": 3,
   "id": "31927b88-1dfb-4e32-bfd9-99acada2ef1f",
   "metadata": {},
   "outputs": [
    {
     "name": "stdout",
     "output_type": "stream",
     "text": [
      "7\n",
      "0.77\n",
      "0\n"
     ]
    }
   ],
   "source": [
    "#Question2 Create a function that takes a list of numbers and return the number that's unique.\n",
    "#Examples\n",
    "#unique([3, 3, 3, 7, 3, 3]) ➞ 7\n",
    "#unique([0, 0, 0.77, 0, 0]) ➞ 0.77\n",
    "#unique([0, 1, 1, 1, 1, 1, 1, 1]) ➞ 0\n",
    "#Notes\n",
    "#Test cases will always have exactly one unique number while all others are the same.\n",
    "#Ans. Please find below the code:\n",
    "\n",
    "def unique(lst):\n",
    "    for num in lst:\n",
    "        if lst.count(num) == 1:\n",
    "            return num\n",
    "\n",
    "# Test cases\n",
    "print(unique([3, 3, 3, 7, 3, 3]))  # 7\n",
    "print(unique([0, 0, 0.77, 0, 0]))  # 0.77\n",
    "print(unique([0, 1, 1, 1, 1, 1, 1, 1]))  # 0\n"
   ]
  },
  {
   "cell_type": "code",
   "execution_count": 4,
   "id": "8eadfe81-608a-4cdd-95d0-9ca3c10cf891",
   "metadata": {},
   "outputs": [
    {
     "name": "stdout",
     "output_type": "stream",
     "text": [
      "380\n",
      "27.9\n"
     ]
    }
   ],
   "source": [
    "#Question3 Your task is to create a Circle constructor that creates a circle with a radius provided by an argument. The circles constructed must have two getters getArea() (PIr^2) and getPerimeter() (2PI*r) which give both respective areas and perimeter (circumference).\n",
    "#For help with this class, I have provided you with a Rectangle constructor which you can use as a base example.\n",
    "#Examples\n",
    "#circy = Circle(11)\n",
    "#circy.getArea()\n",
    "# Should return 380.132711084365\n",
    "#circy = Circle(4.44)\n",
    "#circy.getPerimeter()\n",
    "# Should return 27.897342763877365\n",
    "#Notes\n",
    "#Round results up to the nearest integer.\n",
    "#Ans. Please find below the code:\n",
    "\n",
    "import math\n",
    "\n",
    "class Circle:\n",
    "    def __init__(self, radius):\n",
    "        self.radius = radius\n",
    "    \n",
    "    def getArea(self):\n",
    "        return round(math.pi * self.radius ** 2)\n",
    "    \n",
    "    def getPerimeter(self):\n",
    "        return round(2 * math.pi * self.radius, 2)\n",
    "\n",
    "# Test cases\n",
    "circy = Circle(11)\n",
    "print(circy.getArea())  # 380\n",
    "\n",
    "circy = Circle(4.44)\n",
    "print(circy.getPerimeter())  # 27.89\n"
   ]
  },
  {
   "cell_type": "code",
   "execution_count": 5,
   "id": "f831c693-b81b-4843-94e8-1d49faf4526f",
   "metadata": {},
   "outputs": [
    {
     "name": "stdout",
     "output_type": "stream",
     "text": [
      "['Apple', 'Google', 'Microsoft']\n",
      "['Raphael', 'Leonardo', 'Donatello', 'Michelangelo']\n",
      "['Jung', 'Turing', 'Einstein']\n"
     ]
    }
   ],
   "source": [
    "#Question4 Create a function that takes a list of strings and return a list, sorted from shortest to longest.\n",
    "#Examples\n",
    "#sort_by_length([\"Google\", \"Apple\", \"Microsoft\"])\n",
    "#➞ [\"Apple\", \"Google\", \"Microsoft\"]\n",
    "#sort_by_length([\"Leonardo\", \"Michelangelo\", \"Raphael\", \"Donatello\"])\n",
    "#➞ [\"Raphael\", \"Leonardo\", \"Donatello\", \"Michelangelo\"]\n",
    "#sort_by_length([\"Turing\", \"Einstein\", \"Jung\"])\n",
    "#➞ [\"Jung\", \"Turing\", \"Einstein\"]\n",
    "#Notes\n",
    "#All test cases contain lists with strings of different lengths, so you won't have to deal with multiple strings of the same length.\n",
    "#Ans. Please find below the code:\n",
    "\n",
    "def sort_by_length(lst):\n",
    "    return sorted(lst, key=len)\n",
    "\n",
    "# Test cases\n",
    "print(sort_by_length([\"Google\", \"Apple\", \"Microsoft\"]))  # [\"Apple\", \"Google\", \"Microsoft\"]\n",
    "print(sort_by_length([\"Leonardo\", \"Michelangelo\", \"Raphael\", \"Donatello\"]))  # [\"Raphael\", \"Leonardo\", \"Donatello\", \"Michelangelo\"]\n",
    "print(sort_by_length([\"Turing\", \"Einstein\", \"Jung\"]))  # [\"Jung\", \"Turing\", \"Einstein\"]\n"
   ]
  },
  {
   "cell_type": "code",
   "execution_count": 6,
   "id": "953cbb08-ad03-462d-b70a-d3e8b8bee654",
   "metadata": {},
   "outputs": [
    {
     "name": "stdout",
     "output_type": "stream",
     "text": [
      "True\n",
      "True\n",
      "False\n"
     ]
    }
   ],
   "source": [
    "#Question5 Create a function that validates whether three given integers form a Pythagorean triplet. The sum of the squares of the two smallest integers must equal the square of the largest number to be validated.\n",
    "#Examples\n",
    "#is_triplet(3, 4, 5) ➞ True\n",
    "# 3² + 4² = 25\n",
    "# 5² = 25\n",
    "\n",
    "#is_triplet(13, 5, 12) ➞ True\n",
    "# 5² + 12² = 169\n",
    "# 13² = 169\n",
    "\n",
    "#is_triplet(1, 2, 3) ➞ False\n",
    "# 1² + 2² = 5\n",
    "# 3² = 9\n",
    "\n",
    "#Notes\n",
    "#Numbers may not be given in a sorted order.\n",
    "\n",
    "#Ans. Please find below the code:\n",
    "\n",
    "def is_triplet(a, b, c):\n",
    "    sides = [a, b, c]\n",
    "    sides.sort()\n",
    "    return sides[0] ** 2 + sides[1] ** 2 == sides[2] ** 2\n",
    "\n",
    "# Test cases\n",
    "print(is_triplet(3, 4, 5))  # True\n",
    "print(is_triplet(13, 5, 12))  # True\n",
    "print(is_triplet(1, 2, 3))  # False\n"
   ]
  },
  {
   "cell_type": "code",
   "execution_count": null,
   "id": "47563a94-44b3-4eb1-af27-61eea4551734",
   "metadata": {},
   "outputs": [],
   "source": []
  }
 ],
 "metadata": {
  "kernelspec": {
   "display_name": "Python 3 (ipykernel)",
   "language": "python",
   "name": "python3"
  },
  "language_info": {
   "codemirror_mode": {
    "name": "ipython",
    "version": 3
   },
   "file_extension": ".py",
   "mimetype": "text/x-python",
   "name": "python",
   "nbconvert_exporter": "python",
   "pygments_lexer": "ipython3",
   "version": "3.10.6"
  }
 },
 "nbformat": 4,
 "nbformat_minor": 5
}

{
 "cells": [
  {
   "cell_type": "code",
   "execution_count": 1,
   "id": "e1fe3858-1f75-4889-b422-62b7070ee5c4",
   "metadata": {},
   "outputs": [],
   "source": [
    "#ANSWERS"
   ]
  },
  {
   "cell_type": "code",
   "execution_count": 2,
   "id": "95951817-cf6d-41c8-bf29-2bdc987fea97",
   "metadata": {},
   "outputs": [
    {
     "name": "stdin",
     "output_type": "stream",
     "text": [
      "Enter the number of rows:  2\n",
      "Enter the number of columns:  3\n"
     ]
    },
    {
     "name": "stdout",
     "output_type": "stream",
     "text": [
      "Enter elements for the first matrix:\n"
     ]
    },
    {
     "name": "stdin",
     "output_type": "stream",
     "text": [
      "Enter row 1 elements separated by spaces:  4\n",
      "Enter row 2 elements separated by spaces:  5\n"
     ]
    },
    {
     "name": "stdout",
     "output_type": "stream",
     "text": [
      "Enter elements for the second matrix:\n"
     ]
    },
    {
     "name": "stdin",
     "output_type": "stream",
     "text": [
      "Enter row 1 elements separated by spaces:  6\n",
      "Enter row 2 elements separated by spaces:  7\n"
     ]
    },
    {
     "name": "stdout",
     "output_type": "stream",
     "text": [
      "Resultant matrix after addition:\n",
      "[10]\n",
      "[12]\n"
     ]
    }
   ],
   "source": [
    "#Q1. Write a Python Program to Add Two Matrices?\n",
    "#Ans. Please find below the code to add two matrices:\n",
    "\n",
    "def add_matrices(mat1, mat2):\n",
    "    result = [[mat1[i][j] + mat2[i][j] for j in range(len(mat1[0]))] for i in range(len(mat1))]\n",
    "    return result\n",
    "def input_matrix(rows, cols):\n",
    "    mat = []\n",
    "    for i in range(rows):\n",
    "        row = [int(x) for x in input(f\"Enter row {i + 1} elements separated by spaces: \").split()]\n",
    "        mat.append(row)\n",
    "    return mat\n",
    "rows = int(input(\"Enter the number of rows: \"))\n",
    "cols = int(input(\"Enter the number of columns: \"))\n",
    "print(\"Enter elements for the first matrix:\")\n",
    "matrix1 = input_matrix(rows, cols)\n",
    "print(\"Enter elements for the second matrix:\")\n",
    "matrix2 = input_matrix(rows, cols)\n",
    "sum_matrix = add_matrices(matrix1, matrix2)\n",
    "print(\"Resultant matrix after addition:\")\n",
    "for row in sum_matrix:\n",
    "    print(row)\n"
   ]
  },
  {
   "cell_type": "code",
   "execution_count": 10,
   "id": "72cedee6-2fbc-42eb-bccb-a5b77d06f542",
   "metadata": {},
   "outputs": [
    {
     "name": "stdin",
     "output_type": "stream",
     "text": [
      "Enter the number of rows for the first matrix:  1\n",
      "Enter the number of columns for the first matrix:  2\n",
      "Enter the number of rows for the second matrix:  3\n",
      "Enter the number of columns for the second matrix:  4\n"
     ]
    },
    {
     "name": "stdout",
     "output_type": "stream",
     "text": [
      "Matrix multiplication not possible due to mismatched dimensions.\n"
     ]
    }
   ],
   "source": [
    "#Q2. Write a Python Program to Multiply Two Matrices?\n",
    "#Ans. Please find below the code to multiply two matrices:\n",
    "\n",
    "def multiply_matrices(mat1, mat2):\n",
    "    result = [[sum(mat1[i][k] * mat2[k][j] for k in range(len(mat2))) for j in range(len(mat2[0]))] for i in range(len(mat1))]\n",
    "    return result\n",
    "\n",
    "def input_matrix(rows, cols):\n",
    "    mat = []\n",
    "    for i in range(rows):\n",
    "        row = [int(x) for x in input(f\"Enter row {i + 1} elements separated by spaces: \").split()]\n",
    "        mat.append(row)\n",
    "    return mat\n",
    "\n",
    "rows1 = int(input(\"Enter the number of rows for the first matrix: \"))\n",
    "cols1 = int(input(\"Enter the number of columns for the first matrix: \"))\n",
    "rows2 = int(input(\"Enter the number of rows for the second matrix: \"))\n",
    "cols2 = int(input(\"Enter the number of columns for the second matrix: \"))\n",
    "\n",
    "if cols1 != rows2:\n",
    "    print(\"Matrix multiplication not possible due to mismatched dimensions.\")\n",
    "else:\n",
    "    print(\"Enter elements for the first matrix:\")\n",
    "    matrix1 = input_matrix(rows1, cols1)\n",
    "    print(\"Enter elements for the second matrix:\")\n",
    "    matrix2 = input_matrix(rows2, cols2)\n",
    "    product_matrix = multiply_matrices(matrix1, matrix2)\n",
    "    print(\"Resultant matrix after multiplication:\")\n",
    "    for row in product_matrix:\n",
    "        print(row)"
   ]
  },
  {
   "cell_type": "code",
   "execution_count": null,
   "id": "1ddf592a-ea57-4179-9a6c-1fe154da3ae3",
   "metadata": {},
   "outputs": [
    {
     "name": "stdin",
     "output_type": "stream",
     "text": [
      "Enter the number of rows:  1\n",
      "Enter the number of columns:  2\n"
     ]
    },
    {
     "name": "stdout",
     "output_type": "stream",
     "text": [
      "Enter elements for the matrix:\n"
     ]
    },
    {
     "name": "stdin",
     "output_type": "stream",
     "text": [
      "Enter row 1 elements separated by spaces:  3\n"
     ]
    },
    {
     "name": "stdout",
     "output_type": "stream",
     "text": [
      "Transposed matrix:\n",
      "[3]\n"
     ]
    }
   ],
   "source": [
    "#Q3. Write a Python Program to Transpose a Matrix?\n",
    "#Ans. Please find below the code to transpose a matrix:\n",
    "\n",
    "def transpose_matrix(mat):\n",
    "    transposed = [[mat[j][i] for j in range(len(mat))] for i in range(len(mat[0]))]\n",
    "    return transposed\n",
    "def input_matrix(rows, cols):\n",
    "    mat = []\n",
    "    for i in range(rows):\n",
    "        row = [int(x) for x in input(f\"Enter row {i + 1} elements separated by spaces: \").split()]\n",
    "        mat.append(row)\n",
    "    return mat\n",
    "rows = int(input(\"Enter the number of rows: \"))\n",
    "cols = int(input(\"Enter the number of columns: \"))\n",
    "print(\"Enter elements for the matrix:\")\n",
    "matrix = input_matrix(rows, cols)\n",
    "transposed_matrix = transpose_matrix(matrix)\n",
    "print(\"Transposed matrix:\")\n",
    "for row in transposed_matrix:\n",
    "    print(row)\n"
   ]
  },
  {
   "cell_type": "code",
   "execution_count": 8,
   "id": "645b87a4-22ca-4e3b-91b2-3db793b32b3f",
   "metadata": {},
   "outputs": [
    {
     "name": "stdin",
     "output_type": "stream",
     "text": [
      "Enter a sentence:  I am attending ineuron classes\n"
     ]
    },
    {
     "name": "stdout",
     "output_type": "stream",
     "text": [
      "Sorted words in the sentence:\n",
      "I\n",
      "am\n",
      "attending\n",
      "classes\n",
      "ineuron\n"
     ]
    }
   ],
   "source": [
    "#Q4. Write a Python Program to Sort Words in Alphabetic Order?\n",
    "#Ans. Please find below the code to sort words in alphabetic order:\n",
    "\n",
    "def sort_words(sentence):\n",
    "    words = sentence.split()\n",
    "    words.sort()\n",
    "    return words\n",
    "sentence = input(\"Enter a sentence: \")\n",
    "sorted_words = sort_words(sentence)\n",
    "print(\"Sorted words in the sentence:\")\n",
    "for word in sorted_words:\n",
    "    print(word)\n"
   ]
  },
  {
   "cell_type": "code",
   "execution_count": 9,
   "id": "b640ad60-5f4d-457c-ac14-c0932d7c5ff0",
   "metadata": {},
   "outputs": [
    {
     "name": "stdin",
     "output_type": "stream",
     "text": [
      "Enter a string:  \"Hello, Python\"\n"
     ]
    },
    {
     "name": "stdout",
     "output_type": "stream",
     "text": [
      "String without punctuation: Hello Python\n"
     ]
    }
   ],
   "source": [
    "#Q5. Write a Python Program to Remove Punctuation From a String?\n",
    "#Ans. Please find below the code to remove punctuation from a string:\n",
    "\n",
    "import string\n",
    "def remove_punctuation(text):\n",
    "    no_punct = text.translate(str.maketrans(\"\", \"\", string.punctuation))\n",
    "    return no_punct\n",
    "text = input(\"Enter a string: \")\n",
    "text_without_punct = remove_punctuation(text)\n",
    "print(\"String without punctuation:\", text_without_punct)\n"
   ]
  },
  {
   "cell_type": "code",
   "execution_count": null,
   "id": "2b76d49a-369d-4803-838d-c7a78a1c6053",
   "metadata": {},
   "outputs": [],
   "source": []
  }
 ],
 "metadata": {
  "kernelspec": {
   "display_name": "Python 3 (ipykernel)",
   "language": "python",
   "name": "python3"
  },
  "language_info": {
   "codemirror_mode": {
    "name": "ipython",
    "version": 3
   },
   "file_extension": ".py",
   "mimetype": "text/x-python",
   "name": "python",
   "nbconvert_exporter": "python",
   "pygments_lexer": "ipython3",
   "version": "3.10.6"
  }
 },
 "nbformat": 4,
 "nbformat_minor": 5
}

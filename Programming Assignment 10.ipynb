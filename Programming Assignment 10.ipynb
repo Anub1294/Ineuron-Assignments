{
 "cells": [
  {
   "cell_type": "code",
   "execution_count": 1,
   "id": "e123c107-d042-4ec8-b045-ecc094f0c902",
   "metadata": {},
   "outputs": [],
   "source": [
    "#ANSWERS"
   ]
  },
  {
   "cell_type": "code",
   "execution_count": 2,
   "id": "c4a49ae0-d0bf-4b1b-85c4-d8512327fe66",
   "metadata": {},
   "outputs": [
    {
     "name": "stdin",
     "output_type": "stream",
     "text": [
      "Enter the list elements separated by spaces:  24\n"
     ]
    },
    {
     "name": "stdout",
     "output_type": "stream",
     "text": [
      "The sum of elements in the list is 24\n"
     ]
    }
   ],
   "source": [
    "#Q1. Write a Python program to find sum of elements in list?\n",
    "#Ans. Please find below the code to find sum of elements in list:\n",
    "\n",
    "def sum_of_elements(lst):\n",
    "    total = sum(lst)\n",
    "    return total\n",
    "my_list = [int(x) for x in input(\"Enter the list elements separated by spaces: \").split()]\n",
    "result = sum_of_elements(my_list)\n",
    "print(f\"The sum of elements in the list is {result}\")\n"
   ]
  },
  {
   "cell_type": "code",
   "execution_count": 3,
   "id": "21792f2c-2e56-457f-a94a-870d3dce91aa",
   "metadata": {},
   "outputs": [
    {
     "name": "stdin",
     "output_type": "stream",
     "text": [
      "Enter the list elements separated by spaces:  26\n"
     ]
    },
    {
     "name": "stdout",
     "output_type": "stream",
     "text": [
      "The product of all numbers in the list is 26\n"
     ]
    }
   ],
   "source": [
    "#Q2. Write a Python program to Multiply all numbers in the list?\n",
    "#Ans. Please find below the code to multiply all numbers in the list:\n",
    "\n",
    "def multiply_list(lst):\n",
    "    result = 1\n",
    "    for num in lst:\n",
    "        result *= num\n",
    "    return result\n",
    "my_list = [int(x) for x in input(\"Enter the list elements separated by spaces: \").split()]\n",
    "result = multiply_list(my_list)\n",
    "print(f\"The product of all numbers in the list is {result}\")\n"
   ]
  },
  {
   "cell_type": "code",
   "execution_count": 4,
   "id": "17289105-ed7e-4ad3-a533-38cfb0576e73",
   "metadata": {},
   "outputs": [
    {
     "name": "stdin",
     "output_type": "stream",
     "text": [
      "Enter the list elements separated by spaces:  48\n"
     ]
    },
    {
     "name": "stdout",
     "output_type": "stream",
     "text": [
      "The smallest number in the list is 48\n"
     ]
    }
   ],
   "source": [
    "#Q3. Write a Python program to find smallest number in a list?\n",
    "#Ans. Please find below the code to find smallest number in a list:\n",
    "\n",
    "def find_smallest(lst):\n",
    "    smallest = min(lst)\n",
    "    return smallest\n",
    "my_list = [int(x) for x in input(\"Enter the list elements separated by spaces: \").split()]\n",
    "result = find_smallest(my_list)\n",
    "print(f\"The smallest number in the list is {result}\")\n"
   ]
  },
  {
   "cell_type": "code",
   "execution_count": 5,
   "id": "fa214e54-390b-49a9-b7e5-65935182afdb",
   "metadata": {},
   "outputs": [
    {
     "name": "stdin",
     "output_type": "stream",
     "text": [
      "Enter the list elements separated by spaces:  42\n"
     ]
    },
    {
     "name": "stdout",
     "output_type": "stream",
     "text": [
      "The largest number in the list is 42\n"
     ]
    }
   ],
   "source": [
    "#Q4. Write a Python program to find largest number in a list?\n",
    "#Ans. Please find below the code to find largest number in a list:\n",
    "\n",
    "def find_largest(lst):\n",
    "    largest = max(lst)\n",
    "    return largest\n",
    "my_list = [int(x) for x in input(\"Enter the list elements separated by spaces: \").split()]\n",
    "result = find_largest(my_list)\n",
    "print(f\"The largest number in the list is {result}\") \n"
   ]
  },
  {
   "cell_type": "code",
   "execution_count": 8,
   "id": "e09d9abe-83d4-41de-8385-b84c47fc4ce1",
   "metadata": {},
   "outputs": [
    {
     "name": "stdout",
     "output_type": "stream",
     "text": [
      "The second largest number in the list is 42\n"
     ]
    }
   ],
   "source": [
    "#Q5. Write a Python program to find second largest number in a list?\n",
    "#Ans. Please find below the code to find second largest number in a list:\n",
    "\n",
    "def find_second_largest(lst):\n",
    "    sorted_lst = sorted(lst, reverse=True)\n",
    "    return sorted_lst[1]\n",
    "    my_list = [int(x) for x in input(\"Enter the list elements separated by spaces: \").split()]\n",
    "    result = find_second_largest(my_list)\n",
    "print(f\"The second largest number in the list is {result}\")\n"
   ]
  },
  {
   "cell_type": "code",
   "execution_count": 9,
   "id": "583d29c8-8d22-490f-96c8-0fd361898729",
   "metadata": {},
   "outputs": [
    {
     "name": "stdin",
     "output_type": "stream",
     "text": [
      "Enter the list elements separated by spaces:  28\n",
      "Enter the value of N:  23\n"
     ]
    },
    {
     "name": "stdout",
     "output_type": "stream",
     "text": [
      "The 23 largest elements in the list are [28]\n"
     ]
    }
   ],
   "source": [
    "#Q6. Write a Python program to find N largest elements from a list?\n",
    "#Ans. Please find below the code to find N largest elements from a list:\n",
    "\n",
    "def find_n_largest(lst, n):\n",
    "    sorted_lst = sorted(lst, reverse=True)\n",
    "    return sorted_lst[:n]\n",
    "my_list = [int(x) for x in input(\"Enter the list elements separated by spaces: \").split()]\n",
    "n = int(input(\"Enter the value of N: \"))\n",
    "result = find_n_largest(my_list, n)\n",
    "print(f\"The {n} largest elements in the list are {result}\")\n"
   ]
  },
  {
   "cell_type": "code",
   "execution_count": null,
   "id": "fbd94d50-8977-417b-bb13-f2f274ace9e3",
   "metadata": {},
   "outputs": [],
   "source": [
    "#Q7. Write a Python program to print even numbers in a list?\n",
    "Ans. Please find below the code to print even numbers in a list:\n",
    "def print_even_numbers(lst):\n",
    "    even_numbers = [num for num in lst if num % 2 == 0]\n",
    "    return even_numbers\n",
    "my_list = [int(x) for x in input(\"Enter the list elements separated by spaces: \").split()]\n",
    "result = print_even_numbers(my_list)\n",
    "print(f\"The even numbers in the list are {result}\")\n"
   ]
  }
 ],
 "metadata": {
  "kernelspec": {
   "display_name": "Python 3 (ipykernel)",
   "language": "python",
   "name": "python3"
  },
  "language_info": {
   "codemirror_mode": {
    "name": "ipython",
    "version": 3
   },
   "file_extension": ".py",
   "mimetype": "text/x-python",
   "name": "python",
   "nbconvert_exporter": "python",
   "pygments_lexer": "ipython3",
   "version": "3.10.6"
  }
 },
 "nbformat": 4,
 "nbformat_minor": 5
}

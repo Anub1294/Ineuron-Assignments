{
 "cells": [
  {
   "cell_type": "code",
   "execution_count": 1,
   "id": "f4e943ad-f1fe-43ca-95ac-99246205d7b9",
   "metadata": {},
   "outputs": [],
   "source": [
    "#ANSWERS"
   ]
  },
  {
   "cell_type": "code",
   "execution_count": 2,
   "id": "08eea63b-227f-42b9-9c81-eef454830b03",
   "metadata": {},
   "outputs": [
    {
     "name": "stdin",
     "output_type": "stream",
     "text": [
      "Enter the array elements separated by spaces:  4\n"
     ]
    },
    {
     "name": "stdout",
     "output_type": "stream",
     "text": [
      "The sum of the array elements is 4\n"
     ]
    }
   ],
   "source": [
    "#Q1. Write a Python Program to find sum of array?\n",
    "#Ans. Please find below the code to find sum of array:\n",
    "\n",
    "def sum_of_array(arr):\n",
    "    total = sum(arr)\n",
    "    return total\n",
    "arr = [int(x) for x in input(\"Enter the array elements separated by spaces: \").split()]\n",
    "array_sum = sum_of_array(arr)\n",
    "print(f\"The sum of the array elements is {array_sum}\")\n"
   ]
  },
  {
   "cell_type": "code",
   "execution_count": 3,
   "id": "39e3f626-9a29-4f48-8fe9-622fb56fcbf4",
   "metadata": {},
   "outputs": [
    {
     "name": "stdin",
     "output_type": "stream",
     "text": [
      "Enter the array elements separated by spaces:  24\n"
     ]
    },
    {
     "name": "stdout",
     "output_type": "stream",
     "text": [
      "The largest element in the array is 24\n"
     ]
    }
   ],
   "source": [
    "#Q2. Write a Python Program to find largest element in an array?\n",
    "#Ans. Please find below the code to find largest element in an array:\n",
    "\n",
    "def find_largest_element(arr):\n",
    "    max_element = max(arr)\n",
    "    return max_element\n",
    "arr = [int(x) for x in input(\"Enter the array elements separated by spaces: \").split()]\n",
    "largest_element = find_largest_element(arr)\n",
    "print(f\"The largest element in the array is {largest_element}\")\n"
   ]
  },
  {
   "cell_type": "code",
   "execution_count": 4,
   "id": "12e34f7e-e7e9-4a0e-913c-208bc84d5e89",
   "metadata": {},
   "outputs": [
    {
     "name": "stdin",
     "output_type": "stream",
     "text": [
      "Enter the array elements separated by spaces:  17\n",
      "Enter the rotation count:  2\n"
     ]
    },
    {
     "name": "stdout",
     "output_type": "stream",
     "text": [
      "Array after rotation: [17]\n"
     ]
    }
   ],
   "source": [
    "#Q3. Write a Python Program for array rotation?\n",
    "#Ans. Please find below the code for array rotation:\n",
    "\n",
    "def rotate_array(arr, d):\n",
    "    n = len(arr)\n",
    "    d = d % n  # To handle rotations larger than array size\n",
    "    rotated_arr = arr[d:] + arr[:d]\n",
    "    return rotated_arr\n",
    "arr = [int(x) for x in input(\"Enter the array elements separated by spaces: \").split()]\n",
    "rotation = int(input(\"Enter the rotation count: \"))\n",
    "rotated_array = rotate_array(arr, rotation)\n",
    "print(\"Array after rotation:\", rotated_array)\n"
   ]
  },
  {
   "cell_type": "code",
   "execution_count": null,
   "id": "355aed8b-edfc-47b4-b7b1-b88e2f64624b",
   "metadata": {},
   "outputs": [],
   "source": []
  }
 ],
 "metadata": {
  "kernelspec": {
   "display_name": "Python 3 (ipykernel)",
   "language": "python",
   "name": "python3"
  },
  "language_info": {
   "codemirror_mode": {
    "name": "ipython",
    "version": 3
   },
   "file_extension": ".py",
   "mimetype": "text/x-python",
   "name": "python",
   "nbconvert_exporter": "python",
   "pygments_lexer": "ipython3",
   "version": "3.10.6"
  }
 },
 "nbformat": 4,
 "nbformat_minor": 5
}

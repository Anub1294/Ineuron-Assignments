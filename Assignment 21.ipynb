{
 "cells": [
  {
   "cell_type": "code",
   "execution_count": 1,
   "id": "88a5ea1f-b8fd-40ac-9bce-dff160d07970",
   "metadata": {},
   "outputs": [],
   "source": [
    "#ANSWERS"
   ]
  },
  {
   "cell_type": "code",
   "execution_count": 2,
   "id": "75803de4-8e28-4f9b-9896-fc18211ec817",
   "metadata": {},
   "outputs": [
    {
     "name": "stdout",
     "output_type": "stream",
     "text": [
      "Current date added to today.txt\n"
     ]
    }
   ],
   "source": [
    "#Q1. Add the current date to the text file today.txt as a string.\n",
    "#Ans. Please find below the code:\n",
    "\n",
    "from datetime import datetime\n",
    "\n",
    "# Get the current date as a string\n",
    "current_date = datetime.now().strftime('%Y-%m-%d %H:%M:%S')\n",
    "\n",
    "# Write the current date to the file today.txt\n",
    "with open('today.txt', 'a') as file:\n",
    "    file.write(current_date + '\\n')\n",
    "\n",
    "print(\"Current date added to today.txt\")\n"
   ]
  },
  {
   "cell_type": "code",
   "execution_count": 3,
   "id": "07fc0f52-2d8c-4854-a6b7-9ed84a656db3",
   "metadata": {},
   "outputs": [
    {
     "name": "stdout",
     "output_type": "stream",
     "text": [
      "Contents of today.txt:\n",
      "2023-08-11 12:48:34\n",
      "\n"
     ]
    }
   ],
   "source": [
    "#Q2. Read the text file today.txt into the string today_string\n",
    "#Ans. Please find below the code:\n",
    "\n",
    "# Read the contents of the file today.txt into the string today_string\n",
    "with open('today.txt', 'r') as file:\n",
    "    today_string = file.read()\n",
    "\n",
    "print(\"Contents of today.txt:\")\n",
    "print(today_string)\n"
   ]
  },
  {
   "cell_type": "code",
   "execution_count": 4,
   "id": "21e957b5-9b44-4cb1-b544-6bae0061f09d",
   "metadata": {},
   "outputs": [
    {
     "name": "stdout",
     "output_type": "stream",
     "text": [
      "Parsed Date: 2023-08-10 14:30:00\n",
      "Year: 2023\n",
      "Month: 8\n",
      "Day: 10\n",
      "Hour: 14\n",
      "Minute: 30\n",
      "Second: 0\n"
     ]
    }
   ],
   "source": [
    "#Q3. Parse the date from today_string.\n",
    "#Ans. Please find below the code:\n",
    "\n",
    "from datetime import datetime\n",
    "\n",
    "# Sample date string format: '2023-08-10 14:30:00'\n",
    "sample_date_string = '2023-08-10 14:30:00'\n",
    "\n",
    "# Parse the date string into a datetime object\n",
    "parsed_date = datetime.strptime(sample_date_string, '%Y-%m-%d %H:%M:%S')\n",
    "\n",
    "# Print the parsed date\n",
    "print(\"Parsed Date:\", parsed_date)\n",
    "print(\"Year:\", parsed_date.year)\n",
    "print(\"Month:\", parsed_date.month)\n",
    "print(\"Day:\", parsed_date.day)\n",
    "print(\"Hour:\", parsed_date.hour)\n",
    "print(\"Minute:\", parsed_date.minute)\n",
    "print(\"Second:\", parsed_date.second)\n"
   ]
  },
  {
   "cell_type": "code",
   "execution_count": 5,
   "id": "d918d2d3-1623-4480-bd8f-ee78f35078e5",
   "metadata": {},
   "outputs": [
    {
     "name": "stdout",
     "output_type": "stream",
     "text": [
      "Files in the current directory:\n",
      "README.md\n",
      "sample-code.ipynb\n",
      "Untitled.ipynb\n",
      "today.txt\n"
     ]
    }
   ],
   "source": [
    "#Q4. List the files in your current directory\n",
    "#Ans. Please find below the code:\n",
    "\n",
    "import os\n",
    "\n",
    "# Get the list of files in the current directory\n",
    "files = os.listdir()\n",
    "\n",
    "# Print the list of files\n",
    "print(\"Files in the current directory:\")\n",
    "for file in files:\n",
    "    if os.path.isfile(file):  # Check if it's a regular file\n",
    "        print(file)\n"
   ]
  },
  {
   "cell_type": "code",
   "execution_count": 6,
   "id": "fd119d7c-e4e9-4694-b0c9-cfd71729dc52",
   "metadata": {},
   "outputs": [
    {
     "name": "stdout",
     "output_type": "stream",
     "text": [
      "Files in the parent directory:\n",
      ".profile\n",
      ".bash_logout\n",
      ".bashrc\n",
      ".wget-hsts\n"
     ]
    }
   ],
   "source": [
    "#Q5. Create a list of all of the files in your parent directory (minimum five files should be available).\n",
    "#Ans. Please find below the code:\n",
    "\n",
    "import os\n",
    "\n",
    "# Get the parent directory path\n",
    "parent_directory = os.path.abspath('..')\n",
    "\n",
    "# Get the list of files in the parent directory\n",
    "files_in_parent = os.listdir(parent_directory)\n",
    "\n",
    "# Print the list of files in the parent directory\n",
    "print(\"Files in the parent directory:\")\n",
    "for file in files_in_parent:\n",
    "    if os.path.isfile(os.path.join(parent_directory, file)):  # Check if it's a regular file\n",
    "        print(file)\n"
   ]
  },
  {
   "cell_type": "code",
   "execution_count": 7,
   "id": "26c978cc-6865-4e39-83be-a5cb23483825",
   "metadata": {},
   "outputs": [
    {
     "name": "stdout",
     "output_type": "stream",
     "text": [
      "Process 1 sleeping for 5 seconds...Process 2 sleeping for 1 seconds...\n",
      "\n",
      "Process 3 sleeping for 4 seconds...\n",
      "Process 2 woke up at 2023-08-11 12:53:10\n",
      "Process 3 woke up at 2023-08-11 12:53:13\n",
      "Process 1 woke up at 2023-08-11 12:53:14\n",
      "All processes have finished.\n"
     ]
    }
   ],
   "source": [
    "#Q6. Use multiprocessing to create three separate processes. Make each one wait a random number of seconds between one and five, print the current time, and then exit.\n",
    "#Ans. Please find below the code:\n",
    "\n",
    "import multiprocessing\n",
    "import random\n",
    "import time\n",
    "from datetime import datetime\n",
    "\n",
    "def worker(process_number):\n",
    "    sleep_time = random.randint(1, 5)\n",
    "    print(f\"Process {process_number} sleeping for {sleep_time} seconds...\")\n",
    "    time.sleep(sleep_time)\n",
    "    current_time = datetime.now().strftime('%Y-%m-%d %H:%M:%S')\n",
    "    print(f\"Process {process_number} woke up at {current_time}\")\n",
    "\n",
    "if __name__ == \"__main__\":\n",
    "    processes = []\n",
    "    for i in range(3):\n",
    "        process = multiprocessing.Process(target=worker, args=(i+1,))\n",
    "        processes.append(process)\n",
    "        process.start()\n",
    "\n",
    "    for process in processes:\n",
    "        process.join()\n",
    "\n",
    "    print(\"All processes have finished.\")\n"
   ]
  },
  {
   "cell_type": "code",
   "execution_count": 8,
   "id": "98ef63af-9d68-4e34-87c1-3c08c20fe7fa",
   "metadata": {},
   "outputs": [
    {
     "name": "stdout",
     "output_type": "stream",
     "text": [
      "Your day of birth: 2000-08-10\n"
     ]
    }
   ],
   "source": [
    "#Q7. Create a date object of your day of birth.\n",
    "#Ans. Please find below the code:\n",
    "\n",
    "from datetime import date\n",
    "\n",
    "# Replace these values with your actual date of birth\n",
    "year = 2000\n",
    "month = 8\n",
    "day = 10\n",
    "\n",
    "# Create a date object for your day of birth\n",
    "birth_date = date(year, month, day)\n",
    "\n",
    "print(\"Your day of birth:\", birth_date)\n"
   ]
  },
  {
   "cell_type": "code",
   "execution_count": 9,
   "id": "f86fd5f1-b72c-4a43-9b1d-e5473f581c10",
   "metadata": {},
   "outputs": [
    {
     "name": "stdout",
     "output_type": "stream",
     "text": [
      "Your day of birth, 2000-08-10, was a Thursday.\n"
     ]
    }
   ],
   "source": [
    "#Q8. What day of the week was your day of birth?\n",
    "#Ans. Please find below the code:\n",
    "\n",
    "from datetime import date\n",
    "\n",
    "# Replace these values with your actual date of birth\n",
    "year = 2000\n",
    "month = 8\n",
    "day = 10\n",
    "\n",
    "# Create a date object for your day of birth\n",
    "birth_date = date(year, month, day)\n",
    "\n",
    "# Get the day of the week (0=Monday, 6=Sunday)\n",
    "day_of_week = birth_date.weekday()\n",
    "\n",
    "# Map day of the week to the name of the day\n",
    "days = [\"Monday\", \"Tuesday\", \"Wednesday\", \"Thursday\", \"Friday\", \"Saturday\", \"Sunday\"]\n",
    "day_name = days[day_of_week]\n",
    "\n",
    "print(f\"Your day of birth, {birth_date}, was a {day_name}.\")\n"
   ]
  },
  {
   "cell_type": "code",
   "execution_count": 10,
   "id": "d285aca4-53a7-4959-bc97-34a74115d074",
   "metadata": {},
   "outputs": [
    {
     "name": "stdout",
     "output_type": "stream",
     "text": [
      "You will be (or were) 10,000 days old on: 2027-12-27\n"
     ]
    }
   ],
   "source": [
    "#Q9. When will you be (or when were you) 10,000 days old?\n",
    "#Ans. Please find below the code:\n",
    "\n",
    "from datetime import date, timedelta\n",
    "\n",
    "# Replace these values with your actual date of birth\n",
    "year = 2000\n",
    "month = 8\n",
    "day = 10\n",
    "\n",
    "# Number of days to add\n",
    "days_to_add = 10000\n",
    "\n",
    "# Create a date object for your day of birth\n",
    "birth_date = date(year, month, day)\n",
    "\n",
    "# Calculate the date when you will be (or were) 10,000 days old\n",
    "future_date = birth_date + timedelta(days=days_to_add)\n",
    "\n",
    "print(f\"You will be (or were) 10,000 days old on: {future_date}\")\n"
   ]
  },
  {
   "cell_type": "code",
   "execution_count": null,
   "id": "7aa5da0f-ccd2-4764-bd31-ceea92d6d7dc",
   "metadata": {},
   "outputs": [],
   "source": []
  }
 ],
 "metadata": {
  "kernelspec": {
   "display_name": "Python 3 (ipykernel)",
   "language": "python",
   "name": "python3"
  },
  "language_info": {
   "codemirror_mode": {
    "name": "ipython",
    "version": 3
   },
   "file_extension": ".py",
   "mimetype": "text/x-python",
   "name": "python",
   "nbconvert_exporter": "python",
   "pygments_lexer": "ipython3",
   "version": "3.10.6"
  }
 },
 "nbformat": 4,
 "nbformat_minor": 5
}

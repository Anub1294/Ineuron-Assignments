{
 "cells": [
  {
   "cell_type": "code",
   "execution_count": 1,
   "id": "75e2804d-5019-47b7-b49b-60736958b761",
   "metadata": {},
   "outputs": [],
   "source": [
    "#ANSWERS"
   ]
  },
  {
   "cell_type": "code",
   "execution_count": 1,
   "id": "2a242eae-da70-420e-8f05-50642157b35d",
   "metadata": {},
   "outputs": [
    {
     "name": "stdout",
     "output_type": "stream",
     "text": [
      "Hello Python\n"
     ]
    }
   ],
   "source": [
    "#Q1. Write a Python program to print \"Hello Python\"?\n",
    "#Ans. Please find below the code to print “Hello Python”:\n",
    "print(\"Hello Python\")\n"
   ]
  },
  {
   "cell_type": "code",
   "execution_count": 2,
   "id": "a0c7ad81-74b0-41e9-ba9b-a4ce2fc55c09",
   "metadata": {},
   "outputs": [
    {
     "name": "stdin",
     "output_type": "stream",
     "text": [
      "Enter the first number:  289\n",
      "Enter the second number:  323\n"
     ]
    },
    {
     "name": "stdout",
     "output_type": "stream",
     "text": [
      "Sum: 612.0\n"
     ]
    },
    {
     "name": "stdin",
     "output_type": "stream",
     "text": [
      "Enter the numerator:  345\n",
      "Enter the denominator:  39\n"
     ]
    },
    {
     "name": "stdout",
     "output_type": "stream",
     "text": [
      "Division: 8.846153846153847\n"
     ]
    }
   ],
   "source": [
    "#Q2. Write a Python program to do arithmetical operations addition and division?\n",
    "#Ans. Please find below the code to do arithmetical operations (addition and division):\n",
    "\n",
    "# Addition\n",
    "num1 = float(input(\"Enter the first number: \"))\n",
    "num2 = float(input(\"Enter the second number: \"))\n",
    "sum_result = num1 + num2\n",
    "print(\"Sum:\", sum_result)\n",
    "\n",
    "# Division\n",
    "numerator = float(input(\"Enter the numerator: \"))\n",
    "denominator = float(input(\"Enter the denominator: \"))\n",
    "if denominator != 0:\n",
    "    division_result = numerator / denominator\n",
    "    print(\"Division:\", division_result)\n",
    "else:\n",
    "    print(\"Cannot divide by zero.\")\n"
   ]
  },
  {
   "cell_type": "code",
   "execution_count": 3,
   "id": "cdc126a3-156d-4ce3-86d8-cde75250af7b",
   "metadata": {},
   "outputs": [
    {
     "name": "stdin",
     "output_type": "stream",
     "text": [
      "Enter the base length of the triangle:  20\n",
      "Enter the height of the triangle:  5\n"
     ]
    },
    {
     "name": "stdout",
     "output_type": "stream",
     "text": [
      "Area of the triangle: 50.0\n"
     ]
    }
   ],
   "source": [
    "#Q3. Write a Python program to find the area of a triangle?\n",
    "#Ans. Please find below the code to find the area of a triangle:\n",
    "\n",
    "base = float(input(\"Enter the base length of the triangle: \"))\n",
    "height = float(input(\"Enter the height of the triangle: \"))\n",
    "area = 0.5 * base * height\n",
    "print(\"Area of the triangle:\", area)\n"
   ]
  },
  {
   "cell_type": "code",
   "execution_count": 4,
   "id": "f0839dab-f93d-4368-8e57-dbd47ffab8d2",
   "metadata": {},
   "outputs": [
    {
     "name": "stdout",
     "output_type": "stream",
     "text": [
      "Before swapping: a = 5 b = 10\n",
      "After swapping: a = 10 b = 5\n"
     ]
    }
   ],
   "source": [
    "#Q4. Write a Python program to swap two variables?\n",
    "#Ans. Please find below the code to swap two variables:\n",
    "\n",
    "# Using a temporary variable\n",
    "a = 5\n",
    "b = 10\n",
    "print(\"Before swapping: a =\", a, \"b =\", b)\n",
    "\n",
    "temp = a\n",
    "a = b\n",
    "b = temp\n",
    "\n",
    "print(\"After swapping: a =\", a, \"b =\", b)\n"
   ]
  },
  {
   "cell_type": "code",
   "execution_count": null,
   "id": "e9b1946c-83cf-438d-b6de-45c2ade07a01",
   "metadata": {},
   "outputs": [],
   "source": [
    "Q5. Write a Python program to generate a random number?\n",
    "Ans. Please find below the code to generate a random number:\n",
    "import random\n",
    "random_number = random.randint(1, 100)  # Generates a random number between 1 and 100\n",
    "print(\"Random number:\", random_number)\n"
   ]
  }
 ],
 "metadata": {
  "kernelspec": {
   "display_name": "Python 3 (ipykernel)",
   "language": "python",
   "name": "python3"
  },
  "language_info": {
   "codemirror_mode": {
    "name": "ipython",
    "version": 3
   },
   "file_extension": ".py",
   "mimetype": "text/x-python",
   "name": "python",
   "nbconvert_exporter": "python",
   "pygments_lexer": "ipython3",
   "version": "3.10.6"
  }
 },
 "nbformat": 4,
 "nbformat_minor": 5
}

{
 "cells": [
  {
   "cell_type": "code",
   "execution_count": 1,
   "id": "2da3b545-f1ae-4a60-9715-e26ffb9e3729",
   "metadata": {},
   "outputs": [],
   "source": [
    "#ANSWERS"
   ]
  },
  {
   "cell_type": "code",
   "execution_count": 2,
   "id": "878fef1c-9ffc-44aa-adca-dc1a32bde522",
   "metadata": {},
   "outputs": [
    {
     "name": "stdout",
     "output_type": "stream",
     "text": [
      "Words longer than 4 characters: ['sample', 'words']\n"
     ]
    }
   ],
   "source": [
    "#Q1.Write a Python program to find words which are greater than given length k?\n",
    "#Ans. Please find below the code:\n",
    "\n",
    "def find_long_words(text, k):\n",
    "    words = text.split()\n",
    "    long_words = [word for word in words if len(word) > k]\n",
    "    return long_words\n",
    "\n",
    "input_text = \"This is a sample text with some long words\"\n",
    "k = 4\n",
    "result = find_long_words(input_text, k)\n",
    "print(f\"Words longer than {k} characters: {result}\")\n"
   ]
  },
  {
   "cell_type": "code",
   "execution_count": 3,
   "id": "0ffb9455-ae43-4813-ad7e-5ae5468066fd",
   "metadata": {},
   "outputs": [
    {
     "name": "stdout",
     "output_type": "stream",
     "text": [
      "String after removing 2-th character: exmple\n"
     ]
    }
   ],
   "source": [
    "#Q2.Write a Python program for removing i-th character from a string?\n",
    "#Ans. Please find below the code:\n",
    "\n",
    "def remove_character(s, i):\n",
    "    return s[:i] + s[i+1:]\n",
    "\n",
    "input_string = \"example\"\n",
    "i = 2\n",
    "result = remove_character(input_string, i)\n",
    "print(f\"String after removing {i}-th character: {result}\")\n"
   ]
  },
  {
   "cell_type": "code",
   "execution_count": 4,
   "id": "0ae56f7c-2507-416b-9aec-7ef23ab7ff7e",
   "metadata": {},
   "outputs": [
    {
     "name": "stdout",
     "output_type": "stream",
     "text": [
      "Joined string: This-is-a-sample-string\n"
     ]
    }
   ],
   "source": [
    "#Q3.Write a Python program to split and join a string?\n",
    "#Ans. Please find below the code:\n",
    "\n",
    "def split_and_join(s):\n",
    "    words = s.split()\n",
    "    joined_string = \"-\".join(words)\n",
    "    return joined_string\n",
    "\n",
    "input_string = \"This is a sample string\"\n",
    "result = split_and_join(input_string)\n",
    "print(f\"Joined string: {result}\")\n"
   ]
  },
  {
   "cell_type": "code",
   "execution_count": 5,
   "id": "55492b33-5f69-4305-bae4-744248d1598e",
   "metadata": {},
   "outputs": [
    {
     "name": "stdout",
     "output_type": "stream",
     "text": [
      "The string is a binary string.\n"
     ]
    }
   ],
   "source": [
    "#Q4.Write a Python to check if a given string is binary string or not?\n",
    "#Ans. Please find below the code:\n",
    "\n",
    "def is_binary_string(s):\n",
    "    return all(char == '0' or char == '1' for char in s)\n",
    "\n",
    "input_string = \"101010\"\n",
    "if is_binary_string(input_string):\n",
    "    print(\"The string is a binary string.\")\n",
    "else:\n",
    "    print(\"The string is not a binary string.\")\n"
   ]
  },
  {
   "cell_type": "code",
   "execution_count": 6,
   "id": "d7127b35-3efe-46e4-adbd-b9b022a2a213",
   "metadata": {},
   "outputs": [
    {
     "name": "stdout",
     "output_type": "stream",
     "text": [
      "Uncommon words: {'first', 'second'}\n"
     ]
    }
   ],
   "source": [
    "#Q5.Write a Python program to find uncommon words from two Strings?\n",
    "#Ans. Please find below the code:\n",
    "\n",
    "def uncommon_words(str1, str2):\n",
    "    set1 = set(str1.split())\n",
    "    set2 = set(str2.split())\n",
    "    uncommon = (set1.symmetric_difference(set2))\n",
    "    return uncommon\n",
    "\n",
    "string1 = \"this is the first string\"\n",
    "string2 = \"this is the second string\"\n",
    "result = uncommon_words(string1, string2)\n",
    "print(f\"Uncommon words: {result}\")\n"
   ]
  },
  {
   "cell_type": "code",
   "execution_count": 7,
   "id": "ccd4fb4e-506c-450a-bee2-ce10fa7b6459",
   "metadata": {},
   "outputs": [
    {
     "name": "stdout",
     "output_type": "stream",
     "text": [
      "Duplicate characters: {'l'}\n"
     ]
    }
   ],
   "source": [
    "#Q6.Write a Python to find all duplicate characters in string?\n",
    "#Ans. Please find below the code:\n",
    "\n",
    "def find_duplicate_characters(s):\n",
    "    duplicates = set()\n",
    "    for char in s:\n",
    "        if s.count(char) > 1:\n",
    "            duplicates.add(char)\n",
    "    return duplicates\n",
    "\n",
    "input_string = \"hello\"\n",
    "result = find_duplicate_characters(input_string)\n",
    "print(f\"Duplicate characters: {result}\")\n"
   ]
  },
  {
   "cell_type": "code",
   "execution_count": 8,
   "id": "e7dce02b-e47a-4674-b37e-0138049595fd",
   "metadata": {},
   "outputs": [
    {
     "name": "stdout",
     "output_type": "stream",
     "text": [
      "The string contains special characters.\n"
     ]
    }
   ],
   "source": [
    "#Q7.Write a Python Program to check if a string contains any special character?\n",
    "#Ans. Please find below the code:\n",
    "\n",
    "import string\n",
    "\n",
    "def has_special_character(s):\n",
    "    special_chars = set(string.punctuation)\n",
    "    for char in s:\n",
    "        if char in special_chars:\n",
    "            return True\n",
    "    return False\n",
    "\n",
    "input_string = \"Hello, world!\"\n",
    "if has_special_character(input_string):\n",
    "    print(\"The string contains special characters.\")\n",
    "else:\n",
    "    print(\"The string does not contain special characters.\")\n"
   ]
  },
  {
   "cell_type": "code",
   "execution_count": null,
   "id": "13823406-9256-4605-9e48-87a83d620176",
   "metadata": {},
   "outputs": [],
   "source": []
  }
 ],
 "metadata": {
  "kernelspec": {
   "display_name": "Python 3 (ipykernel)",
   "language": "python",
   "name": "python3"
  },
  "language_info": {
   "codemirror_mode": {
    "name": "ipython",
    "version": 3
   },
   "file_extension": ".py",
   "mimetype": "text/x-python",
   "name": "python",
   "nbconvert_exporter": "python",
   "pygments_lexer": "ipython3",
   "version": "3.10.6"
  }
 },
 "nbformat": 4,
 "nbformat_minor": 5
}

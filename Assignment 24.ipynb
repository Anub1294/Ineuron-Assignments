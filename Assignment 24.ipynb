{
 "cells": [
  {
   "cell_type": "code",
   "execution_count": 1,
   "id": "86a2bc11-6ea4-476a-b8ce-da7292de0ddf",
   "metadata": {},
   "outputs": [],
   "source": [
    "#ANSWERS"
   ]
  },
  {
   "cell_type": "code",
   "execution_count": 2,
   "id": "a1b3ba54-e8f2-493b-b108-a2c7561fa324",
   "metadata": {},
   "outputs": [],
   "source": [
    "#Q1. What is the relationship between def. statements and lambda expressions?\n",
    "#Ans. The relationship between def. statements and lambda expressions is as follows:\n",
    "#\tdef statements are used to define named functions in Python. These functions can have a name, parameters, and a body that contains statements.\n",
    "#\tLambda expressions (also known as lambda functions) are anonymous functions that can be defined using the lambda keyword. They are often used for simple operations and can be defined in a single line.\n"
   ]
  },
  {
   "cell_type": "code",
   "execution_count": 3,
   "id": "96523673-bff4-43aa-b5f7-bb5999206fc6",
   "metadata": {},
   "outputs": [],
   "source": [
    "#Q2. What is the benefit of lambda?\n",
    "#Ans. The benefits of lambda is as follows:\n",
    "#\tConciseness: Lambda expressions allow you to define small, inline functions without the need for a full function definition using def.\n",
    "#\tReadability: Lambda expressions can make the code more readable when the operation being performed is straightforward and doesn't require a separate function definition.\n",
    "#\tFunctional programming: Lambdas are commonly used in functional programming constructs like map, filter, and reduce.\n"
   ]
  },
  {
   "cell_type": "code",
   "execution_count": 4,
   "id": "af842ee0-4158-4dac-92fc-88bc0d7dba53",
   "metadata": {},
   "outputs": [],
   "source": [
    "#Q3. Compare and contrast map, filter, and reduce.\n",
    "#Ans. Comparison and contrast between map, filter and reduce is as follows:\n",
    "#\tmap: Applies a given function to each element of an iterable and returns an iterator of the results.\n",
    "#\tfilter: Filters out elements from an iterable based on a given condition, returning an iterator of the elements that satisfy the condition.\n",
    "#\treduce: Applies a binary function to the elements of an iterable in a cumulative way, reducing the iterable to a single value.\n"
   ]
  },
  {
   "cell_type": "code",
   "execution_count": 5,
   "id": "d5854f4b-5ab7-4c10-855e-dce939c121af",
   "metadata": {},
   "outputs": [],
   "source": [
    "#Q4. What are function annotations, and how are they used?\n",
    "#Ans. Function annotations and their uses is as follows:\n",
    "#\tFunction annotations are optional metadata that can be added to the parameters and return value of a function using the syntax def function_name(param: annotation) -> annotation.\n",
    "#\tAnnotations can be used to indicate the expected types of function arguments and return values. They are not enforced by the interpreter but can provide helpful information for documentation and code analysis.\n"
   ]
  },
  {
   "cell_type": "code",
   "execution_count": 6,
   "id": "ed1d5bdd-e99f-4fe8-8403-6986db299ebe",
   "metadata": {},
   "outputs": [],
   "source": [
    "#Q5. What are recursive functions, and how are they used?\n",
    "#Ans. Recursive functions and their uses is as follows:\n",
    "#\tRecursive functions are functions that call themselves in their own body. They are used to solve problems that can be broken down into simpler instances of the same problem.\n",
    "#\tBase case(s) are crucial in recursive functions to prevent infinite recursion.\n",
    "#\tExample: A classic recursive function is the factorial calculation: factorial(n) = n * factorial(n-1) with the base case factorial(0) = 1.\n"
   ]
  },
  {
   "cell_type": "code",
   "execution_count": 7,
   "id": "b4d7d036-408d-4fb9-bacd-ddbfafea6946",
   "metadata": {},
   "outputs": [],
   "source": [
    "#Q6. What are some general design guidelines for coding functions?\n",
    "#Ans. Some general design guidelines for coding functions are as follows:\n",
    "#\tSingle Responsibility Principle: Functions should have a clear and singular purpose.\n",
    "#\tModularity: Break down complex tasks into smaller, reusable functions.\n",
    "#\tDescriptive Naming: Use meaningful names that convey the function's purpose.\n",
    "#\tAvoid Side Effects: Functions should ideally not modify global state and should rely on parameters and return values.\n",
    "#\tMaintainability: Write code that's easy to understand and maintain.\n"
   ]
  },
  {
   "cell_type": "code",
   "execution_count": 8,
   "id": "1c107da8-0a26-4928-84a9-7d97fbcaf52f",
   "metadata": {},
   "outputs": [],
   "source": [
    "#Q7. Name three or more ways that functions can communicate results to a caller.\n",
    "#Ans. Ways through which functions can communicate results to a caller are as follows:\n",
    "#\tReturn Statements: Functions can use return statements to send data back to the caller.\n",
    "#\tParameters: Functions can accept parameters to receive input from the caller.\n",
    "#\tExceptions: Functions can raise exceptions to indicate errors or unexpected conditions to the caller.\n"
   ]
  },
  {
   "cell_type": "code",
   "execution_count": null,
   "id": "4c4bb055-6ffd-4400-8e56-6c4820195333",
   "metadata": {},
   "outputs": [],
   "source": []
  }
 ],
 "metadata": {
  "kernelspec": {
   "display_name": "Python 3 (ipykernel)",
   "language": "python",
   "name": "python3"
  },
  "language_info": {
   "codemirror_mode": {
    "name": "ipython",
    "version": 3
   },
   "file_extension": ".py",
   "mimetype": "text/x-python",
   "name": "python",
   "nbconvert_exporter": "python",
   "pygments_lexer": "ipython3",
   "version": "3.10.6"
  }
 },
 "nbformat": 4,
 "nbformat_minor": 5
}

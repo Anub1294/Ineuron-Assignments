{
 "cells": [
  {
   "cell_type": "code",
   "execution_count": 1,
   "id": "bbd33622-2802-4a8a-b41d-3abae1acfd93",
   "metadata": {},
   "outputs": [],
   "source": [
    "#ANSWERS"
   ]
  },
  {
   "cell_type": "code",
   "execution_count": 2,
   "id": "43e9505f-be19-4da9-b507-a193f5a386ce",
   "metadata": {},
   "outputs": [
    {
     "name": "stdin",
     "output_type": "stream",
     "text": [
      "Enter a number:  25\n"
     ]
    },
    {
     "name": "stdout",
     "output_type": "stream",
     "text": [
      "The factorial of 25 is 15511210043330985984000000\n"
     ]
    }
   ],
   "source": [
    "#Q1. Write a Python Program to Find the Factorial of a Number?\n",
    "#Ans. Please find below the code to find the factorial of a number:\n",
    "\n",
    "def factorial(n):\n",
    "    if n == 0 or n == 1:\n",
    "        return 1\n",
    "    else:\n",
    "        return n * factorial(n - 1)\n",
    "number = int(input(\"Enter a number: \"))\n",
    "result = factorial(number)\n",
    "print(f\"The factorial of {number} is {result}\")\n"
   ]
  },
  {
   "cell_type": "code",
   "execution_count": 3,
   "id": "e3ad0d40-c693-46f6-bf34-5ee58c15225d",
   "metadata": {},
   "outputs": [
    {
     "name": "stdin",
     "output_type": "stream",
     "text": [
      "Enter a number:  24\n"
     ]
    },
    {
     "name": "stdout",
     "output_type": "stream",
     "text": [
      "Multiplication table of 24:\n",
      "24 x 1 = 24\n",
      "24 x 2 = 48\n",
      "24 x 3 = 72\n",
      "24 x 4 = 96\n",
      "24 x 5 = 120\n",
      "24 x 6 = 144\n",
      "24 x 7 = 168\n",
      "24 x 8 = 192\n",
      "24 x 9 = 216\n",
      "24 x 10 = 240\n"
     ]
    }
   ],
   "source": [
    "#Q2. Write a Python Program to Display the multiplication Table?\n",
    "#Ans. Please find below the code to display the multiplication table:\n",
    "\n",
    "number = int(input(\"Enter a number: \"))\n",
    "print(f\"Multiplication table of {number}:\")\n",
    "for i in range(1, 11):\n",
    "    print(f\"{number} x {i} = {number * i}\")\n"
   ]
  },
  {
   "cell_type": "code",
   "execution_count": 5,
   "id": "42708fda-a476-4cc7-a3ca-9893b6436cdf",
   "metadata": {},
   "outputs": [
    {
     "name": "stdin",
     "output_type": "stream",
     "text": [
      "Enter the number of terms in the Fibonacci sequence:  48\n"
     ]
    },
    {
     "name": "stdout",
     "output_type": "stream",
     "text": [
      "Fibonacci sequence: [0, 1, 1, 2, 3, 5, 8, 13, 21, 34, 55, 89, 144, 233, 377, 610, 987, 1597, 2584, 4181, 6765, 10946, 17711, 28657, 46368, 75025, 121393, 196418, 317811, 514229, 832040, 1346269, 2178309, 3524578, 5702887, 9227465, 14930352, 24157817, 39088169, 63245986, 102334155, 165580141, 267914296, 433494437, 701408733, 1134903170, 1836311903, 2971215073]\n"
     ]
    }
   ],
   "source": [
    "#Q3. Write a Python Program to Print the Fibonacci sequence?\n",
    "#Ans. Please find below the code to print the Fibonacci sequence:\n",
    "\n",
    "def fibonacci_sequence(n):\n",
    "    fib_sequence = [0, 1]\n",
    "    for i in range(2, n):\n",
    "        next_fib = fib_sequence[i-1] + fib_sequence[i-2]\n",
    "        fib_sequence.append(next_fib)\n",
    "    return fib_sequence\n",
    "num_terms = int(input(\"Enter the number of terms in the Fibonacci sequence: \"))\n",
    "sequence = fibonacci_sequence(num_terms)\n",
    "print(\"Fibonacci sequence:\", sequence)\n"
   ]
  },
  {
   "cell_type": "code",
   "execution_count": null,
   "id": "0315790f-af1e-4d14-ace1-b1c3ff2fe9b3",
   "metadata": {},
   "outputs": [],
   "source": [
    "#Q4. Write a Python Program to Check Armstrong Number?\n",
    "#Ans. Please find below the code to check Armstrong number:\n",
    "def is_armstrong(number):\n",
    "    num_str = str(number)\n",
    "    num_digits = len(num_str)\n",
    "    armstrong_sum = sum(int(digit) ** num_digits for digit in num_str)\n",
    "    return armstrong_sum == number\n",
    "number = int(input(\"Enter a number: \"))\n",
    "if is_armstrong(number):\n",
    "    print(f\"{number} is an Armstrong number\")\n",
    "else:\n",
    "    print(f\"{number} is not an Armstrong number\")\n"
   ]
  }
 ],
 "metadata": {
  "kernelspec": {
   "display_name": "Python 3 (ipykernel)",
   "language": "python",
   "name": "python3"
  },
  "language_info": {
   "codemirror_mode": {
    "name": "ipython",
    "version": 3
   },
   "file_extension": ".py",
   "mimetype": "text/x-python",
   "name": "python",
   "nbconvert_exporter": "python",
   "pygments_lexer": "ipython3",
   "version": "3.10.6"
  }
 },
 "nbformat": 4,
 "nbformat_minor": 5
}

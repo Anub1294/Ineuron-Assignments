{
 "cells": [
  {
   "cell_type": "code",
   "execution_count": 1,
   "id": "afdebd46-e2cd-400c-ab28-6c8ce71b4b97",
   "metadata": {},
   "outputs": [],
   "source": [
    "#ANSWERS"
   ]
  },
  {
   "cell_type": "code",
   "execution_count": 2,
   "id": "3e1bdaec-604a-453c-970e-4ae37cb24e65",
   "metadata": {},
   "outputs": [
    {
     "name": "stdout",
     "output_type": "stream",
     "text": [
      "[3, 6, 9]\n",
      "[8]\n",
      "[]\n"
     ]
    }
   ],
   "source": [
    "#Question1 Create a function that takes three parameters where:\n",
    "#•\tx is the start of the range (inclusive).\n",
    "#•\ty is the end of the range (inclusive).\n",
    "#•\tn is the divisor to be checked against.\n",
    "#Return an ordered list with numbers in the range that are divisible by the third parameter n. Return an empty list if there are no numbers that are divisible by n.\n",
    "#Examples\n",
    "#list_operation(1, 10, 3) ➞ [3, 6, 9]\n",
    "#list_operation(7, 9, 2) ➞ [8]\n",
    "#list_operation(15, 20, 7) ➞ []\n",
    "#Ans. Please find below the code:\n",
    "\n",
    "def list_operation(x, y, n):\n",
    "    return [num for num in range(x, y+1) if num % n == 0]\n",
    "\n",
    "# Test cases\n",
    "print(list_operation(1, 10, 3))  # [3, 6, 9]\n",
    "print(list_operation(7, 9, 2))  # [8]\n",
    "print(list_operation(15, 20, 7))  # []\n"
   ]
  },
  {
   "cell_type": "code",
   "execution_count": 3,
   "id": "b7712349-bc0d-4e32-983a-fa8749d4bbcb",
   "metadata": {},
   "outputs": [
    {
     "name": "stdout",
     "output_type": "stream",
     "text": [
      "True\n",
      "False\n",
      "True\n",
      "False\n"
     ]
    }
   ],
   "source": [
    "#Question2 Create a function that takes in two lists and returns True if the second list follows the first list by one element, and False otherwise. In other words, determine if the second list is the first list shifted to the right by 1.\n",
    "#Examples\n",
    "#simon_says([1, 2], [5, 1]) ➞ True\n",
    "#simon_says([1, 2], [5, 5]) ➞ False\n",
    "#simon_says([1, 2, 3, 4, 5], [0, 1, 2, 3, 4]) ➞ True\n",
    "#simon_says([1, 2, 3, 4, 5], [5, 5, 1, 2, 3]) ➞ False\n",
    "#Notes\n",
    "#•\tBoth input lists will be of the same length, and will have a minimum length of 2.\n",
    "#•\tThe values of the 0-indexed element in the second list and the n-1th indexed element in the first list do not matter.\n",
    "#Ans. Please find below the code:\n",
    "\n",
    "def simon_says(lst1, lst2):\n",
    "    return lst1[:-1] == lst2[1:]\n",
    "\n",
    "# Test cases\n",
    "print(simon_says([1, 2], [5, 1]))  # True\n",
    "print(simon_says([1, 2], [5, 5]))  # False\n",
    "print(simon_says([1, 2, 3, 4, 5], [0, 1, 2, 3, 4]))  # True\n",
    "print(simon_says([1, 2, 3, 4, 5], [5, 5, 1, 2, 3]))  # False\n"
   ]
  },
  {
   "cell_type": "code",
   "execution_count": 4,
   "id": "66c8fc52-05d5-4ac9-8b44-d8bac00f4189",
   "metadata": {},
   "outputs": [
    {
     "name": "stdout",
     "output_type": "stream",
     "text": [
      "AMS\n",
      "CHLN\n"
     ]
    }
   ],
   "source": [
    "#Question3 A group of friends have decided to start a secret society. The name will be the first letter of each of their names, sorted in alphabetical order.\n",
    "#Create a function that takes in a list of names and returns the name of the secret society.\n",
    "#Examples\n",
    "#society_name([\"Adam\", \"Sarah\", \"Malcolm\"]) ➞ \"AMS\"\n",
    "#society_name([\"Harry\", \"Newt\", \"Luna\", \"Cho\"]) ➞ \"CHLN\"\n",
    "#society_name([\"Phoebe\", \"Chandler\", \"Rachel\", \"Ross\", \"Monica\", \"Joey\"])\n",
    "#Ans. Please find below the code:\n",
    "\n",
    "def society_name(names):\n",
    "    return ''.join(sorted([name[0] for name in names]))\n",
    "\n",
    "# Test cases\n",
    "print(society_name([\"Adam\", \"Sarah\", \"Malcolm\"]))  # \"AMS\"\n",
    "print(society_name([\"Harry\", \"Newt\", \"Luna\", \"Cho\"]))  # \"CHLN\"\n",
    "# Note: The last test case result is not provided in the question.\n"
   ]
  },
  {
   "cell_type": "code",
   "execution_count": 5,
   "id": "728deca6-a4ae-49d4-9d1a-119333f79123",
   "metadata": {},
   "outputs": [
    {
     "name": "stdout",
     "output_type": "stream",
     "text": [
      "True\n",
      "False\n",
      "False\n"
     ]
    }
   ],
   "source": [
    "#Question4 An isogram is a word that has no duplicate letters. Create a function that takes a string and returns either True or False depending on whether or not it's an \"isogram\".\n",
    "#Examples\n",
    "#is_isogram(\"Algorism\") ➞ True\n",
    "#is_isogram(\"PasSword\") ➞ False\n",
    "# Not case sensitive.\n",
    "#is_isogram(\"Consecutive\") ➞ False\n",
    "#Notes\n",
    "#•\tIgnore letter case (should not be case sensitive).\n",
    "#•\tAll test cases contain valid one word strings.\n",
    "#Ans. Please find below the code:\n",
    "\n",
    "def is_isogram(s):\n",
    "    s_lower = s.lower()\n",
    "    return len(set(s_lower)) == len(s_lower)\n",
    "\n",
    "# Test cases\n",
    "print(is_isogram(\"Algorism\"))  # True\n",
    "print(is_isogram(\"PasSword\"))  # False\n",
    "print(is_isogram(\"Consecutive\"))  # False\n"
   ]
  },
  {
   "cell_type": "code",
   "execution_count": 6,
   "id": "0440feb4-9639-408c-a128-6321a07ec792",
   "metadata": {},
   "outputs": [
    {
     "name": "stdout",
     "output_type": "stream",
     "text": [
      "True\n",
      "False\n",
      "True\n",
      "True\n"
     ]
    }
   ],
   "source": [
    "#Question5 Create a function that takes a string and returns True or False, depending on whether the characters are in order or not.\n",
    "#Examples\n",
    "#is_in_order(\"abc\") ➞ True\n",
    "#is_in_order(\"edabit\") ➞ False\n",
    "#is_in_order(\"123\") ➞ True\n",
    "#is_in_order(\"xyzz\") ➞ True\n",
    "#Notes\n",
    "#You don't have to handle empty strings.\n",
    "#Ans. Please find below the code:\n",
    "\n",
    "def is_in_order(s):\n",
    "    return s == ''.join(sorted(s))\n",
    "\n",
    "# Test cases\n",
    "print(is_in_order(\"abc\"))  # True\n",
    "print(is_in_order(\"edabit\"))  # False\n",
    "print(is_in_order(\"123\"))  # True\n",
    "print(is_in_order(\"xyzz\"))  # True\n"
   ]
  },
  {
   "cell_type": "code",
   "execution_count": null,
   "id": "74e67905-34b8-4b7d-9319-de99039d9eb2",
   "metadata": {},
   "outputs": [],
   "source": []
  }
 ],
 "metadata": {
  "kernelspec": {
   "display_name": "Python 3 (ipykernel)",
   "language": "python",
   "name": "python3"
  },
  "language_info": {
   "codemirror_mode": {
    "name": "ipython",
    "version": 3
   },
   "file_extension": ".py",
   "mimetype": "text/x-python",
   "name": "python",
   "nbconvert_exporter": "python",
   "pygments_lexer": "ipython3",
   "version": "3.10.6"
  }
 },
 "nbformat": 4,
 "nbformat_minor": 5
}

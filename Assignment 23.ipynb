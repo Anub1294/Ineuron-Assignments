{
 "cells": [
  {
   "cell_type": "code",
   "execution_count": 1,
   "id": "f5cadf71-1c9d-45cc-bba0-afd8bf7c710a",
   "metadata": {},
   "outputs": [],
   "source": [
    "#ANSWERS"
   ]
  },
  {
   "cell_type": "code",
   "execution_count": 2,
   "id": "3badc570-f519-48c4-a762-d90b49b16526",
   "metadata": {},
   "outputs": [],
   "source": [
    "#Q1. What is the result of the code, and why?\n",
    "#>>> def func(a, b=6, c=8):\n",
    "#print(a, b, c)\n",
    "#>>> func(1, 2)"
   ]
  },
  {
   "cell_type": "code",
   "execution_count": 4,
   "id": "c56ec055-9cff-4184-b4a9-8b9467cada53",
   "metadata": {},
   "outputs": [
    {
     "name": "stdout",
     "output_type": "stream",
     "text": [
      "1 2 8\n"
     ]
    }
   ],
   "source": [
    ">>> def func(a, b=6, c=8):\n",
    "    print(a, b, c)\n",
    ">>> func(1, 2)\n"
   ]
  },
  {
   "cell_type": "code",
   "execution_count": 5,
   "id": "1125e906-7607-4002-ad57-add271627d6f",
   "metadata": {},
   "outputs": [],
   "source": [
    "#Ans. The output of the above mentioned code is “1 2 8”. \n",
    "#In this code, a function func() is defined with three parameters: a, b, and c, with default values 6 and 8 for b and c, respectively. \n",
    "#When the function is called with func(1, 2), the value 1 is assigned to a, 2 is assigned to b, and the default value 8 is assigned to c. \n",
    "#Thus, the output of print(a, b, c) is 1 2 8."
   ]
  },
  {
   "cell_type": "code",
   "execution_count": 6,
   "id": "e0bc19a6-0aaa-4128-b45d-c227baa7b2bb",
   "metadata": {},
   "outputs": [],
   "source": [
    "#Q2. What is the result of this code, and why?\n",
    "#>>> def func(a, b, c=5):\n",
    "#print(a, b, c)\n",
    "#>>> func(1, c=3, b=2)"
   ]
  },
  {
   "cell_type": "code",
   "execution_count": 7,
   "id": "df19fe46-d6bb-488b-ad43-37d6db47fa25",
   "metadata": {},
   "outputs": [
    {
     "name": "stdout",
     "output_type": "stream",
     "text": [
      "1 2 3\n"
     ]
    }
   ],
   "source": [
    ">>> def func(a, b, c=5):\n",
    "    print(a, b, c)\n",
    ">>> func(1, c=3, b=2)\n"
   ]
  },
  {
   "cell_type": "code",
   "execution_count": 8,
   "id": "e1ba9c0b-bf32-44f8-beff-b7d8a0c7d955",
   "metadata": {},
   "outputs": [],
   "source": [
    "#Ans. The output of the above mentioned code is “1 2 3”. \n",
    "#In this code, a function func() is defined with three parameters: a, b, and c, with a default value of 5 for c. \n",
    "#When the function is called with func(1, c=3, b=2), the value 1 is assigned to a, 2 is assigned to b, and 3 is assigned to c. \n",
    "#Thus, the output of print(a, b, c) is 1 2 3."
   ]
  },
  {
   "cell_type": "code",
   "execution_count": 10,
   "id": "938ec7e9-e496-4e1b-bcdc-25dfc5957e19",
   "metadata": {},
   "outputs": [],
   "source": [
    "#Q3. How about this code: what is its result, and why?\n",
    "#>>> def func(a, *pargs):\n",
    "#print(a, pargs)\n",
    "#>>> func(1, 2, 3)"
   ]
  },
  {
   "cell_type": "code",
   "execution_count": 11,
   "id": "9b620557-dd0f-4e43-a2aa-54b5fa583543",
   "metadata": {},
   "outputs": [
    {
     "name": "stdout",
     "output_type": "stream",
     "text": [
      "1 (2, 3)\n"
     ]
    }
   ],
   "source": [
    ">>> def func(a, *pargs):\n",
    "    print(a, pargs)\n",
    ">>> func(1, 2, 3)\n"
   ]
  },
  {
   "cell_type": "code",
   "execution_count": 12,
   "id": "d4acb797-29a4-45f3-82d9-296fc8c24d54",
   "metadata": {},
   "outputs": [],
   "source": [
    "#Ans. The output of the above mentioned code is ”1 (2, 3)”. \n",
    "#In this code, a function func() is defined with a parameter a and a variable-length argument *pargs, which collects any additional positional arguments into a tuple. \n",
    "#When the function is called with func(1, 2, 3), the value 1 is assigned to a, and the additional positional arguments 2 and 3 are collected into a tuple and assigned to pargs. \n",
    "#Thus, the output of print(a, pargs) is 1 (2, 3)."
   ]
  },
  {
   "cell_type": "code",
   "execution_count": 13,
   "id": "07d9c173-64ea-425c-9315-db413e99502e",
   "metadata": {},
   "outputs": [],
   "source": [
    "#Q4. What does this code print, and why?\n",
    "#>>> def func(a, **kargs):\n",
    "#print(a, kargs)\n",
    "#>>> func(a=1, c=3, b=2)"
   ]
  },
  {
   "cell_type": "code",
   "execution_count": 14,
   "id": "1a996b21-68dd-4f2e-851a-ac525724097d",
   "metadata": {},
   "outputs": [
    {
     "name": "stdout",
     "output_type": "stream",
     "text": [
      "1 {'c': 3, 'b': 2}\n"
     ]
    }
   ],
   "source": [
    ">>> def func(a, **kargs):\n",
    "    print(a, kargs)\n",
    ">>> func(a=1, c=3, b=2)\n"
   ]
  },
  {
   "cell_type": "code",
   "execution_count": 15,
   "id": "29433c38-dfa1-4bc6-b0fe-3f53cec10d91",
   "metadata": {},
   "outputs": [],
   "source": [
    "#Ans. The output of the above mentioned code is “1 {‘c’ : 3, ‘b’ : 2}”. \n",
    "#In this code, a function func() is defined with a parameter a and a double-asterisk argument **kargs, which collects any additional keyword arguments into a dictionary. \n",
    "#When the function is called with func(a=1, c=3, b=2), the value 1 is assigned to a, and the additional keyword arguments c=3 and b=2 are collected into a dictionary and assigned to kargs. \n",
    "#Thus, the output of print(a, kargs) is 1 {'c': 3, 'b': 2}."
   ]
  },
  {
   "cell_type": "code",
   "execution_count": 16,
   "id": "57bce5c7-f64e-4136-ae2b-175ca7119fd8",
   "metadata": {},
   "outputs": [],
   "source": [
    "#Q5. What gets printed by this, and explain?\n",
    "#>>> def func(a, b, c=8, d=5): print(a, b, c, d)\n",
    "#>>> func(1, *(5, 6))\n"
   ]
  },
  {
   "cell_type": "code",
   "execution_count": 17,
   "id": "c1f8cf1c-03c2-4d0d-a203-e9b473d98da8",
   "metadata": {},
   "outputs": [
    {
     "name": "stdout",
     "output_type": "stream",
     "text": [
      "1 5 6 5\n"
     ]
    }
   ],
   "source": [
    ">>> def func(a, b, c=8, d=5): print(a, b, c, d)\n",
    ">>> func(1, *(5, 6))\n"
   ]
  },
  {
   "cell_type": "code",
   "execution_count": 18,
   "id": "e555a8c7-bffe-4735-bcf5-48d7a1c6a187",
   "metadata": {},
   "outputs": [],
   "source": [
    "#Ans. The output of the above mentioned code is “1 5 6 5”. \n",
    "#In this code, a function func() is defined with four parameters: a, b, c, and d, with default values of 8 and 5 for c and d, respectively. \n",
    "#When the function is called with func(1, *(5, 6)), the value 1 is assigned to a, and the tuple (5, 6) is unpacked into b and c, while d retains its default value of 5. \n",
    "#Thus, the output of print(a, b, c, d) is 1 5 6 5."
   ]
  },
  {
   "cell_type": "code",
   "execution_count": 19,
   "id": "faa914c2-c1db-447b-9ab0-2229adc7e9f2",
   "metadata": {},
   "outputs": [],
   "source": [
    "#Q6. what is the result of this, and explain?\n",
    "#>>> def func(a, b, c): a = 2; b[0] = 'x'; c['a'] = 'y'\n",
    "#>>> l=1; m=[1]; n={'a':0}\n",
    "#>>> func(l, m, n)\n",
    "#>>> l, m, n"
   ]
  },
  {
   "cell_type": "code",
   "execution_count": 20,
   "id": "1700ab9b-99de-4db1-8475-7c93c03b7828",
   "metadata": {},
   "outputs": [
    {
     "data": {
      "text/plain": [
       "(1, ['x'], {'a': 'y'})"
      ]
     },
     "execution_count": 20,
     "metadata": {},
     "output_type": "execute_result"
    }
   ],
   "source": [
    ">>> def func(a, b, c): a = 2; b[0] = 'x'; c['a'] = 'y'\n",
    ">>> l=1; m=[1]; n={'a':0}\n",
    ">>> func(l, m, n)\n",
    ">>> l, m, n"
   ]
  },
  {
   "cell_type": "code",
   "execution_count": 21,
   "id": "603c22b4-f930-4355-bf92-ee49a6be22b5",
   "metadata": {},
   "outputs": [],
   "source": [
    "#Ans. The output of the above mentioned code is “1 ['x'] {'a': 'y'}”.\n",
    "#In this code, a function func() is defined with three parameters: a, b, and c. \n",
    "#Inside the function, a is reassigned to 2, b[0] is modified to 'x', and c['a'] is modified to 'y'. \n",
    "#Then, the variables l, m, and n are assigned 1, [1], and {'a': 0} respectively. \n",
    "#When the function func(l, m, n) is called, it modifies these variables according to the function's behavior. \n",
    "#After the function call, l remains unchanged, m is modified to ['x'], and n is modified to {'a': 'y'}. \n",
    "#This is why the print statement outputs 1 ['x'] {'a': 'y'}."
   ]
  },
  {
   "cell_type": "code",
   "execution_count": null,
   "id": "cda553a7-fefc-49a4-8e9e-49c47eb66373",
   "metadata": {},
   "outputs": [],
   "source": []
  }
 ],
 "metadata": {
  "kernelspec": {
   "display_name": "Python 3 (ipykernel)",
   "language": "python",
   "name": "python3"
  },
  "language_info": {
   "codemirror_mode": {
    "name": "ipython",
    "version": 3
   },
   "file_extension": ".py",
   "mimetype": "text/x-python",
   "name": "python",
   "nbconvert_exporter": "python",
   "pygments_lexer": "ipython3",
   "version": "3.10.6"
  }
 },
 "nbformat": 4,
 "nbformat_minor": 5
}

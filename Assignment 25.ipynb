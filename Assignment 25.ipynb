{
 "cells": [
  {
   "cell_type": "code",
   "execution_count": 1,
   "id": "a0faca85-9945-4e83-8713-b6b6bbabf724",
   "metadata": {},
   "outputs": [],
   "source": [
    "#ANSWERS"
   ]
  },
  {
   "cell_type": "code",
   "execution_count": 2,
   "id": "4d2cd2ae-3ece-43a5-b08b-3f750bee16e0",
   "metadata": {},
   "outputs": [],
   "source": [
    "#Q1. What is the difference between enclosing a list comprehension in square brackets and parentheses?\n",
    "#Ans. Difference between enclosing a list of comprehension in square brackets and parenthesis is as follows:\n",
    "#\tWhen we use square brackets ([ ]), we create a list comprehension. It generates a new list by applying an expression to each item in the iterable.\n",
    "#\tWhen we use parentheses (( )), we create a generator expression. It generates an iterator that produces values on-the-fly as you iterate through it. This is memory-efficient compared to creating a full list in memory.\n"
   ]
  },
  {
   "cell_type": "code",
   "execution_count": 3,
   "id": "9902a43c-57be-48c9-8c2a-14f85097e5a8",
   "metadata": {},
   "outputs": [],
   "source": [
    "#Q2. What is the relationship between generators and iterators?\n",
    "#Ans. Relationship between generators and iterators is as follows:\n",
    "#\tAn iterator is an object that implements the methods __iter__() and __next__() to provide a sequence of values, one at a time.\n",
    "#\tA generator is a specific type of iterator that is defined using a special syntax involving functions and the yield keyword. Generators allow you to create iterators in a more concise and readable way, without needing to manually implement the iterator protocol.\n"
   ]
  },
  {
   "cell_type": "code",
   "execution_count": 4,
   "id": "c0a4c53c-fc08-4a26-b0f8-6f0a875215ae",
   "metadata": {},
   "outputs": [],
   "source": [
    "#Q3. What are the signs that a function is a generator function?\n",
    "#Ans. Signs that a function is a generator function are as follows:\n",
    "#\tIt contains one or more yield statements.\n",
    "#\tIt might have a regular return statement, but it's not required.\n",
    "#\tWhen called, it doesn't execute the function body immediately but returns a generator object instead.\n"
   ]
  },
  {
   "cell_type": "code",
   "execution_count": 5,
   "id": "452eb6b4-8b8e-44c9-a13f-f182a2040d9a",
   "metadata": {},
   "outputs": [],
   "source": [
    "#Q4. What is the purpose of a yield statement?\n",
    "#Ans. Purpose of a yield statement is as follows:\n",
    "#\tThe yield statement is used in generator functions to yield a value to the caller, while maintaining the function's state so it can continue execution later.\n",
    "#\tWhen the generator function is called, it doesn't run the entire function body at once; instead, it returns a generator object. The function is only executed when the generator's __next__() method is called.\n",
    "#\tEach time the yield statement is encountered, the function's state is saved, and the yielded value is returned to the caller. The state can be restored when the function continues executing after the yield statement.\n"
   ]
  },
  {
   "cell_type": "code",
   "execution_count": null,
   "id": "fdf76882-87fd-4575-9db9-cd81b2722659",
   "metadata": {},
   "outputs": [],
   "source": [
    "#Q5. What is the relationship between map calls and list comprehensions? Make a comparison and contrast between the two.\n",
    "Ans. It is as follows:\n",
    "Relationship:\n",
    "\tMap: The map() function applies a given function to each item of an iterable (or multiple iterables) and returns an iterator that produces the results.\n",
    "\tList Comprehension: A list comprehension creates a new list by applying an expression to each item in an iterable and collecting the results in a single list.\n",
    "Comparison:\n",
    "\tBoth map and list comprehensions are used to transform data based on a given operation.\n",
    "\tmap tends to be more concise and memory-efficient for simple operations on large datasets.\n",
    "\tList comprehensions are more versatile as they can include conditionals and nested operations, making them more powerful for complex transformations.\n",
    "Contrast:\n",
    "\tList comprehensions are more expressive and allow for complex conditions and nested operations.\n",
    "\tmap is particularly useful when you want to apply a single function to multiple iterables in parallel.\n",
    "\tList comprehensions create a new list immediately, while map returns an iterator, which can be memory-efficient for large datasets.\n"
   ]
  }
 ],
 "metadata": {
  "kernelspec": {
   "display_name": "Python 3 (ipykernel)",
   "language": "python",
   "name": "python3"
  },
  "language_info": {
   "codemirror_mode": {
    "name": "ipython",
    "version": 3
   },
   "file_extension": ".py",
   "mimetype": "text/x-python",
   "name": "python",
   "nbconvert_exporter": "python",
   "pygments_lexer": "ipython3",
   "version": "3.10.6"
  }
 },
 "nbformat": 4,
 "nbformat_minor": 5
}

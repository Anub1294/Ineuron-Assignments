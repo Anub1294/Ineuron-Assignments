{
 "cells": [
  {
   "cell_type": "code",
   "execution_count": 1,
   "id": "ceed4cea-ed1f-458c-87c4-e99947528ff4",
   "metadata": {},
   "outputs": [],
   "source": [
    "#ANSWERS"
   ]
  },
  {
   "cell_type": "code",
   "execution_count": 2,
   "id": "70392bd6-5611-4058-9a79-0aa263f038d2",
   "metadata": {},
   "outputs": [
    {
     "name": "stdout",
     "output_type": "stream",
     "text": [
      "[1, 2, 3, 4]\n",
      "[0, 1729]\n",
      "[]\n"
     ]
    }
   ],
   "source": [
    "#Question1 Create a function that takes a list of strings and integers, and filters out the list so that it returns a list of integers only.\n",
    "#Examples\n",
    "#filter_list([1, 2, 3, \"a\", \"b\", 4]) ➞ [1, 2, 3, 4]\n",
    "#filter_list([\"A\", 0, \"Edabit\", 1729, \"Python\", \"1729\"]) ➞ [0, 1729]\n",
    "#filter_list([\"Nothing\", \"here\"]) ➞ []\n",
    "#Ans. Please find below the code:\n",
    "\n",
    "def filter_list(lst):\n",
    "    return [x for x in lst if isinstance(x, int)]\n",
    "\n",
    "# Test cases\n",
    "print(filter_list([1, 2, 3, \"a\", \"b\", 4]))  # [1, 2, 3, 4]\n",
    "print(filter_list([\"A\", 0, \"Edabit\", 1729, \"Python\", \"1729\"]))  # [0, 1729]\n",
    "print(filter_list([\"Nothing\", \"here\"]))  # []\n"
   ]
  },
  {
   "cell_type": "code",
   "execution_count": 3,
   "id": "acea4f39-4f8c-4e43-80b5-2906f3a951eb",
   "metadata": {},
   "outputs": [
    {
     "name": "stdout",
     "output_type": "stream",
     "text": [
      "[0, 1, 2, 3, 4]\n",
      "[1, 3, 5, 7, 9]\n",
      "[5, 5, 5, 5, 5]\n"
     ]
    }
   ],
   "source": [
    "#Question2 Given a list of numbers, create a function which returns the list but with each element's index in the list added to itself. This means you add 0 to the number at index 0, add 1 to the number at index 1, etc...\n",
    "#Examples\n",
    "#add_indexes([0, 0, 0, 0, 0]) ➞ [0, 1, 2, 3, 4]\n",
    "#add_indexes([1, 2, 3, 4, 5]) ➞ [1, 3, 5, 7, 9]\n",
    "#add_indexes([5, 4, 3, 2, 1]) ➞ [5, 5, 5, 5, 5]\n",
    "#Ans. Please find below the code:\n",
    "\n",
    "def add_indexes(lst):\n",
    "    return [num + index for index, num in enumerate(lst)]\n",
    "\n",
    "# Test cases\n",
    "print(add_indexes([0, 0, 0, 0, 0]))  # [0, 1, 2, 3, 4]\n",
    "print(add_indexes([1, 2, 3, 4, 5]))  # [1, 3, 5, 7, 9]\n",
    "print(add_indexes([5, 4, 3, 2, 1]))  # [5, 5, 5, 5, 5]\n"
   ]
  },
  {
   "cell_type": "code",
   "execution_count": 4,
   "id": "56de0823-f0c4-44bf-8cda-864cec2074ea",
   "metadata": {},
   "outputs": [
    {
     "name": "stdout",
     "output_type": "stream",
     "text": [
      "12.57\n",
      "565.49\n",
      "0.0\n"
     ]
    }
   ],
   "source": [
    "#Question3 Create a function that takes the height and radius of a cone as arguments and returns the volume of the cone rounded to the nearest hundredth. See the resources tab for the formula.\n",
    "#Examples\n",
    "#cone_volume(3, 2) ➞ 12.57\n",
    "#cone_volume(15, 6) ➞ 565.49\n",
    "#cone_volume(18, 0) ➞ 0\n",
    "#Ans. Please find below the code:\n",
    "\n",
    "import math\n",
    "\n",
    "def cone_volume(height, radius):\n",
    "    volume = (math.pi * radius ** 2 * height) / 3\n",
    "    return round(volume, 2)\n",
    "\n",
    "# Test cases\n",
    "print(cone_volume(3, 2))  # 12.57\n",
    "print(cone_volume(15, 6))  # 565.49\n",
    "print(cone_volume(18, 0))  # 0\n"
   ]
  },
  {
   "cell_type": "code",
   "execution_count": 5,
   "id": "e4f0939e-cd5b-43e5-a09f-38ff39fb015d",
   "metadata": {},
   "outputs": [
    {
     "name": "stdout",
     "output_type": "stream",
     "text": [
      "1\n",
      "21\n",
      "23220\n"
     ]
    }
   ],
   "source": [
    "#Question4 This Triangular Number Sequence is generated from a pattern of dots that form a triangle. The first 5 numbers of the sequence, or dots, are: \n",
    "#1, 3, 6, 10, 15\n",
    "#This means that the first triangle has just one dot, the second one has three dots, the third one has 6 dots and so on.\n",
    "#Write a function that gives the number of dots with its corresponding triangle number of the sequence.\n",
    "#Examples\n",
    "#triangle(1) ➞ 1\n",
    "#triangle(6) ➞ 21\n",
    "#triangle(215) ➞ 23220\n",
    "#Ans. Please find below the code:\n",
    "\n",
    "def triangle(n):\n",
    "    return (n * (n + 1)) // 2\n",
    "\n",
    "# Test cases\n",
    "print(triangle(1))  # 1\n",
    "print(triangle(6))  # 21\n",
    "print(triangle(215))  # 23220\n"
   ]
  },
  {
   "cell_type": "code",
   "execution_count": 6,
   "id": "b4fb98e9-a4b7-4e4a-85de-442d3fab93ba",
   "metadata": {},
   "outputs": [
    {
     "name": "stdout",
     "output_type": "stream",
     "text": [
      "5\n",
      "10\n",
      "7\n"
     ]
    }
   ],
   "source": [
    "#Question5 Create a function that takes a list of numbers between 1 and 10 (excluding one number) and returns the missing number.\n",
    "#Examples\n",
    "#missing_num([1, 2, 3, 4, 6, 7, 8, 9, 10]) ➞ 5\n",
    "#missing_num([7, 2, 3, 6, 5, 9, 1, 4, 8]) ➞ 10\n",
    "#missing_num([10, 5, 1, 2, 4, 6, 8, 3, 9]) ➞ 7\n",
    "#Ans. Please find below the code:\n",
    "\n",
    "def missing_num(lst):\n",
    "    return sum(range(1, 11)) - sum(lst)\n",
    "\n",
    "# Test cases\n",
    "print(missing_num([1, 2, 3, 4, 6, 7, 8, 9, 10]))  # 5\n",
    "print(missing_num([7, 2, 3, 6, 5, 9, 1, 4, 8]))  # 10\n",
    "print(missing_num([10, 5, 1, 2, 4, 6, 8, 3, 9]))  # 7\n"
   ]
  },
  {
   "cell_type": "code",
   "execution_count": null,
   "id": "e6c45b54-29f4-4bc2-bd51-3c49226ad70e",
   "metadata": {},
   "outputs": [],
   "source": []
  }
 ],
 "metadata": {
  "kernelspec": {
   "display_name": "Python 3 (ipykernel)",
   "language": "python",
   "name": "python3"
  },
  "language_info": {
   "codemirror_mode": {
    "name": "ipython",
    "version": 3
   },
   "file_extension": ".py",
   "mimetype": "text/x-python",
   "name": "python",
   "nbconvert_exporter": "python",
   "pygments_lexer": "ipython3",
   "version": "3.10.6"
  }
 },
 "nbformat": 4,
 "nbformat_minor": 5
}

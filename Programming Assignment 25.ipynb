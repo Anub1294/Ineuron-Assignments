{
 "cells": [
  {
   "cell_type": "code",
   "execution_count": 1,
   "id": "711fbc7f-6195-44d9-a13d-534f2f71071c",
   "metadata": {},
   "outputs": [],
   "source": [
    "#ANSWERS"
   ]
  },
  {
   "cell_type": "code",
   "execution_count": 2,
   "id": "3086d8e0-cc23-4744-aa90-d7db1f32248e",
   "metadata": {},
   "outputs": [
    {
     "name": "stdout",
     "output_type": "stream",
     "text": [
      "1\n",
      "3\n",
      "0\n"
     ]
    }
   ],
   "source": [
    "#Question1 Create a function that takes three integer arguments (a, b, c) and returns the amount of integers which are of equal value.\n",
    "#Examples\n",
    "#equal(3, 4, 3) ➞ 2\n",
    "#equal(1, 1, 1) ➞ 3\n",
    "#equal(3, 4, 1) ➞ 0 \n",
    "#Notes\n",
    "#Your function must return 0, 2 or 3.\n",
    "#Ans. Please find below the code:\n",
    "\n",
    "def equal(a, b, c):\n",
    "    count = 0\n",
    "    if a == b:\n",
    "        count += 2\n",
    "    if a == c or b == c:\n",
    "        count += 1\n",
    "    return count\n",
    "\n",
    "# Test cases\n",
    "print(equal(3, 4, 3))  # 2\n",
    "print(equal(1, 1, 1))  # 3\n",
    "print(equal(3, 4, 1))  # 0\n"
   ]
  },
  {
   "cell_type": "code",
   "execution_count": 3,
   "id": "264bbcc2-5c56-416b-a787-0dc523ebe5ea",
   "metadata": {},
   "outputs": [
    {
     "name": "stdout",
     "output_type": "stream",
     "text": [
      "[('B', 2), ('C', 3), ('D', 1)]\n",
      "[('dislikes', 3), ('followers', 10), ('likes', 2)]\n"
     ]
    }
   ],
   "source": [
    "#Question2 Write a function that converts a dictionary into a list of keys-values tuples.\n",
    "#Examples\n",
    "#dict_to_list({\n",
    "  #\"D\": 1,\n",
    "  #\"B\": 2,\n",
    "  #\"C\": 3\n",
    "#}) ➞ [(\"B\", 2), (\"C\", 3), (\"D\", 1)]\n",
    "\n",
    "#dict_to_list({\n",
    "  #\"likes\": 2,\n",
    "  #\"dislikes\": 3,\n",
    "  #\"followers\": 10\n",
    "#}) ➞ [(\"dislikes\", 3), (\"followers\", 10), (\"likes\", 2)]\n",
    "#Notes\n",
    "#Return the elements in the list in alphabetical order.\n",
    "\n",
    "#Ans. Please find below the code:\n",
    "\n",
    "def dict_to_list(d):\n",
    "    return sorted(d.items())\n",
    "\n",
    "# Test cases\n",
    "print(dict_to_list({\n",
    "  \"D\": 1,\n",
    "  \"B\": 2,\n",
    "  \"C\": 3\n",
    "}))  # [(\"B\", 2), (\"C\", 3), (\"D\", 1)]\n",
    "\n",
    "print(dict_to_list({\n",
    "  \"likes\": 2,\n",
    "  \"dislikes\": 3,\n",
    "  \"followers\": 10\n",
    "}))  # [(\"dislikes\", 3), (\"followers\", 10), (\"likes\", 2)]\n"
   ]
  },
  {
   "cell_type": "code",
   "execution_count": 4,
   "id": "7970a620-7c45-45a0-8b82-9d3cffacea2b",
   "metadata": {},
   "outputs": [
    {
     "name": "stdout",
     "output_type": "stream",
     "text": [
      "{'p': 'P', 's': 'S'}\n",
      "{'a': 'A', 'b': 'B', 'c': 'C'}\n",
      "{'a': 'A', 'v': 'V', 'y': 'Y', 'z': 'Z'}\n"
     ]
    }
   ],
   "source": [
    "#Question3 Write a function that creates a dictionary with each (key, value) pair being the (lower case, upper case) versions of a letter, respectively.\n",
    "#Examples\n",
    "#mapping([\"p\", \"s\"]) ➞ { \"p\": \"P\", \"s\": \"S\" }\n",
    "#mapping([\"a\", \"b\", \"c\"]) ➞ { \"a\": \"A\", \"b\": \"B\", \"c\": \"C\" }\n",
    "#mapping([\"a\", \"v\", \"y\", \"z\"]) ➞ { \"a\": \"A\", \"v\": \"V\", \"y\": \"Y\", \"z\": \"Z\" }\n",
    "#Notes\n",
    "#All of the letters in the input list will always be lowercase.\n",
    "#Ans. Please find below the code:\n",
    "\n",
    "def mapping(letters):\n",
    "    return {letter: letter.upper() for letter in letters}\n",
    "\n",
    "# Test cases\n",
    "print(mapping([\"p\", \"s\"]))  # { \"p\": \"P\", \"s\": \"S\" }\n",
    "print(mapping([\"a\", \"b\", \"c\"]))  # { \"a\": \"A\", \"b\": \"B\", \"c\": \"C\" }\n",
    "print(mapping([\"a\", \"v\", \"y\", \"z\"]))  # { \"a\": \"A\", \"v\": \"V\", \"y\": \"Y\", \"z\": \"Z\" }\n"
   ]
  },
  {
   "cell_type": "code",
   "execution_count": 5,
   "id": "5d9e7de5-983d-4af0-802d-0a47730a232b",
   "metadata": {},
   "outputs": [
    {
     "name": "stdout",
     "output_type": "stream",
     "text": [
      "upplus und bununus\n",
      "chooso cossorolo\n",
      "steffed jelepene peppers\n"
     ]
    }
   ],
   "source": [
    "#Question4 Write a function, that replaces all vowels in a string with a specified vowel.\n",
    "#Examples\n",
    "#vow_replace(\"apples and bananas\", \"u\") ➞ \"upplus und bununus\"\n",
    "#vow_replace(\"cheese casserole\", \"o\") ➞ \"chooso cossorolo\"\n",
    "#vow_replace(\"stuffed jalapeno poppers\", \"e\") ➞ \"steffed jelepene peppers\"\n",
    "#Notes\n",
    "#All words will be lowercase. Y is not considered a vowel.\n",
    "#Ans. Please find below the code:\n",
    "\n",
    "def vow_replace(txt, vowel):\n",
    "    vowels = \"aeiou\"\n",
    "    return ''.join(vowel if char in vowels else char for char in txt)\n",
    "\n",
    "# Test cases\n",
    "print(vow_replace(\"apples and bananas\", \"u\"))  # \"upplus und bununus\"\n",
    "print(vow_replace(\"cheese casserole\", \"o\"))  # \"chooso cossorolo\"\n",
    "print(vow_replace(\"stuffed jalapeno poppers\", \"e\"))  # \"steffed jelepene peppers\"\n"
   ]
  },
  {
   "cell_type": "code",
   "execution_count": 6,
   "id": "a639012f-41fd-4dc8-9f31-bfa20fab2c1c",
   "metadata": {},
   "outputs": [
    {
     "name": "stdout",
     "output_type": "stream",
     "text": [
      "To Be oR NoT To Be!\n",
      "THe LiTTLe meRmaiD\n",
      "oH wHaT a BeauTiFuL moRNiNg.\n"
     ]
    }
   ],
   "source": [
    "#Question5 Create a function that takes a string as input and capitalizes a letter if its ASCII code is even and returns its lower case version if its ASCII code is odd.\n",
    "#Examples\n",
    "#ascii_capitalize(\"to be or not to be!\") ➞ \"To Be oR NoT To Be!\"\n",
    "#ascii_capitalize(\"THE LITTLE MERMAID\") ➞ \"THe LiTTLe meRmaiD\"\n",
    "#ascii_capitalize(\"Oh what a beautiful morning.\") ➞ \"oH wHaT a BeauTiFuL moRNiNg.\"\n",
    "#Ans. Please find below the code:\n",
    "\n",
    "def ascii_capitalize(txt):\n",
    "    return ''.join(char.upper() if ord(char) % 2 == 0 else char.lower() for char in txt)\n",
    "\n",
    "# Test cases\n",
    "print(ascii_capitalize(\"to be or not to be!\"))  # \"To Be oR NoT To Be!\"\n",
    "print(ascii_capitalize(\"THE LITTLE MERMAID\"))  # \"THe LiTTLe meRmaiD\"\n",
    "print(ascii_capitalize(\"Oh what a beautiful morning.\"))  # \"oH wHaT a BeauTiFuL moRNiNg.\"\n"
   ]
  },
  {
   "cell_type": "code",
   "execution_count": null,
   "id": "b631874c-d6d1-4a39-9e33-fa42f94bc7cf",
   "metadata": {},
   "outputs": [],
   "source": []
  }
 ],
 "metadata": {
  "kernelspec": {
   "display_name": "Python 3 (ipykernel)",
   "language": "python",
   "name": "python3"
  },
  "language_info": {
   "codemirror_mode": {
    "name": "ipython",
    "version": 3
   },
   "file_extension": ".py",
   "mimetype": "text/x-python",
   "name": "python",
   "nbconvert_exporter": "python",
   "pygments_lexer": "ipython3",
   "version": "3.10.6"
  }
 },
 "nbformat": 4,
 "nbformat_minor": 5
}

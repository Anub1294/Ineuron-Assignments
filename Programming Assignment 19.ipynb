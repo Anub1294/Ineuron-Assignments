{
 "cells": [
  {
   "cell_type": "code",
   "execution_count": 1,
   "id": "7301d9a6-12fd-4107-9bac-b0b9093fc500",
   "metadata": {},
   "outputs": [],
   "source": [
    "#ANSWERS"
   ]
  },
  {
   "cell_type": "code",
   "execution_count": 2,
   "id": "342484be-ad9c-4f1c-829d-11c41720f5a9",
   "metadata": {},
   "outputs": [
    {
     "name": "stdout",
     "output_type": "stream",
     "text": [
      "SSttrriinngg\n",
      "HHeelllloo  WWoorrlldd!!\n",
      "11223344!!__  \n"
     ]
    }
   ],
   "source": [
    "#Question1\n",
    "#Create a function that takes a string and returns a string in which each character is repeated once.\n",
    "#Examples\n",
    "#double_char(\"String\") ➞ \"SSttrriinngg\"\n",
    "#double_char(\"Hello World!\") ➞ \"HHeelllloo  WWoorrlldd!!\"\n",
    "#double_char(\"1234!_ \") ➞ \"11223344!!__  \"\n",
    "#Ans. Please find below the code:\n",
    "\n",
    "def double_char(s):\n",
    "    result = \"\"\n",
    "    for char in s:\n",
    "        result += char * 2\n",
    "    return result\n",
    "\n",
    "# Test cases\n",
    "print(double_char(\"String\"))  # \"SSttrriinngg\"\n",
    "print(double_char(\"Hello World!\"))  # \"HHeelllloo  WWoorrlldd!!\"\n",
    "print(double_char(\"1234!_ \"))  # \"11223344!!__  \"\n"
   ]
  },
  {
   "cell_type": "code",
   "execution_count": 3,
   "id": "199e2e2a-e40c-4d4e-88b2-c5b72ad517a6",
   "metadata": {},
   "outputs": [
    {
     "name": "stdout",
     "output_type": "stream",
     "text": [
      "False\n",
      "True\n",
      "boolean expected\n",
      "boolean expected\n"
     ]
    }
   ],
   "source": [
    "#Question2 Create a function that reverses a boolean value and returns the string \"boolean expected\" if another variable type is given.\n",
    "#Examples\n",
    "#reverse(True) ➞ False\n",
    "#reverse(False) ➞ True\n",
    "#reverse(0) ➞ \"boolean expected\"\n",
    "#reverse(None) ➞ \"boolean expected\"\n",
    "#Ans. Please find below the code:\n",
    "\n",
    "def reverse(b):\n",
    "    if isinstance(b, bool):\n",
    "        return not b\n",
    "    else:\n",
    "        return \"boolean expected\"\n",
    "\n",
    "# Test cases\n",
    "print(reverse(True))  # False\n",
    "print(reverse(False))  # True\n",
    "print(reverse(0))  # \"boolean expected\"\n",
    "print(reverse(None))  # \"boolean expected\"\n"
   ]
  },
  {
   "cell_type": "code",
   "execution_count": 4,
   "id": "44b1b11d-1347-48ad-8559-9cc51182ea64",
   "metadata": {},
   "outputs": [
    {
     "name": "stdout",
     "output_type": "stream",
     "text": [
      "0.001m\n",
      "0.008m\n",
      "1048.576m\n"
     ]
    }
   ],
   "source": [
    "#Question3 Create a function that returns the thickness (in meters) of a piece of paper after folding it n number of times. The paper starts off with a thickness of 0.5mm.\n",
    "#Examples\n",
    "#num_layers(1) ➞ \"0.001m\"\n",
    "# Paper folded once is 1mm (equal to 0.001m)\n",
    "\n",
    "#num_layers(4) ➞ \"0.008m\"\n",
    "# Paper folded 4 times is 8mm (equal to 0.008m)\n",
    "\n",
    "#num_layers(21) ➞ \"1048.576m\"\n",
    "# Paper folded 21 times is 1048576mm (equal to 1048.576m)\n",
    "\n",
    "#Ans. Please find below the code:\n",
    "\n",
    "def num_layers(n):\n",
    "    thickness_mm = 0.5 * (2 ** n)\n",
    "    thickness_m = thickness_mm / 1000\n",
    "    return \"{:.3f}m\".format(thickness_m)\n",
    "\n",
    "# Test cases\n",
    "print(num_layers(1))  # \"0.001m\"\n",
    "print(num_layers(4))  # \"0.008m\"\n",
    "print(num_layers(21))  # \"1048.576m\"\n"
   ]
  },
  {
   "cell_type": "code",
   "execution_count": 5,
   "id": "1261ce49-ac0b-4b74-9f2f-ba3947a2e974",
   "metadata": {},
   "outputs": [
    {
     "name": "stdout",
     "output_type": "stream",
     "text": [
      "[1, 3, 5]\n",
      "[1, 3, 4, 6]\n",
      "[]\n",
      "[0, 1, 2, 3, 4, 5]\n",
      "[1]\n"
     ]
    }
   ],
   "source": [
    "#Question4 Create a function that takes a single string as argument and returns an ordered list containing the indices of all capital letters in the string.\n",
    "#Examples\n",
    "#index_of_caps(\"eDaBiT\") ➞ [1, 3, 5]\n",
    "#index_of_caps(\"eQuINoX\") ➞ [1, 3, 4, 6]\n",
    "#index_of_caps(\"determine\") ➞ []\n",
    "#index_of_caps(\"STRIKE\") ➞ [0, 1, 2, 3, 4, 5]\n",
    "#index_of_caps(\"sUn\") ➞ [1]\n",
    "#Ans. Please find below the code:\n",
    "\n",
    "def index_of_caps(s):\n",
    "    return [index for index, char in enumerate(s) if char.isupper()]\n",
    "\n",
    "# Test cases\n",
    "print(index_of_caps(\"eDaBiT\"))  # [1, 3, 5]\n",
    "print(index_of_caps(\"eQuINoX\"))  # [1, 3, 4, 6]\n",
    "print(index_of_caps(\"determine\"))  # []\n",
    "print(index_of_caps(\"STRIKE\"))  # [0, 1, 2, 3, 4, 5]\n",
    "print(index_of_caps(\"sUn\"))  # [1]\n"
   ]
  },
  {
   "cell_type": "code",
   "execution_count": 6,
   "id": "dc1dd2e0-7f69-41cd-9b45-8a7554d20e97",
   "metadata": {},
   "outputs": [
    {
     "name": "stdout",
     "output_type": "stream",
     "text": [
      "[2, 4, 6, 8]\n",
      "[2, 4]\n",
      "[2]\n"
     ]
    }
   ],
   "source": [
    "#Question5 Using list comprehensions, create a function that finds all even numbers from 1 to the given number.\n",
    "#Examples\n",
    "#find_even_nums(8) ➞ [2, 4, 6, 8]\n",
    "#find_even_nums(4) ➞ [2, 4]\n",
    "#find_even_nums(2) ➞ [2]\n",
    "#Ans. Please find below the code:\n",
    "\n",
    "def find_even_nums(n):\n",
    "    return [num for num in range(1, n + 1) if num % 2 == 0]\n",
    "\n",
    "# Test cases\n",
    "print(find_even_nums(8))  # [2, 4, 6, 8]\n",
    "print(find_even_nums(4))  # [2, 4]\n",
    "print(find_even_nums(2))  # [2]\n"
   ]
  },
  {
   "cell_type": "code",
   "execution_count": null,
   "id": "00f727b0-f562-4f24-8d4e-146f7a3830dc",
   "metadata": {},
   "outputs": [],
   "source": []
  }
 ],
 "metadata": {
  "kernelspec": {
   "display_name": "Python 3 (ipykernel)",
   "language": "python",
   "name": "python3"
  },
  "language_info": {
   "codemirror_mode": {
    "name": "ipython",
    "version": 3
   },
   "file_extension": ".py",
   "mimetype": "text/x-python",
   "name": "python",
   "nbconvert_exporter": "python",
   "pygments_lexer": "ipython3",
   "version": "3.10.6"
  }
 },
 "nbformat": 4,
 "nbformat_minor": 5
}

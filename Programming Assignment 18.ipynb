{
 "cells": [
  {
   "cell_type": "code",
   "execution_count": 1,
   "id": "9053c661-bf7e-4868-bf29-231c0af7ff13",
   "metadata": {},
   "outputs": [],
   "source": [
    "#ANSWERS"
   ]
  },
  {
   "cell_type": "code",
   "execution_count": 2,
   "id": "5a3ce303-e5c3-4c4d-8bad-0609e0af186a",
   "metadata": {},
   "outputs": [
    {
     "name": "stdout",
     "output_type": "stream",
     "text": [
      "[1, 2]\n",
      "[1, 0, 15]\n",
      "[1, 2, 123]\n"
     ]
    }
   ],
   "source": [
    "#Question 1 Create a function that takes a list of non-negative integers and strings and return a new list without the strings.\n",
    "#Examples\n",
    "#filter_list([1, 2, \"a\", \"b\"]) ➞ [1, 2]\n",
    "#filter_list([1, \"a\", \"b\", 0, 15]) ➞ [1, 0, 15]\n",
    "#filter_list([1, 2, \"aasf\", \"1\", \"123\", 123]) ➞ [1, 2, 123]\n",
    "#Ans. Please find below the code:\n",
    "\n",
    "def filter_list(lst):\n",
    "    return [x for x in lst if isinstance(x, int) and x >= 0]\n",
    "\n",
    "# Test cases\n",
    "print(filter_list([1, 2, \"a\", \"b\"]))  # [1, 2]\n",
    "print(filter_list([1, \"a\", \"b\", 0, 15]))  # [1, 0, 15]\n",
    "print(filter_list([1, 2, \"aasf\", \"1\", \"123\", 123]))  # [1, 2, 123]\n"
   ]
  },
  {
   "cell_type": "code",
   "execution_count": 3,
   "id": "8d1587f0-4376-40c7-bc40-7241fb9c075c",
   "metadata": {},
   "outputs": [
    {
     "name": "stdout",
     "output_type": "stream",
     "text": [
      "DLROw OLLEh\n",
      "eSrEvEr\n",
      "RADAr\n"
     ]
    }
   ],
   "source": [
    "#Question 2 The \"Reverser\" takes a string as input and returns that string in reverse order, with the opposite case.\n",
    "#Examples\n",
    "#reverse(\"Hello World\") ➞ \"DLROw OLLEh\"\n",
    "#reverse(\"ReVeRsE\") ➞ \"eSrEvEr\"\n",
    "#reverse(\"Radar\") ➞ \"RADAr\"\n",
    "#Ans. Please find below the code:\n",
    "\n",
    "def reverse(s):\n",
    "    return s[::-1].swapcase()\n",
    "\n",
    "# Test cases\n",
    "print(reverse(\"Hello World\"))  # \"DLROw OLLEh\"\n",
    "print(reverse(\"ReVeRsE\"))  # \"eSrEvEr\"\n",
    "print(reverse(\"Radar\"))  # \"RADAr\"\n"
   ]
  },
  {
   "cell_type": "code",
   "execution_count": 4,
   "id": "c378c773-9924-45a3-9f81-f2b7a1c04d66",
   "metadata": {},
   "outputs": [
    {
     "name": "stdout",
     "output_type": "stream",
     "text": [
      "1\n",
      "[2, 3, 4, 5]\n",
      "6\n"
     ]
    }
   ],
   "source": [
    "#Question 3 You can assign variables from lists like this:\n",
    "#lst = [1, 2, 3, 4, 5, 6]\n",
    "#first = lst[0]\n",
    "#middle = lst[1:-1]\n",
    "#last = lst[-1]\n",
    "\n",
    "#print(first) ➞ outputs 1\n",
    "#print(middle) ➞ outputs [2, 3, 4, 5]\n",
    "#print(last) ➞ outputs 6\n",
    "#With Python 3, you can assign variables from lists in a much more succinct way. Create variables first, middle and last from the given list using destructuring assignment (check the Resources tab for some examples), where:\n",
    "#first  ➞ 1\n",
    "#middle ➞ [2, 3, 4, 5]\n",
    "#last ➞ 6\n",
    "#Your task is to unpack the list writeyourcodehere into three variables, being first, middle, and last, with middle being everything in between the first and last element. Then print all three variables.\n",
    "#Ans. Please find below the code:\n",
    "\n",
    "writeyourcodehere = [1, 2, 3, 4, 5, 6]\n",
    "first, *middle, last = writeyourcodehere\n",
    "\n",
    "print(first)  # 1\n",
    "print(middle)  # [2, 3, 4, 5]\n",
    "print(last)  # 6\n"
   ]
  },
  {
   "cell_type": "code",
   "execution_count": 5,
   "id": "fb1271d4-ba8c-4603-af86-95fd8a05686d",
   "metadata": {},
   "outputs": [
    {
     "name": "stdout",
     "output_type": "stream",
     "text": [
      "120\n",
      "6\n",
      "1\n",
      "1\n"
     ]
    }
   ],
   "source": [
    "#Question 4 Write a function that calculates the factorial of a number recursively.\n",
    "#Examples\n",
    "#factorial(5) ➞ 120\n",
    "#factorial(3) ➞ 6\n",
    "#factorial(1) ➞ 1\n",
    "#factorial(0) ➞ 1\n",
    "#Ans. Please find below the code:\n",
    "\n",
    "def factorial(n):\n",
    "    if n <= 1:\n",
    "        return 1\n",
    "    return n * factorial(n - 1)\n",
    "\n",
    "# Test cases\n",
    "print(factorial(5))  # 120\n",
    "print(factorial(3))  # 6\n",
    "print(factorial(1))  # 1\n",
    "print(factorial(0))  # 1\n"
   ]
  },
  {
   "cell_type": "code",
   "execution_count": 6,
   "id": "7b31d57d-102c-4223-a944-587f7084c01e",
   "metadata": {},
   "outputs": [
    {
     "name": "stdout",
     "output_type": "stream",
     "text": [
      "[3, 2, 4, 4, 1, 1]\n",
      "[7, 8, 1, 2, 3, 4, 9]\n",
      "['b', 'a', 'a', 'a']\n"
     ]
    }
   ],
   "source": [
    "#Question 5 Write a function that moves all elements of one type to the end of the list.\n",
    "#Examples\n",
    "#move_to_end([1, 3, 2, 4, 4, 1], 1) ➞ [3, 2, 4, 4, 1, 1]\n",
    "# Move all the 1s to the end of the array.\n",
    "# move_to_end([7, 8, 9, 1, 2, 3, 4], 9) ➞ [7, 8, 1, 2, 3, 4, 9]\n",
    "# move_to_end([\"a\", \"a\", \"a\", \"b\"], \"a\") ➞ [\"b\", \"a\", \"a\", \"a\"]\n",
    "#Ans. Please find below the code:\n",
    "\n",
    "def move_to_end(lst, element):\n",
    "    return [x for x in lst if x != element] + [x for x in lst if x == element]\n",
    "\n",
    "# Test cases\n",
    "print(move_to_end([1, 3, 2, 4, 4, 1], 1))  # [3, 2, 4, 4, 1, 1]\n",
    "print(move_to_end([7, 8, 9, 1, 2, 3, 4], 9))  # [7, 8, 1, 2, 3, 4, 9]\n",
    "print(move_to_end([\"a\", \"a\", \"a\", \"b\"], \"a\"))  # [\"b\", \"a\", \"a\", \"a\"]\n"
   ]
  },
  {
   "cell_type": "code",
   "execution_count": null,
   "id": "3172b6e4-65a9-4159-af1d-01f5226aaaab",
   "metadata": {},
   "outputs": [],
   "source": []
  }
 ],
 "metadata": {
  "kernelspec": {
   "display_name": "Python 3 (ipykernel)",
   "language": "python",
   "name": "python3"
  },
  "language_info": {
   "codemirror_mode": {
    "name": "ipython",
    "version": 3
   },
   "file_extension": ".py",
   "mimetype": "text/x-python",
   "name": "python",
   "nbconvert_exporter": "python",
   "pygments_lexer": "ipython3",
   "version": "3.10.6"
  }
 },
 "nbformat": 4,
 "nbformat_minor": 5
}

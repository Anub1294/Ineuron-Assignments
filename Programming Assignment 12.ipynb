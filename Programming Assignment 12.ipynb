{
 "cells": [
  {
   "cell_type": "code",
   "execution_count": 1,
   "id": "4957097e-d968-4827-8f36-c26f9531d833",
   "metadata": {},
   "outputs": [],
   "source": [
    "#ANSWERS"
   ]
  },
  {
   "cell_type": "code",
   "execution_count": 2,
   "id": "c1e63260-d369-43e5-8a7c-4e81cc80766b",
   "metadata": {},
   "outputs": [
    {
     "name": "stdout",
     "output_type": "stream",
     "text": [
      "Unique values: [1, 2, 3, 4, 5, 6]\n"
     ]
    }
   ],
   "source": [
    "#Q1.Write a Python program to Extract Unique values dictionary values?\n",
    "#Ans. Please find below the code:\n",
    "\n",
    "def unique_values(dictionary):\n",
    "    unique_values_set = set()\n",
    "    for values in dictionary.values():\n",
    "        unique_values_set.update(values)\n",
    "    return list(unique_values_set)\n",
    "\n",
    "my_dict = {'a': [1, 2, 3], 'b': [2, 3, 4], 'c': [4, 5, 6]}\n",
    "result = unique_values(my_dict)\n",
    "print(f\"Unique values: {result}\")\n"
   ]
  },
  {
   "cell_type": "code",
   "execution_count": 3,
   "id": "1bb0f5da-c666-4b1c-80b9-cb1e9cbd442e",
   "metadata": {},
   "outputs": [
    {
     "name": "stdout",
     "output_type": "stream",
     "text": [
      "Sum of dictionary values: 60\n"
     ]
    }
   ],
   "source": [
    "#Q2.Write a Python program to find the sum of all items in a dictionary?\n",
    "#Ans.Please find below the code:\n",
    "\n",
    "def sum_of_dict_values(dictionary):\n",
    "    return sum(dictionary.values())\n",
    "\n",
    "my_dict = {'a': 10, 'b': 20, 'c': 30}\n",
    "result = sum_of_dict_values(my_dict)\n",
    "print(f\"Sum of dictionary values: {result}\")\n"
   ]
  },
  {
   "cell_type": "code",
   "execution_count": 4,
   "id": "0de09a0f-2274-469f-8d05-d9eb40c93640",
   "metadata": {},
   "outputs": [
    {
     "name": "stdout",
     "output_type": "stream",
     "text": [
      "Merged dictionary: {'a': 1, 'b': 2, 'c': 3, 'd': 4}\n"
     ]
    }
   ],
   "source": [
    "#Q3.Write a Python program to Merging two Dictionaries?\n",
    "#Ans. Please find below the code:\n",
    "\n",
    "def merge_dicts(dict1, dict2):\n",
    "    merged_dict = {**dict1, **dict2}\n",
    "    return merged_dict\n",
    "\n",
    "dict1 = {'a': 1, 'b': 2}\n",
    "dict2 = {'c': 3, 'd': 4}\n",
    "result = merge_dicts(dict1, dict2)\n",
    "print(f\"Merged dictionary: {result}\")\n"
   ]
  },
  {
   "cell_type": "code",
   "execution_count": 5,
   "id": "7897634a-9169-47b4-81be-aee019645232",
   "metadata": {},
   "outputs": [
    {
     "name": "stdout",
     "output_type": "stream",
     "text": [
      "Flat dictionary: {'a': 1, 'b': 2, 'c': 3}\n"
     ]
    }
   ],
   "source": [
    "#Q4.Write a Python program to convert key-values list to flat dictionary?\n",
    "#Ans. Please find below the code:\n",
    "\n",
    "def list_to_flat_dict(key_list, value_list):\n",
    "    return dict(zip(key_list, value_list))\n",
    "\n",
    "keys = ['a', 'b', 'c']\n",
    "values = [1, 2, 3]\n",
    "result = list_to_flat_dict(keys, values)\n",
    "print(f\"Flat dictionary: {result}\")\n"
   ]
  },
  {
   "cell_type": "code",
   "execution_count": 16,
   "id": "3e105f7c-35d5-4bf3-88ab-762482597b76",
   "metadata": {},
   "outputs": [
    {
     "name": "stdout",
     "output_type": "stream",
     "text": [
      "OrderedDict after insertion: OrderedDict([('a', 1), ('b', 2), ('c', 3), ('x', 10)])\n"
     ]
    }
   ],
   "source": [
    "#Q5.Write a Python program to insertion at the beginning in OrderedDict?\n",
    "#Ans. Please find below the code:\n",
    "\n",
    "from collections import OrderedDict\n",
    "\n",
    "def insert_at_beginning(ordered_dict, key, value):\n",
    "    if key in ordered_dict:\n",
    "        ordered_dict.move_to_end(key, last=False)\n",
    "    else:\n",
    "        ordered_dict[key] = value\n",
    "    return ordered_dict\n",
    "\n",
    "ordered_dict = OrderedDict([('a', 1), ('b', 2), ('c', 3)])\n",
    "key_to_insert = 'x'\n",
    "value_to_insert = 10\n",
    "result = insert_at_beginning(ordered_dict, key_to_insert, value_to_insert)\n",
    "print(f\"OrderedDict after insertion: {result}\")\n"
   ]
  },
  {
   "cell_type": "code",
   "execution_count": 13,
   "id": "5419199c-e9a8-4a1b-8b11-ad3efe57244c",
   "metadata": {},
   "outputs": [
    {
     "name": "stdout",
     "output_type": "stream",
     "text": [
      "Pattern order in string: True\n"
     ]
    }
   ],
   "source": [
    "#Q6.Write a Python program to check order of character in string using OrderedDict()?\n",
    "#Ans. Please find below the code:\n",
    "\n",
    "from collections import OrderedDict\n",
    "\n",
    "def check_order_string(input_str, pattern):\n",
    "    pattern_dict = OrderedDict.fromkeys(pattern)\n",
    "    j = 0\n",
    "    for char in input_str:\n",
    "        if j < len(pattern) and char == pattern[j]:\n",
    "            j += 1\n",
    "    return j == len(pattern)\n",
    "\n",
    "input_string = \"engineering\"\n",
    "pattern_string = \"egr\"\n",
    "result = check_order_string(input_string, pattern_string)\n",
    "print(f\"Pattern order in string: {result}\")\n"
   ]
  },
  {
   "cell_type": "code",
   "execution_count": 14,
   "id": "041bbbf9-f569-405e-91c0-a795a1b608b3",
   "metadata": {},
   "outputs": [
    {
     "name": "stdout",
     "output_type": "stream",
     "text": [
      "Sorted by key: {'a': 1, 'b': 3, 'c': 2}\n",
      "Sorted by value: {'a': 1, 'c': 2, 'b': 3}\n"
     ]
    }
   ],
   "source": [
    "#Q7.Write a Python program to sort Python Dictionaries by Key or Value?\n",
    "#Ans. Please find below the code:\n",
    "\n",
    "def sort_dict_by_key(dictionary):\n",
    "    return dict(sorted(dictionary.items()))\n",
    "\n",
    "def sort_dict_by_value(dictionary):\n",
    "    return dict(sorted(dictionary.items(), key=lambda item: item[1]))\n",
    "\n",
    "my_dict = {'b': 3, 'a': 1, 'c': 2}\n",
    "sorted_by_key = sort_dict_by_key(my_dict)\n",
    "sorted_by_value = sort_dict_by_value(my_dict)\n",
    "print(f\"Sorted by key: {sorted_by_key}\")\n",
    "print(f\"Sorted by value: {sorted_by_value}\")\n"
   ]
  },
  {
   "cell_type": "code",
   "execution_count": null,
   "id": "b41f8e9b-1c03-4938-b200-02cea61bacb6",
   "metadata": {},
   "outputs": [],
   "source": []
  }
 ],
 "metadata": {
  "kernelspec": {
   "display_name": "Python 3 (ipykernel)",
   "language": "python",
   "name": "python3"
  },
  "language_info": {
   "codemirror_mode": {
    "name": "ipython",
    "version": 3
   },
   "file_extension": ".py",
   "mimetype": "text/x-python",
   "name": "python",
   "nbconvert_exporter": "python",
   "pygments_lexer": "ipython3",
   "version": "3.10.6"
  }
 },
 "nbformat": 4,
 "nbformat_minor": 5
}

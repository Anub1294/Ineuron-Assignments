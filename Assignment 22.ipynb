{
 "cells": [
  {
   "cell_type": "code",
   "execution_count": 1,
   "id": "0a05abe6-f8b6-4b85-9a85-4fad82cbeeb7",
   "metadata": {},
   "outputs": [],
   "source": [
    "#ANSWERS"
   ]
  },
  {
   "cell_type": "code",
   "execution_count": 6,
   "id": "37c8edf9-55a5-460d-8c5c-d765c1a59849",
   "metadata": {},
   "outputs": [],
   "source": [
    "#Q1. What is the result of the code, and explain?\n",
    "#>>> X = 'iNeuron'\n",
    "#>>> def func():\n",
    "#print(X)\n",
    "#>>> func()"
   ]
  },
  {
   "cell_type": "code",
   "execution_count": 4,
   "id": "546e6893-fb93-4ff1-8b9b-9a20a35c3b08",
   "metadata": {},
   "outputs": [
    {
     "name": "stdout",
     "output_type": "stream",
     "text": [
      "iNeuron\n"
     ]
    }
   ],
   "source": [
    ">>> X = 'iNeuron'\n",
    ">>> def func():\n",
    "    print(X)\n",
    ">>> func()"
   ]
  },
  {
   "cell_type": "code",
   "execution_count": 5,
   "id": "c1177458-2c8a-4c84-a12d-83d472bbaa01",
   "metadata": {},
   "outputs": [],
   "source": [
    "#Ans. The output of the above code is “iNeuron”. In this code, a global variable X is assigned the value 'iNeuron'. \n",
    "#Then, a function func() is defined, which prints the value of the global variable X. \n",
    "#When the function func() is called, it prints the value of X, which is 'iNeuron'.\n"
   ]
  },
  {
   "cell_type": "code",
   "execution_count": 7,
   "id": "8164731d-fa1b-4472-8a50-bb44fde21336",
   "metadata": {},
   "outputs": [],
   "source": [
    "#Q2. What is the result of the code, and explain?\n",
    "#>>> X = 'iNeuron'\n",
    "#>>> def func():\n",
    "#X = 'NI!'\n",
    "#>>> func()\n",
    "#>>> print(X)"
   ]
  },
  {
   "cell_type": "code",
   "execution_count": 9,
   "id": "10406d4a-9bac-43af-b937-01e73b6cc6f4",
   "metadata": {},
   "outputs": [
    {
     "name": "stdout",
     "output_type": "stream",
     "text": [
      "iNeuron\n"
     ]
    }
   ],
   "source": [
    ">>> X = 'iNeuron'\n",
    ">>> def func():\n",
    "    X = 'NI!'\n",
    ">>> func()\n",
    ">>> print(X)\n"
   ]
  },
  {
   "cell_type": "code",
   "execution_count": 10,
   "id": "3ea1c8fd-0e69-436f-9e77-bdfd0aef3104",
   "metadata": {},
   "outputs": [],
   "source": [
    "#Ans. The output of the above code is “iNeuron”. \n",
    "#In this code, a global variable X is assigned the value 'iNeuron'. \n",
    "#Then, a function func() is defined, within which a local variable X is assigned the value 'NI!'. \n",
    "#When the function func() is called, it creates a local variable X but doesn't affect the value of the global X.\n",
    "#When print(X) is executed outside the function, it prints the value of the global X, which remains 'iNeuron'."
   ]
  },
  {
   "cell_type": "code",
   "execution_count": 11,
   "id": "d58b58ff-be0c-4d33-b6c1-6e578a8fff3a",
   "metadata": {},
   "outputs": [],
   "source": [
    "#Q3. What does this code print, and why?\n",
    "#>>> X = 'iNeuron'\n",
    "#>>> def func():\n",
    "#X = 'NI'\n",
    "#print(X)\n",
    "#>>> func()\n",
    "#>>> print(X)"
   ]
  },
  {
   "cell_type": "code",
   "execution_count": 13,
   "id": "497fada7-1a0d-4d7d-883d-4520685f73fc",
   "metadata": {},
   "outputs": [
    {
     "name": "stdout",
     "output_type": "stream",
     "text": [
      "iNeuron\n",
      "iNeuron\n"
     ]
    }
   ],
   "source": [
    ">>> X = 'iNeuron'\n",
    ">>> def func():\n",
    "    X = 'NI'\n",
    "print(X)\n",
    ">>> func()\n",
    ">>> print(X)\n"
   ]
  },
  {
   "cell_type": "code",
   "execution_count": 14,
   "id": "278da879-815c-4b67-8ea0-c7f0fd52caae",
   "metadata": {},
   "outputs": [],
   "source": [
    "#Ans. In this code, a global variable X is assigned the value 'iNeuron'. \n",
    "#The func() function is called, but it doesn't affect the global variable X. It only modifies a local variable within its own scope.\n",
    "#When the function func() is called, it prints the local X, which is 'iNeuron'. \n",
    "#However, the global variable X remains unchanged, so when print(X) is executed outside the function, it prints the value of the global X, which is 'iNeuron'."
   ]
  },
  {
   "cell_type": "code",
   "execution_count": 15,
   "id": "64f78066-d557-4984-ad1f-83d533f8859d",
   "metadata": {},
   "outputs": [],
   "source": [
    "#Q4. What output does this code produce? Why?\n",
    "#>>> X = 'iNeuron'\n",
    "#>>> def func():\n",
    "#global X\n",
    "#X = 'NI'\n",
    "#>>> func()\n",
    "#>>> print(X)"
   ]
  },
  {
   "cell_type": "code",
   "execution_count": 17,
   "id": "d13f32e7-a17f-4394-8a8a-f356f9dc5398",
   "metadata": {},
   "outputs": [
    {
     "name": "stdout",
     "output_type": "stream",
     "text": [
      "NI\n"
     ]
    }
   ],
   "source": [
    ">>> X = 'iNeuron'\n",
    ">>> def func():\n",
    "    global X\n",
    "X = 'NI'\n",
    ">>> func()\n",
    ">>> print(X)\n"
   ]
  },
  {
   "cell_type": "code",
   "execution_count": 18,
   "id": "00f6d361-6979-4bf9-b5e3-c513f895638c",
   "metadata": {},
   "outputs": [],
   "source": [
    "#Ans. The output of the above mentioned code is “NI”. \n",
    "#In this code, a global variable X is assigned the value 'iNeuron'. \n",
    "#Then, a function func() is defined, within which the global keyword is used to indicate that the function should use the global variable X. \n",
    "#When the function func() is called, it modifies the global X to 'NI'. \n",
    "#As a result, when print(X) is executed outside the function, it prints the modified value of the global X, which is 'NI'."
   ]
  },
  {
   "cell_type": "code",
   "execution_count": 19,
   "id": "ebceeb4e-22ad-4cd9-9490-aea8f78c268b",
   "metadata": {},
   "outputs": [],
   "source": [
    "#Q5. What about this code—what’s the output, and why?\n",
    "#>>> X = 'iNeuron'\n",
    "#>>> def func():\n",
    "#X = 'NI'\n",
    "#def nested():\n",
    "#print(X)\n",
    "#nested()\n",
    "#>>> func()\n",
    "#>>> X"
   ]
  },
  {
   "cell_type": "code",
   "execution_count": 22,
   "id": "e6b15534-17c3-4d75-84c4-bc76574aa56a",
   "metadata": {},
   "outputs": [
    {
     "name": "stdout",
     "output_type": "stream",
     "text": [
      "iNeuron\n"
     ]
    },
    {
     "data": {
      "text/plain": [
       "'iNeuron'"
      ]
     },
     "execution_count": 22,
     "metadata": {},
     "output_type": "execute_result"
    }
   ],
   "source": [
    ">>> X = 'iNeuron'\n",
    ">>> def func():\n",
    "    X = 'NI'\n",
    "def nested():\n",
    "    print(X)\n",
    "nested()\n",
    ">>> func()\n",
    ">>> X\n"
   ]
  },
  {
   "cell_type": "code",
   "execution_count": 23,
   "id": "e3f48ae3-891e-484c-8610-05a66651558f",
   "metadata": {},
   "outputs": [],
   "source": [
    "#Ans. The first two lines define the global variable X and the func function.\n",
    "#The nested function is defined, and it prints the global variable X.\n",
    "#The func() function is called but doesn't affect the global variable.\n",
    "#The final line returns the value of the global variable X."
   ]
  },
  {
   "cell_type": "code",
   "execution_count": 24,
   "id": "a832542b-50ba-46b3-b812-658156c96b2d",
   "metadata": {},
   "outputs": [],
   "source": [
    "#Q6. How about this code: what is its output in Python 3, and explain?\n",
    "#>>> def func():\n",
    "#X = 'NI'\n",
    "#def nested():\n",
    "#nonlocal X\n",
    "#X = 'Spam'\n",
    "#nested()\n",
    "#print(X)\n",
    "#>>> func()"
   ]
  },
  {
   "cell_type": "code",
   "execution_count": 46,
   "id": "16bbbc39-d876-456f-afba-3d9cc0bf7b04",
   "metadata": {},
   "outputs": [
    {
     "name": "stdout",
     "output_type": "stream",
     "text": [
      "Spam\n"
     ]
    }
   ],
   "source": [
    ">>> def func():\n",
    "    X = 'NI'\n",
    "    def nested():\n",
    "        nonlocal X\n",
    "        X = 'Spam'\n",
    "    nested()\n",
    "    print(X)\n",
    ">>> func()"
   ]
  },
  {
   "cell_type": "code",
   "execution_count": null,
   "id": "4e9616a0-8352-4067-a577-37da1e09ff88",
   "metadata": {},
   "outputs": [],
   "source": [
    "#Ans. The output of the above mentioned code is “Spam”. \n",
    "#In this code, a function func() is defined. \n",
    "#Inside func(), a local variable X is assigned the value 'NI'.\n",
    "#Then, another function nested() is defined within func(), and the nonlocal keyword is used to indicate that the inner function should modify the nearest enclosing variable named X, which is the one in the func() function. When nested() is called, it modifies the local X in the func() function to 'Spam'. \n",
    "#As a result, when print(X) is executed within func(), it prints the modified value of the local X, which is 'Spam'."
   ]
  }
 ],
 "metadata": {
  "kernelspec": {
   "display_name": "Python 3 (ipykernel)",
   "language": "python",
   "name": "python3"
  },
  "language_info": {
   "codemirror_mode": {
    "name": "ipython",
    "version": 3
   },
   "file_extension": ".py",
   "mimetype": "text/x-python",
   "name": "python",
   "nbconvert_exporter": "python",
   "pygments_lexer": "ipython3",
   "version": "3.10.6"
  }
 },
 "nbformat": 4,
 "nbformat_minor": 5
}

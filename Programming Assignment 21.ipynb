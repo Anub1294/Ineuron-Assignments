{
 "cells": [
  {
   "cell_type": "code",
   "execution_count": 1,
   "id": "e31f29da-5a27-4d8f-b05a-7005f2827f47",
   "metadata": {},
   "outputs": [],
   "source": [
    "#ANSWERS"
   ]
  },
  {
   "cell_type": "code",
   "execution_count": 2,
   "id": "47c3cbf4-a722-4010-9edf-30862a557d17",
   "metadata": {},
   "outputs": [
    {
     "name": "stdout",
     "output_type": "stream",
     "text": [
      "[6, 7, 8, 9, 1]\n",
      "[6, 3, 23, 17, 10]\n",
      "[10, 20, 42, 6]\n",
      "No list has been selected\n"
     ]
    }
   ],
   "source": [
    "#Question1 Write a function that takes a list and a number as arguments. Add the number to the end of the list, then remove the first element of the list. The function should then return the updated list.\n",
    "#Examples\n",
    "#next_in_line([5, 6, 7, 8, 9], 1) ➞ [6, 7, 8, 9, 1]\n",
    "#next_in_line([7, 6, 3, 23, 17], 10) ➞ [6, 3, 23, 17, 10]\n",
    "#next_in_line([1, 10, 20, 42 ], 6) ➞ [10, 20, 42, 6]\n",
    "#next_in_line([], 6) ➞ \"No list has been selected\"\n",
    "#Ans. Please find below the code:\n",
    "\n",
    "def next_in_line(lst, num):\n",
    "    if len(lst) == 0:\n",
    "        return \"No list has been selected\"\n",
    "    lst.pop(0)\n",
    "    lst.append(num)\n",
    "    return lst\n",
    "\n",
    "# Test cases\n",
    "print(next_in_line([5, 6, 7, 8, 9], 1))  # [6, 7, 8, 9, 1]\n",
    "print(next_in_line([7, 6, 3, 23, 17], 10))  # [6, 3, 23, 17, 10]\n",
    "print(next_in_line([1, 10, 20, 42], 6))  # [10, 20, 42, 6]\n",
    "print(next_in_line([], 6))  # \"No list has been selected\"\n"
   ]
  },
  {
   "cell_type": "code",
   "execution_count": 3,
   "id": "af50f4cf-2c4d-4613-aafc-b010ef36090e",
   "metadata": {},
   "outputs": [
    {
     "name": "stdout",
     "output_type": "stream",
     "text": [
      "65700\n",
      "62600\n"
     ]
    }
   ],
   "source": [
    "#Question2 Create the function that takes a list of dictionaries and returns the sum of people's budgets.\n",
    "#Examples\n",
    "#get_budgets([\n",
    "  #{ \"name\": \"John\", \"age\": 21, \"budget\": 23000 },\n",
    "  #{ \"name\": \"Steve\",  \"age\": 32, \"budget\": 40000 },\n",
    "  #{ \"name\": \"Martin\",  \"age\": 16, \"budget\": 2700 }\n",
    "#]) ➞ 65700\n",
    "\n",
    "#get_budgets([\n",
    "  #{ \"name\": \"John\",  \"age\": 21, \"budget\": 29000 },\n",
    "  #{ \"name\": \"Steve\",  \"age\": 32, \"budget\": 32000 },\n",
    "  #{ \"name\": \"Martin\",  \"age\": 16, \"budget\": 1600 }\n",
    "#]) ➞ 62600\n",
    "\n",
    "#Ans. Please find below the code:\n",
    "\n",
    "def get_budgets(lst):\n",
    "    return sum(person['budget'] for person in lst)\n",
    "\n",
    "# Test cases\n",
    "print(get_budgets([\n",
    "  { \"name\": \"John\", \"age\": 21, \"budget\": 23000 },\n",
    "  { \"name\": \"Steve\",  \"age\": 32, \"budget\": 40000 },\n",
    "  { \"name\": \"Martin\",  \"age\": 16, \"budget\": 2700 }\n",
    "]))  # 65700\n",
    "\n",
    "print(get_budgets([\n",
    "  { \"name\": \"John\",  \"age\": 21, \"budget\": 29000 },\n",
    "  { \"name\": \"Steve\",  \"age\": 32, \"budget\": 32000 },\n",
    "  { \"name\": \"Martin\",  \"age\": 16, \"budget\": 1600 }\n",
    "]))  # 62600\n"
   ]
  },
  {
   "cell_type": "code",
   "execution_count": 4,
   "id": "4e655065-3d3d-42d4-bf42-95678715ee27",
   "metadata": {},
   "outputs": [
    {
     "name": "stdout",
     "output_type": "stream",
     "text": [
      "ehllo\n",
      "abdeit\n",
      "acehkr\n",
      "eegk\n",
      "aacijprstv\n"
     ]
    }
   ],
   "source": [
    "#Question3 Create a function that takes a string and returns a string with its letters in alphabetical order.\n",
    "#Examples\n",
    "#alphabet_soup(\"hello\") ➞ \"ehllo\"\n",
    "#alphabet_soup(\"edabit\") ➞ \"abdeit\"\n",
    "#alphabet_soup(\"hacker\") ➞ \"acehkr\"\n",
    "#alphabet_soup(\"geek\") ➞ \"eegk\"\n",
    "#alphabet_soup(\"javascript\") ➞ \"aacijprstv\"\n",
    "#Ans. Please find below the code:\n",
    "\n",
    "def alphabet_soup(s):\n",
    "    return ''.join(sorted(s))\n",
    "\n",
    "# Test cases\n",
    "print(alphabet_soup(\"hello\"))  # \"ehllo\"\n",
    "print(alphabet_soup(\"edabit\"))  # \"abdeit\"\n",
    "print(alphabet_soup(\"hacker\"))  # \"acehkr\"\n",
    "print(alphabet_soup(\"geek\"))  # \"eegk\"\n",
    "print(alphabet_soup(\"javascript\"))  # \"aacijprstv\"\n"
   ]
  },
  {
   "cell_type": "code",
   "execution_count": 5,
   "id": "1c0e3422-0c6b-45c7-a3d8-6d3a7409ec6b",
   "metadata": {},
   "outputs": [
    {
     "name": "stdout",
     "output_type": "stream",
     "text": [
      "18193.97\n",
      "105.0\n",
      "15399.26\n",
      "2007316.26\n"
     ]
    }
   ],
   "source": [
    "#Question4 Suppose that you invest $10,000 for 10 years at an interest rate of 6% compounded monthly. What will be the value of your investment at the end of the 10 year period?\n",
    "#Create a function that accepts the principal p, the term in years t, the interest rate r, and the number of compounding periods per year n. The function returns the value at the end of term rounded to the nearest cent.\n",
    "#For the example above:\n",
    "#compound_interest(10000, 10, 0.06, 12) ➞ 18193.97\n",
    "#Note that the interest rate is given as a decimal and n=12 because with monthly compounding there are 12 periods per year. Compounding can also be done annually, quarterly, weekly, or daily.\n",
    "#Examples\n",
    "#compound_interest(100, 1, 0.05, 1) ➞ 105.0\n",
    "#compound_interest(3500, 15, 0.1, 4) ➞ 15399.26\n",
    "#compound_interest(100000, 20, 0.15, 365) ➞ 2007316.26\n",
    "#Ans. Please find below the code:\n",
    "\n",
    "def compound_interest(p, t, r, n):\n",
    "    amount = p * (1 + r/n)**(n*t)\n",
    "    return round(amount, 2)\n",
    "\n",
    "# Test cases\n",
    "print(compound_interest(10000, 10, 0.06, 12))  # 18193.97\n",
    "print(compound_interest(100, 1, 0.05, 1))  # 105.0\n",
    "print(compound_interest(3500, 15, 0.1, 4))  # 15399.26\n",
    "print(compound_interest(100000, 20, 0.15, 365))  # 2007316.26\n"
   ]
  },
  {
   "cell_type": "code",
   "execution_count": 6,
   "id": "2e072128-cbd5-4c01-aef9-e02ac5ede64c",
   "metadata": {},
   "outputs": [
    {
     "name": "stdout",
     "output_type": "stream",
     "text": [
      "[9, 2, 16]\n",
      "[81, 123]\n",
      "[10, 56, 20, 3]\n",
      "[True, 1]\n"
     ]
    }
   ],
   "source": [
    "#Question5 Write a function that takes a list of elements and returns only the integers.\n",
    "#Examples\n",
    "#return_only_integer([9, 2, \"space\", \"car\", \"lion\", 16]) ➞ [9, 2, 16]\n",
    "#return_only_integer([\"hello\", 81, \"basketball\", 123, \"fox\"]) ➞ [81, 123]\n",
    "#return_only_integer([10, \"121\", 56, 20, \"car\", 3, \"lion\"]) ➞ [10, 56, 20, 3]\n",
    "#return_only_integer([\"String\",  True,  3.3,  1]) ➞ [1]\n",
    "#Ans. Please find below the code:\n",
    "\n",
    "def return_only_integer(lst):\n",
    "    return [x for x in lst if isinstance(x, int)]\n",
    "\n",
    "# Test cases\n",
    "print(return_only_integer([9, 2, \"space\", \"car\", \"lion\", 16]))  # [9, 2, 16]\n",
    "print(return_only_integer([\"hello\", 81, \"basketball\", 123, \"fox\"]))  # [81, 123]\n",
    "print(return_only_integer([10, \"121\", 56, 20, \"car\", 3, \"lion\"]))  # [10, 56, 20, 3]\n",
    "print(return_only_integer([\"String\", True, 3.3, 1]))  # [1]\n"
   ]
  },
  {
   "cell_type": "code",
   "execution_count": null,
   "id": "64013b5b-fef0-467e-add4-2c702f0b33c6",
   "metadata": {},
   "outputs": [],
   "source": []
  }
 ],
 "metadata": {
  "kernelspec": {
   "display_name": "Python 3 (ipykernel)",
   "language": "python",
   "name": "python3"
  },
  "language_info": {
   "codemirror_mode": {
    "name": "ipython",
    "version": 3
   },
   "file_extension": ".py",
   "mimetype": "text/x-python",
   "name": "python",
   "nbconvert_exporter": "python",
   "pygments_lexer": "ipython3",
   "version": "3.10.6"
  }
 },
 "nbformat": 4,
 "nbformat_minor": 5
}

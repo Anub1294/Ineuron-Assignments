{
 "cells": [
  {
   "cell_type": "code",
   "execution_count": 1,
   "id": "0f3f2618-519a-427c-9967-dabe0007923c",
   "metadata": {},
   "outputs": [],
   "source": [
    "#ANSWERS"
   ]
  },
  {
   "cell_type": "code",
   "execution_count": 3,
   "id": "d2ba14cd-bffd-4f87-a43d-4b9bf4c3a60c",
   "metadata": {},
   "outputs": [
    {
     "name": "stdout",
     "output_type": "stream",
     "text": [
      "String saved to test.txt\n"
     ]
    }
   ],
   "source": [
    "#Q1. Set the variable test1 to the string 'This is a test of the emergency text system,' and save test1 to a file named test.txt.\n",
    "#Ans. Please find below the code:\n",
    "\n",
    "test1 = 'This is a test of the emergency text system.'\n",
    "\n",
    "# Save test1 to a file named test.txt\n",
    "with open('test.txt', 'w') as file:\n",
    "    file.write(test1)\n",
    "\n",
    "print(\"String saved to test.txt\")\n",
    "\n"
   ]
  },
  {
   "cell_type": "code",
   "execution_count": 4,
   "id": "5c257193-2894-4593-bcd8-ace6e8b75b54",
   "metadata": {},
   "outputs": [
    {
     "name": "stdout",
     "output_type": "stream",
     "text": [
      "True\n"
     ]
    }
   ],
   "source": [
    "#Q2. Read the contents of the file test.txt into the variable test2. Is there a difference between test 1 and test 2?\n",
    "#Ans. Please find below the code:\n",
    "\n",
    "with open('test.txt', 'r') as file:\n",
    "    test2 = file.read()\n",
    "# Check if there's any difference\n",
    "print(test1 == test2)  # Should print True\n"
   ]
  },
  {
   "cell_type": "code",
   "execution_count": 5,
   "id": "80a4b158-0a77-4021-a889-d732a2e3b36a",
   "metadata": {},
   "outputs": [
    {
     "name": "stdout",
     "output_type": "stream",
     "text": [
      "CSV file 'books.csv' created.\n"
     ]
    }
   ],
   "source": [
    "#Q3. Create a CSV file called books.csv by using these lines:\n",
    "#title,author,year\n",
    "#The Weirdstone of Brisingamen,Alan Garner,1960\n",
    "#Perdido Street Station,China Miéville,2000\n",
    "#Thud!,Terry Pratchett,2005\n",
    "#The Spellman Files,Lisa Lutz,2007\n",
    "#Small Gods,Terry Pratchett,1992\n",
    "\n",
    "#Ans.Please find below the code:\n",
    "csv_lines = [\n",
    "    \"title,author,year\",\n",
    "    \"The Weirdstone of Brisingamen,Alan Garner,1960\",\n",
    "    \"Perdido Street Station,China Miéville,2000\",\n",
    "    \"Thud!,Terry Pratchett,2005\",\n",
    "    \"The Spellman Files,Lisa Lutz,2007\",\n",
    "    \"Small Gods,Terry Pratchett,1992\"\n",
    "]\n",
    "\n",
    "# Save CSV lines to a file named books.csv\n",
    "with open('books.csv', 'w') as file:\n",
    "    for line in csv_lines:\n",
    "        file.write(line + '\\n')\n",
    "\n",
    "print(\"CSV file 'books.csv' created.\")\n"
   ]
  },
  {
   "cell_type": "code",
   "execution_count": 7,
   "id": "940da65b-a6d5-4bb3-a19e-908095fa0d0e",
   "metadata": {},
   "outputs": [
    {
     "name": "stdout",
     "output_type": "stream",
     "text": [
      "SQLite database 'books.db' created with the 'books' table.\n"
     ]
    }
   ],
   "source": [
    "#Q4. Use the sqlite3 module to create a SQLite database called books.db, and a table called books with these fields: title (text), author (text), and year (integer).\n",
    "#Ans. Please find below the code:\n",
    "\n",
    "import sqlite3\n",
    "\n",
    "# Connect to or create the database\n",
    "conn = sqlite3.connect('books.db')\n",
    "\n",
    "# Create a cursor\n",
    "cursor = conn.cursor()\n",
    "\n",
    "# Create the 'books' table with the specified fields\n",
    "cursor.execute('''\n",
    "    CREATE TABLE IF NOT EXISTS books (\n",
    "        title TEXT,\n",
    "        author TEXT,\n",
    "        year INTEGER\n",
    "    )\n",
    "''')\n",
    "\n",
    "# Commit the changes and close the connection\n",
    "conn.commit()\n",
    "conn.close()\n",
    "\n",
    "print(\"SQLite database 'books.db' created with the 'books' table.\")\n"
   ]
  },
  {
   "cell_type": "code",
   "execution_count": 9,
   "id": "3c44ccb8-19ec-4c54-8646-50ab934b2d26",
   "metadata": {},
   "outputs": [
    {
     "name": "stdout",
     "output_type": "stream",
     "text": [
      "Data from 'books.csv' inserted into the 'books' table in 'books.db'.\n"
     ]
    }
   ],
   "source": [
    "#Q5. Read books.csv and insert its data into the book table.\n",
    "#Ans. Please find below the code:\n",
    "\n",
    "import csv\n",
    "import sqlite3\n",
    "\n",
    "# Connect to the SQLite database\n",
    "conn = sqlite3.connect('books.db')\n",
    "cursor = conn.cursor()\n",
    "\n",
    "# Create the books table if it doesn't exist\n",
    "cursor.execute('''\n",
    "    CREATE TABLE IF NOT EXISTS books (\n",
    "        title TEXT,\n",
    "        author TEXT,\n",
    "        year INTEGER\n",
    "    )\n",
    "''')\n",
    "\n",
    "# Read data from books.csv and insert into the books table\n",
    "with open('books.csv', 'r') as file:\n",
    "    csv_reader = csv.reader(file)\n",
    "    next(csv_reader)  # Skip the header line\n",
    "    for row in csv_reader:\n",
    "        title, author, year = row\n",
    "        cursor.execute('INSERT INTO books VALUES (?, ?, ?)', (title, author, int(year)))\n",
    "\n",
    "# Commit the changes and close the connection\n",
    "conn.commit()\n",
    "conn.close()\n",
    "\n",
    "print(\"Data from 'books.csv' inserted into the 'books' table in 'books.db'.\")\n",
    "\n"
   ]
  },
  {
   "cell_type": "code",
   "execution_count": 10,
   "id": "68e1388a-aa71-43f8-a5b3-2156bd8026bb",
   "metadata": {},
   "outputs": [
    {
     "name": "stdout",
     "output_type": "stream",
     "text": [
      "Titles in alphabetical order:\n",
      "Perdido Street Station\n",
      "Perdido Street Station\n",
      "Small Gods\n",
      "Small Gods\n",
      "The Spellman Files\n",
      "The Spellman Files\n",
      "The Weirdstone of Brisingamen\n",
      "The Weirdstone of Brisingamen\n",
      "Thud!\n",
      "Thud!\n"
     ]
    }
   ],
   "source": [
    "#Q6. Select and print the title column from the book table in alphabetical order.\n",
    "#Ans. Please find below the code:\n",
    "\n",
    "import sqlite3\n",
    "\n",
    "# Connect to the SQLite database\n",
    "conn = sqlite3.connect('books.db')\n",
    "cursor = conn.cursor()\n",
    "\n",
    "# Select and print the title column in alphabetical order\n",
    "cursor.execute('SELECT title FROM books ORDER BY title ASC')\n",
    "titles = cursor.fetchall()\n",
    "\n",
    "print(\"Titles in alphabetical order:\")\n",
    "for title in titles:\n",
    "    print(title[0])\n",
    "\n",
    "# Close the connection\n",
    "conn.close()\n"
   ]
  },
  {
   "cell_type": "code",
   "execution_count": 11,
   "id": "f6869046-2ad7-425b-bdda-696e2f1a726d",
   "metadata": {},
   "outputs": [
    {
     "name": "stdout",
     "output_type": "stream",
     "text": [
      "Books in the order of publication:\n",
      "Title: The Weirdstone of Brisingamen\n",
      "Author: Alan Garner\n",
      "Year: 1960\n",
      "\n",
      "Title: The Weirdstone of Brisingamen\n",
      "Author: Alan Garner\n",
      "Year: 1960\n",
      "\n",
      "Title: Small Gods\n",
      "Author: Terry Pratchett\n",
      "Year: 1992\n",
      "\n",
      "Title: Small Gods\n",
      "Author: Terry Pratchett\n",
      "Year: 1992\n",
      "\n",
      "Title: Perdido Street Station\n",
      "Author: China Miéville\n",
      "Year: 2000\n",
      "\n",
      "Title: Perdido Street Station\n",
      "Author: China Miéville\n",
      "Year: 2000\n",
      "\n",
      "Title: Thud!\n",
      "Author: Terry Pratchett\n",
      "Year: 2005\n",
      "\n",
      "Title: Thud!\n",
      "Author: Terry Pratchett\n",
      "Year: 2005\n",
      "\n",
      "Title: The Spellman Files\n",
      "Author: Lisa Lutz\n",
      "Year: 2007\n",
      "\n",
      "Title: The Spellman Files\n",
      "Author: Lisa Lutz\n",
      "Year: 2007\n",
      "\n"
     ]
    }
   ],
   "source": [
    "#Q7. From the book table, select and print all columns in the order of publication.\n",
    "#Ans. Please find below the code:\n",
    "\n",
    "import sqlite3\n",
    "\n",
    "# Connect to the SQLite database\n",
    "conn = sqlite3.connect('books.db')\n",
    "cursor = conn.cursor()\n",
    "\n",
    "# Select and print all columns in the order of publication\n",
    "cursor.execute('SELECT * FROM books ORDER BY year ASC')\n",
    "books = cursor.fetchall()\n",
    "\n",
    "print(\"Books in the order of publication:\")\n",
    "for book in books:\n",
    "    print(\"Title:\", book[0])\n",
    "    print(\"Author:\", book[1])\n",
    "    print(\"Year:\", book[2])\n",
    "    print()\n",
    "\n",
    "# Close the connection\n",
    "conn.close()\n"
   ]
  },
  {
   "cell_type": "code",
   "execution_count": 12,
   "id": "63148654-453e-43b3-81e0-d1d0655df921",
   "metadata": {},
   "outputs": [
    {
     "name": "stdout",
     "output_type": "stream",
     "text": [
      "Books in the database:\n",
      "Title: The Weirdstone of Brisingamen\n",
      "Author: Alan Garner\n",
      "Year: 1960\n",
      "\n",
      "Title: Perdido Street Station\n",
      "Author: China Miéville\n",
      "Year: 2000\n",
      "\n",
      "Title: Thud!\n",
      "Author: Terry Pratchett\n",
      "Year: 2005\n",
      "\n",
      "Title: The Spellman Files\n",
      "Author: Lisa Lutz\n",
      "Year: 2007\n",
      "\n",
      "Title: Small Gods\n",
      "Author: Terry Pratchett\n",
      "Year: 1992\n",
      "\n",
      "Title: The Weirdstone of Brisingamen\n",
      "Author: Alan Garner\n",
      "Year: 1960\n",
      "\n",
      "Title: Perdido Street Station\n",
      "Author: China Miéville\n",
      "Year: 2000\n",
      "\n",
      "Title: Thud!\n",
      "Author: Terry Pratchett\n",
      "Year: 2005\n",
      "\n",
      "Title: The Spellman Files\n",
      "Author: Lisa Lutz\n",
      "Year: 2007\n",
      "\n",
      "Title: Small Gods\n",
      "Author: Terry Pratchett\n",
      "Year: 1992\n",
      "\n"
     ]
    }
   ],
   "source": [
    "#Q8. Use the sqlalchemy module to connect to the sqlite3 database books.db that you just made in exercise 6.\n",
    "#Ans. Please find below the code:\n",
    "\n",
    "from sqlalchemy import create_engine\n",
    "from sqlalchemy.orm import sessionmaker\n",
    "\n",
    "# Create an engine to connect to the SQLite database\n",
    "engine = create_engine('sqlite:///books.db')\n",
    "\n",
    "# Create a session to interact with the database\n",
    "Session = sessionmaker(bind=engine)\n",
    "session = Session()\n",
    "\n",
    "# Test the connection by querying the books table\n",
    "books = session.execute('SELECT * FROM books').fetchall()\n",
    "\n",
    "# Print the results\n",
    "print(\"Books in the database:\")\n",
    "for book in books:\n",
    "    print(\"Title:\", book.title)\n",
    "    print(\"Author:\", book.author)\n",
    "    print(\"Year:\", book.year)\n",
    "    print()\n",
    "\n",
    "# Close the session\n",
    "session.close()\n"
   ]
  },
  {
   "cell_type": "code",
   "execution_count": 25,
   "id": "5d2fe4d6-ff93-4e92-8677-d0bbce311a1c",
   "metadata": {},
   "outputs": [
    {
     "ename": "SyntaxError",
     "evalue": "invalid syntax (1495680086.py, line 4)",
     "output_type": "error",
     "traceback": [
      "\u001b[0;36m  Cell \u001b[0;32mIn [25], line 4\u001b[0;36m\u001b[0m\n\u001b[0;31m    pip install redis\u001b[0m\n\u001b[0m        ^\u001b[0m\n\u001b[0;31mSyntaxError\u001b[0m\u001b[0;31m:\u001b[0m invalid syntax\n"
     ]
    }
   ],
   "source": [
    "#Q9. Install the Redis server and the Python redis library (pip install redis) on your computer. Create a Redis hash called test with the fields count (1) and name ('Fester Bestertester'). Print all the fields for test.\n",
    "#Ans. Please find below the code:\n",
    "\n",
    "pip install redis\n",
    "import redis\n",
    "\n",
    "# Connect to the local Redis server\n",
    "redis_client = redis.StrictRedis(host='localhost', port=6379, db=0)\n",
    "\n",
    "# Create a Redis hash called \"test\" with the fields count and name\n",
    "redis_client.hset(\"test\", \"count\", 1)\n",
    "redis_client.hset(\"test\", \"name\", \"Fester Bestertester\")\n",
    "\n",
    "# Retrieve and print all fields from the \"test\" hash\n",
    "test_hash = redis_client.hgetall(\"test\")\n",
    "print(\"Fields in 'test' hash:\")\n",
    "for field, value in test_hash.items():\n",
    "    print(f\"{field}: {value.decode('utf-8')}\")\n",
    "\n"
   ]
  },
  {
   "cell_type": "code",
   "execution_count": 31,
   "id": "b67d3d06-0740-43c6-b47a-00afe18c2abf",
   "metadata": {},
   "outputs": [
    {
     "ename": "IndentationError",
     "evalue": "unexpected indent (2160819836.py, line 4)",
     "output_type": "error",
     "traceback": [
      "\u001b[0;36m  Cell \u001b[0;32mIn [31], line 4\u001b[0;36m\u001b[0m\n\u001b[0;31m    pip install redis\u001b[0m\n\u001b[0m    ^\u001b[0m\n\u001b[0;31mIndentationError\u001b[0m\u001b[0;31m:\u001b[0m unexpected indent\n"
     ]
    }
   ],
   "source": [
    "#Q10. Increment the count field of test and print it.\n",
    "#Ans. Please find below the code:\n",
    "\n",
    "pip install redis\n",
    "import redis\n",
    "\n",
    "# Connect to the local Redis server\n",
    "redis_client = redis.StrictRedis(host='localhost', port=6379, db=0)\n",
    "\n",
    "# Increment the count field of the \"test\" hash\n",
    "new_count = redis_client.hincrby(\"test\", \"count\", 1)\n",
    "\n",
    "# Print the updated count value\n",
    "print(\"Updated count:\", new_count)\n"
   ]
  },
  {
   "cell_type": "code",
   "execution_count": null,
   "id": "e47ccefa-462f-4675-ab2a-a2f2929e028c",
   "metadata": {},
   "outputs": [],
   "source": []
  }
 ],
 "metadata": {
  "kernelspec": {
   "display_name": "Python 3 (ipykernel)",
   "language": "python",
   "name": "python3"
  },
  "language_info": {
   "codemirror_mode": {
    "name": "ipython",
    "version": 3
   },
   "file_extension": ".py",
   "mimetype": "text/x-python",
   "name": "python",
   "nbconvert_exporter": "python",
   "pygments_lexer": "ipython3",
   "version": "3.10.6"
  }
 },
 "nbformat": 4,
 "nbformat_minor": 5
}

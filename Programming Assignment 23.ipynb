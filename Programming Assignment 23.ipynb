{
 "cells": [
  {
   "cell_type": "code",
   "execution_count": 1,
   "id": "30ce58cc-3fe5-4d51-b9c0-c022abd2ecfe",
   "metadata": {},
   "outputs": [],
   "source": [
    "#ANSWERS"
   ]
  },
  {
   "cell_type": "code",
   "execution_count": 2,
   "id": "aa3aa0f4-f8b2-4fc4-8e74-bfedde2f4623",
   "metadata": {},
   "outputs": [
    {
     "name": "stdout",
     "output_type": "stream",
     "text": [
      "True\n",
      "False\n",
      "True\n",
      "False\n",
      "True\n"
     ]
    }
   ],
   "source": [
    "#Question 1 Create a function that takes a number as an argument and returns True or False depending on whether the number is symmetrical or not. A number is symmetrical when it is the same as its reverse.\n",
    "#Examples\n",
    "#is_symmetrical(7227) ➞ True\n",
    "#is_symmetrical(12567) ➞ False\n",
    "#is_symmetrical(44444444) ➞ True\n",
    "#is_symmetrical(9939) ➞ False\n",
    "#is_symmetrical(1112111) ➞ True\n",
    "#Ans. Please find below the code:\n",
    "\n",
    "def is_symmetrical(num):\n",
    "    num_str = str(num)\n",
    "    return num_str == num_str[::-1]\n",
    "\n",
    "# Test cases\n",
    "print(is_symmetrical(7227))  # True\n",
    "print(is_symmetrical(12567))  # False\n",
    "print(is_symmetrical(44444444))  # True\n",
    "print(is_symmetrical(9939))  # False\n",
    "print(is_symmetrical(1112111))  # True\n"
   ]
  },
  {
   "cell_type": "code",
   "execution_count": 3,
   "id": "7d65c3b5-5fe1-4aa7-9fbd-2de815213d62",
   "metadata": {},
   "outputs": [
    {
     "name": "stdout",
     "output_type": "stream",
     "text": [
      "6\n",
      "24\n",
      "0\n",
      "-20\n"
     ]
    }
   ],
   "source": [
    "#Question 2 Given a string of numbers separated by a comma and space, return the product of the numbers.\n",
    "#Examples\n",
    "#multiply_nums(\"2, 3\") ➞ 6\n",
    "#multiply_nums(\"1, 2, 3, 4\") ➞ 24\n",
    "#multiply_nums(\"54, 75, 453, 0\") ➞ 0\n",
    "#multiply_nums(\"10, -2\") ➞ -20\n",
    "#Ans. Please find below the code:\n",
    "\n",
    "def multiply_nums(nums_str):\n",
    "    nums = [int(num) for num in nums_str.replace(\" \", \"\").split(\",\")]\n",
    "    product = 1\n",
    "    for num in nums:\n",
    "        product *= num\n",
    "    return product\n",
    "\n",
    "# Test cases\n",
    "print(multiply_nums(\"2, 3\"))  # 6\n",
    "print(multiply_nums(\"1, 2, 3, 4\"))  # 24\n",
    "print(multiply_nums(\"54, 75, 453, 0\"))  # 0\n",
    "print(multiply_nums(\"10, -2\"))  # -20\n"
   ]
  },
  {
   "cell_type": "code",
   "execution_count": 4,
   "id": "891f3b87-4bd9-4ae8-afcf-f88127dae94d",
   "metadata": {},
   "outputs": [
    {
     "name": "stdout",
     "output_type": "stream",
     "text": [
      "811181\n",
      "416649\n",
      "9414\n"
     ]
    }
   ],
   "source": [
    "#Question 3 Create a function that squares every digit of a number.\n",
    "#Examples\n",
    "#square_digits(9119) ➞ 811181\n",
    "#square_digits(2483) ➞ 416649\n",
    "#square_digits(3212) ➞ 9414\n",
    "#Notes\n",
    "#The function receives an integer and must return an integer.\n",
    "#Ans. Please find below the code:\n",
    "\n",
    "def square_digits(num):\n",
    "    num_str = str(num)\n",
    "    squared_digits = [int(digit) ** 2 for digit in num_str]\n",
    "    squared_num = int(''.join(map(str, squared_digits)))\n",
    "    return squared_num\n",
    "\n",
    "# Test cases\n",
    "print(square_digits(9119))  # 811181\n",
    "print(square_digits(2483))  # 416649\n",
    "print(square_digits(3212))  # 9414\n"
   ]
  },
  {
   "cell_type": "code",
   "execution_count": 5,
   "id": "30a66e3c-5bb4-4faf-8d83-08a459316999",
   "metadata": {},
   "outputs": [
    {
     "name": "stdout",
     "output_type": "stream",
     "text": [
      "[1, 3, 5]\n",
      "[4]\n",
      "[5, 7, 8, 9, 10, 15]\n",
      "[1, 2, 3]\n"
     ]
    }
   ],
   "source": [
    "#Question 4 Create a function that sorts a list and removes all duplicate items from it.\n",
    "#Examples\n",
    "#setify([1, 3, 3, 5, 5]) ➞ [1, 3, 5]\n",
    "#setify([4, 4, 4, 4]) ➞ [4]\n",
    "#setify([5, 7, 8, 9, 10, 15]) ➞ [5, 7, 8, 9, 10, 15]\n",
    "#setify([3, 3, 3, 2, 1]) ➞ [1, 2, 3]\n",
    "#Ans. Please find below the code:\n",
    "\n",
    "def setify(lst):\n",
    "    return sorted(list(set(lst)))\n",
    "\n",
    "# Test cases\n",
    "print(setify([1, 3, 3, 5, 5]))  # [1, 3, 5]\n",
    "print(setify([4, 4, 4, 4]))  # [4]\n",
    "print(setify([5, 7, 8, 9, 10, 15]))  # [5, 7, 8, 9, 10, 15]\n",
    "print(setify([3, 3, 3, 2, 1]))  # [1, 2, 3]\n"
   ]
  },
  {
   "cell_type": "code",
   "execution_count": 6,
   "id": "ff47214f-b6c3-42af-bc18-b244b2920fcc",
   "metadata": {},
   "outputs": [
    {
     "name": "stdout",
     "output_type": "stream",
     "text": [
      "3\n",
      "3\n",
      "6\n"
     ]
    }
   ],
   "source": [
    "#Question 5 Create a function that returns the mean of all digits.\n",
    "#Examples\n",
    "#mean(42) ➞ 3\n",
    "#mean(12345) ➞ 3\n",
    "#mean(666) ➞ 6\n",
    "#Notes\n",
    "#•\tThe mean of all digits is the sum of digits / how many digits there are (e.g. mean of digits in 512 is (5+1+2)/3(number of digits) = 8/3=2).\n",
    "#•\tThe mean will always be an integer.\n",
    "#Ans. Please find below the code:\n",
    "\n",
    "def mean(num):\n",
    "    num_str = str(num)\n",
    "    sum_digits = sum(int(digit) for digit in num_str)\n",
    "    mean_value = sum_digits / len(num_str)\n",
    "    return int(mean_value)\n",
    "\n",
    "# Test cases\n",
    "print(mean(42))  # 3\n",
    "print(mean(12345))  # 3\n",
    "print(mean(666))  # 6\n"
   ]
  },
  {
   "cell_type": "code",
   "execution_count": null,
   "id": "9fad04cd-4f82-4f1d-9716-426047a77f06",
   "metadata": {},
   "outputs": [],
   "source": []
  }
 ],
 "metadata": {
  "kernelspec": {
   "display_name": "Python 3 (ipykernel)",
   "language": "python",
   "name": "python3"
  },
  "language_info": {
   "codemirror_mode": {
    "name": "ipython",
    "version": 3
   },
   "file_extension": ".py",
   "mimetype": "text/x-python",
   "name": "python",
   "nbconvert_exporter": "python",
   "pygments_lexer": "ipython3",
   "version": "3.10.6"
  }
 },
 "nbformat": 4,
 "nbformat_minor": 5
}

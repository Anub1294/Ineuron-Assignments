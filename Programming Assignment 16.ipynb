{
 "cells": [
  {
   "cell_type": "code",
   "execution_count": 1,
   "id": "5b16bae7-57d7-4ae1-b79f-3336f67d4f60",
   "metadata": {},
   "outputs": [],
   "source": [
    "#ANSWERS"
   ]
  },
  {
   "cell_type": "code",
   "execution_count": 3,
   "id": "0ece541d-e605-4668-abf0-e1549fef53de",
   "metadata": {},
   "outputs": [
    {
     "name": "stdout",
     "output_type": "stream",
     "text": [
      "in... in... incredible?\n",
      "en... en... enthusiastic?\n",
      "ou... ou... outstanding?\n"
     ]
    }
   ],
   "source": [
    "#Question1. Write a function that stutters a word as if someone is struggling to read it. The first two letters are repeated twice with an ellipsis ... and space after each, and then the word is pronounced with a question mark ?.\n",
    "#Examples\n",
    "#stutter(\"incredible\") ➞ \"in... in... incredible?\"\n",
    "#stutter(\"enthusiastic\") ➞ \"en... en... enthusiastic?\"\n",
    "#stutter(\"outstanding\") ➞ \"ou... ou... outstanding?\"\n",
    "#Hint :- Assume all input is in lower case and at least two characters long.\n",
    "#Ans. Please find below the code:\n",
    "\n",
    "def stutter(word):\n",
    "    first_two_letters = word[:2]\n",
    "    stuttered_word = f\"{first_two_letters}... {first_two_letters}... {word}?\"\n",
    "    return stuttered_word\n",
    "\n",
    "# Test cases\n",
    "print(stutter(\"incredible\"))  # \"in... in... incredible?\"\n",
    "print(stutter(\"enthusiastic\"))  # \"en... en... enthusiastic?\"\n",
    "print(stutter(\"outstanding\"))  # \"ou... ou... outstanding?\"\n"
   ]
  },
  {
   "cell_type": "code",
   "execution_count": 4,
   "id": "5060caba-a5ce-44e7-9946-91bed5c084b7",
   "metadata": {},
   "outputs": [
    {
     "name": "stdout",
     "output_type": "stream",
     "text": [
      "57.3\n",
      "1145.9\n",
      "2864.8\n"
     ]
    }
   ],
   "source": [
    "#Question 2.Create a function that takes an angle in radians and returns the corresponding angle in degrees rounded to one decimal place.\n",
    "#Examples\n",
    "#radians_to_degrees(1) ➞ 57.3\n",
    "#radians_to_degrees(20) ➞ 1145.9\n",
    "#radians_to_degrees(50) ➞ 2864.8\n",
    "#Ans. Please find below the code:\n",
    "\n",
    "import math\n",
    "\n",
    "def radians_to_degrees(radians):\n",
    "    degrees = radians * (180 / math.pi)\n",
    "    return round(degrees, 1)\n",
    "\n",
    "# Test cases\n",
    "print(radians_to_degrees(1))  # 57.3\n",
    "print(radians_to_degrees(20))  # 1145.9\n",
    "print(radians_to_degrees(50))  # 2864.8\n"
   ]
  },
  {
   "cell_type": "code",
   "execution_count": 5,
   "id": "8c6ab010-be85-4a12-b7da-d4135fcc8087",
   "metadata": {},
   "outputs": [
    {
     "name": "stdout",
     "output_type": "stream",
     "text": [
      "True\n",
      "False\n",
      "True\n"
     ]
    }
   ],
   "source": [
    "#Question 3. In this challenge, establish if a given integer num is a Curzon number. If 1 plus 2 elevated to num is exactly divisible by 1 plus 2 multiplied by num, then num is a Curzon number.\n",
    "#Given a non-negative integer num, implement a function that returns True if num is a Curzon number, or False otherwise.\n",
    "#Examples\n",
    "#is_curzon(5) ➞ True\n",
    "# 2 ** 5 + 1 = 33\n",
    "# 2 * 5 + 1 = 11\n",
    "# 33 is a multiple of 11\n",
    "\n",
    "#is_curzon(10) ➞ False\n",
    "# 2 ** 10 + 1 = 1025\n",
    "# 2 * 10 + 1 = 21\n",
    "# 1025 is not a multiple of 21\n",
    "\n",
    "#is_curzon(14) ➞ True\n",
    "# 2 ** 14 + 1 = 16385\n",
    "# 2 * 14 + 1 = 29\n",
    "# 16385 is a multiple of 29\n",
    "\n",
    "#Ans. Please find below the code:\n",
    "\n",
    "def is_curzon(num):\n",
    "    numerator = 2 ** num + 1\n",
    "    denominator = 2 * num + 1\n",
    "    return numerator % denominator == 0\n",
    "\n",
    "# Test cases\n",
    "print(is_curzon(5))  # True\n",
    "print(is_curzon(10))  # False\n",
    "print(is_curzon(14))  # True\n"
   ]
  },
  {
   "cell_type": "code",
   "execution_count": 6,
   "id": "d8abe67c-bb0b-4f5e-a1e1-624e5a4cc2c4",
   "metadata": {},
   "outputs": [
    {
     "name": "stdout",
     "output_type": "stream",
     "text": [
      "2.6\n",
      "10.4\n",
      "23.4\n"
     ]
    }
   ],
   "source": [
    "#Question 4.Given the side length x find the area of a hexagon. \n",
    "#Examples\n",
    "#area_of_hexagon(1) ➞ 2.6\n",
    "#area_of_hexagon(2) ➞ 10.4\n",
    "#area_of_hexagon(3) ➞ 23.4\n",
    "#Ans. Please find below the code:\n",
    "\n",
    "def area_of_hexagon(x):\n",
    "    area = (3 * math.sqrt(3) * (x ** 2)) / 2\n",
    "    return round(area, 1)\n",
    "\n",
    "# Test cases\n",
    "print(area_of_hexagon(1))  # 2.6\n",
    "print(area_of_hexagon(2))  # 10.4\n",
    "print(area_of_hexagon(3))  # 23.4\n"
   ]
  },
  {
   "cell_type": "code",
   "execution_count": 7,
   "id": "8d48addd-a67f-4471-af42-1132dffa7935",
   "metadata": {},
   "outputs": [
    {
     "name": "stdout",
     "output_type": "stream",
     "text": [
      "1\n",
      "101\n",
      "1010\n"
     ]
    }
   ],
   "source": [
    "#Question 5. Create a function that returns a base-2 (binary) representation of a base-10 (decimal) string number. To convert is simple: ((2) means base-2 and (10) means base-10) 010101001(2) = 1 + 8 + 32 + 128.\n",
    "#Going from right to left, the value of the most right bit is 1, now from that every bit to the left will be x2 the value, value of an 8 bit binary numbers are (256, 128, 64, 32, 16, 8, 4, 2, 1).\n",
    "#Examples\n",
    "#binary(1) ➞ \"1\"\n",
    "# 1*1 = 1\n",
    "\n",
    "#binary(5) ➞ \"101\"\n",
    "# 1*1 + 1*4 = 5\n",
    "\n",
    "#binary(10) ➞ \"1010\"\n",
    "# 1*2 + 1*8 = 10\n",
    "\n",
    "#Ans. Please find below the code:\n",
    "\n",
    "def binary(decimal):\n",
    "    binary_representation = \"\"\n",
    "    bit_value = 1\n",
    "    \n",
    "    while decimal > 0:\n",
    "        if decimal % 2 == 1:\n",
    "            binary_representation = \"1\" + binary_representation\n",
    "        else:\n",
    "            binary_representation = \"0\" + binary_representation\n",
    "        \n",
    "        decimal //= 2\n",
    "        bit_value *= 2\n",
    "    \n",
    "    return binary_representation\n",
    "\n",
    "# Test cases\n",
    "print(binary(1))  # \"1\"\n",
    "print(binary(5))  # \"101\"\n",
    "print(binary(10))  # \"1010\"\n"
   ]
  },
  {
   "cell_type": "code",
   "execution_count": null,
   "id": "9d05278a-94be-4715-b856-5884d9d0132c",
   "metadata": {},
   "outputs": [],
   "source": []
  }
 ],
 "metadata": {
  "kernelspec": {
   "display_name": "Python 3 (ipykernel)",
   "language": "python",
   "name": "python3"
  },
  "language_info": {
   "codemirror_mode": {
    "name": "ipython",
    "version": 3
   },
   "file_extension": ".py",
   "mimetype": "text/x-python",
   "name": "python",
   "nbconvert_exporter": "python",
   "pygments_lexer": "ipython3",
   "version": "3.10.6"
  }
 },
 "nbformat": 4,
 "nbformat_minor": 5
}

{
 "cells": [
  {
   "cell_type": "code",
   "execution_count": 1,
   "id": "8f028dbd-ec9f-4053-84d7-0c0c410fc6ef",
   "metadata": {},
   "outputs": [],
   "source": [
    "#ANSWERS"
   ]
  },
  {
   "cell_type": "code",
   "execution_count": 2,
   "id": "bdae3dda-cbf2-4f3a-876b-0f8bd8891f4a",
   "metadata": {},
   "outputs": [
    {
     "name": "stdout",
     "output_type": "stream",
     "text": [
      "0\n",
      "30\n",
      "18\n"
     ]
    }
   ],
   "source": [
    "#Question1. Create a function that takes three arguments a, b, c and returns the sum of the numbers that are evenly divided by c from the range a, b inclusive.\n",
    "#Examples\n",
    "#evenly_divisible(1, 10, 20) ➞ 0\n",
    "# No number between 1 and 10 can be evenly divided by 20.\n",
    "\n",
    "#evenly_divisible(1, 10, 2) ➞ 30\n",
    "# 2 + 4 + 6 + 8 + 10 = 30\n",
    "\n",
    "#evenly_divisible(1, 10, 3) ➞ 18\n",
    "# 3 + 6 + 9 = 18\n",
    "\n",
    "#Ans. Please find below the code:\n",
    "\n",
    "def evenly_divisible(a, b, c):\n",
    "    total = 0\n",
    "    for num in range(a, b + 1):\n",
    "        if num % c == 0:\n",
    "            total += num\n",
    "    return total\n",
    "\n",
    "# Test cases\n",
    "print(evenly_divisible(1, 10, 20))  # 0\n",
    "print(evenly_divisible(1, 10, 2))  # 30\n",
    "print(evenly_divisible(1, 10, 3))  # 18\n"
   ]
  },
  {
   "cell_type": "code",
   "execution_count": 3,
   "id": "dbf7fdae-1d78-4953-b1ce-796fdf2c012f",
   "metadata": {},
   "outputs": [
    {
     "name": "stdout",
     "output_type": "stream",
     "text": [
      "True\n",
      "False\n",
      "True\n"
     ]
    }
   ],
   "source": [
    "#Question2. Create a function that returns True if a given inequality expression is correct and False otherwise.\n",
    "#Examples\n",
    "#correct_signs(\"3 < 7 < 11\") ➞ True\n",
    "#correct_signs(\"13 > 44 > 33 > 1\") ➞ False\n",
    "#correct_signs(\"1 < 2 < 6 < 9 > 3\") ➞ True\n",
    "#Ans. Please find below the code:\n",
    "\n",
    "def correct_signs(expression):\n",
    "    return eval(expression)\n",
    "\n",
    "# Test cases\n",
    "print(correct_signs(\"3 < 7 < 11\"))  # True\n",
    "print(correct_signs(\"13 > 44 > 33 > 1\"))  # False\n",
    "print(correct_signs(\"1 < 2 < 6 < 9 > 3\"))  # True\n"
   ]
  },
  {
   "cell_type": "code",
   "execution_count": 4,
   "id": "3f1f8eb0-40d7-42c6-9bb7-c51e72ba9599",
   "metadata": {},
   "outputs": [
    {
     "name": "stdout",
     "output_type": "stream",
     "text": [
      "th# ##rdv#rk\n",
      "m?nn?? m??s?\n",
      "sh*k*sp**r*\n"
     ]
    }
   ],
   "source": [
    "#Question3. Create a function that replaces all the vowels in a string with a specified character.\n",
    "#Examples\n",
    "#replace_vowels(\"the aardvark\", \"#\") ➞ \"th# ##rdv#rk\"\n",
    "#replace_vowels(\"minnie mouse\", \"?\") ➞ \"m?nn?? m??s?\"\n",
    "#replace_vowels(\"shakespeare\", \"*\") ➞ \"sh*k*sp**r*\"\n",
    "#Ans. Please find below the code:\n",
    "\n",
    "def replace_vowels(s, char):\n",
    "    vowels = \"aeiouAEIOU\"\n",
    "    result = \"\"\n",
    "    for letter in s:\n",
    "        if letter in vowels:\n",
    "            result += char\n",
    "        else:\n",
    "            result += letter\n",
    "    return result\n",
    "\n",
    "# Test cases\n",
    "print(replace_vowels(\"the aardvark\", \"#\"))  # \"th# ##rdv#rk\"\n",
    "print(replace_vowels(\"minnie mouse\", \"?\"))  # \"m?nn?? m??s?\"\n",
    "print(replace_vowels(\"shakespeare\", \"*\"))  # \"sh*k*sp**r*\"\n"
   ]
  },
  {
   "cell_type": "code",
   "execution_count": 5,
   "id": "24f41ce1-fec8-4d8b-a9e1-3235112eb7cd",
   "metadata": {},
   "outputs": [
    {
     "name": "stdout",
     "output_type": "stream",
     "text": [
      "120\n",
      "6\n",
      "1\n",
      "1\n"
     ]
    }
   ],
   "source": [
    "#Question4. Write a function that calculates the factorial of a number recursively.\n",
    "#Examples\n",
    "#factorial(5) ➞ 120\n",
    "#factorial(3) ➞ 6\n",
    "#factorial(1) ➞ 1\n",
    "#factorial(0) ➞ 1\n",
    "#Ans. Please find below the code:\n",
    "\n",
    "def factorial(n):\n",
    "    if n == 0 or n == 1:\n",
    "        return 1\n",
    "    else:\n",
    "        return n * factorial(n - 1)\n",
    "\n",
    "# Test cases\n",
    "print(factorial(5))  # 120\n",
    "print(factorial(3))  # 6\n",
    "print(factorial(1))  # 1\n",
    "print(factorial(0))  # 1\n"
   ]
  },
  {
   "cell_type": "code",
   "execution_count": 6,
   "id": "9883877e-4273-45e2-ac89-a3548030da4a",
   "metadata": {},
   "outputs": [
    {
     "name": "stdout",
     "output_type": "stream",
     "text": [
      "5\n",
      "0\n",
      "1\n"
     ]
    }
   ],
   "source": [
    "#Question 5 Hamming distance is the number of characters that differ between two strings.\n",
    "#To illustrate:\n",
    "#String1: \"abcbba\"\n",
    "#String2: \"abcbda\"\n",
    "\n",
    "#Hamming Distance: 1 - \"b\" vs. \"d\" is the only difference.\n",
    "#Create a function that computes the hamming distance between two strings.\n",
    "#Examples\n",
    "#hamming_distance(\"abcde\", \"bcdef\") ➞ 5\n",
    "#hamming_distance(\"abcde\", \"abcde\") ➞ 0\n",
    "#hamming_distance(\"strong\", \"strung\") ➞ 1\n",
    "\n",
    "#Ans. Please find below the code:\n",
    "\n",
    "def hamming_distance(str1, str2):\n",
    "    if len(str1) != len(str2):\n",
    "        raise ValueError(\"Strings must have the same length\")\n",
    "    \n",
    "    distance = 0\n",
    "    for i in range(len(str1)):\n",
    "        if str1[i] != str2[i]:\n",
    "            distance += 1\n",
    "    return distance\n",
    "\n",
    "# Test cases\n",
    "print(hamming_distance(\"abcde\", \"bcdef\"))  # 5\n",
    "print(hamming_distance(\"abcde\", \"abcde\"))  # 0\n",
    "print(hamming_distance(\"strong\", \"strung\"))  # 1\n"
   ]
  },
  {
   "cell_type": "code",
   "execution_count": null,
   "id": "99fd5519-ebd5-4877-b381-ae22c6d47023",
   "metadata": {},
   "outputs": [],
   "source": []
  }
 ],
 "metadata": {
  "kernelspec": {
   "display_name": "Python 3 (ipykernel)",
   "language": "python",
   "name": "python3"
  },
  "language_info": {
   "codemirror_mode": {
    "name": "ipython",
    "version": 3
   },
   "file_extension": ".py",
   "mimetype": "text/x-python",
   "name": "python",
   "nbconvert_exporter": "python",
   "pygments_lexer": "ipython3",
   "version": "3.10.6"
  }
 },
 "nbformat": 4,
 "nbformat_minor": 5
}
